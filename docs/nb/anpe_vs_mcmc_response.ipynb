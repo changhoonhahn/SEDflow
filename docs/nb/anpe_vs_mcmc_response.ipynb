{
 "cells": [
  {
   "cell_type": "markdown",
   "metadata": {},
   "source": [
    "I accidentally deleted everything. Here's my attempt to reconstruct one of the figures I made in the past"
   ]
  },
  {
   "cell_type": "code",
   "execution_count": 1,
   "metadata": {},
   "outputs": [],
   "source": [
    "import os\n",
    "import numpy as np \n",
    "from scipy import stats\n",
    "from sedflow import obs as Obs\n",
    "from sedflow import train as Train"
   ]
  },
  {
   "cell_type": "code",
   "execution_count": 2,
   "metadata": {},
   "outputs": [],
   "source": [
    "from IPython.display import IFrame\n",
    "# --- plotting --- \n",
    "import corner as DFM\n",
    "import matplotlib as mpl\n",
    "import matplotlib.pyplot as plt\n",
    "#mpl.use('PDF')\n",
    "#mpl.rcParams['text.usetex'] = True\n",
    "mpl.rcParams['font.family'] = 'serif'\n",
    "mpl.rcParams['axes.linewidth'] = 1.5\n",
    "mpl.rcParams['axes.xmargin'] = 1\n",
    "mpl.rcParams['xtick.labelsize'] = 'x-large'\n",
    "mpl.rcParams['xtick.major.size'] = 5\n",
    "mpl.rcParams['xtick.major.width'] = 1.5\n",
    "mpl.rcParams['ytick.labelsize'] = 'x-large'\n",
    "mpl.rcParams['ytick.major.size'] = 5\n",
    "mpl.rcParams['ytick.major.width'] = 1.5\n",
    "mpl.rcParams['legend.frameon'] = False"
   ]
  },
  {
   "cell_type": "code",
   "execution_count": 3,
   "metadata": {},
   "outputs": [],
   "source": [
    "import torch\n",
    "import torch.nn as nn \n",
    "import torch.nn.functional as F \n",
    "from sbi import utils as Ut\n",
    "from sbi import inference as Inference"
   ]
  },
  {
   "cell_type": "code",
   "execution_count": 4,
   "metadata": {},
   "outputs": [],
   "source": [
    "def dirichlet_transform(tt): \n",
    "    ''' warped manifold transformation as specified in Betancourt (2013).\n",
    "    This function transforms samples from a uniform distribution to a\n",
    "    Dirichlet distribution .\n",
    "\n",
    "    x_i = (\\prod\\limits_{k=1}^{i-1} z_k) * f \n",
    "\n",
    "    f = 1 - z_i         for i < m\n",
    "    f = 1               for i = m \n",
    "\n",
    "    Parameters\n",
    "    ----------\n",
    "    tt : array_like[N,m-1]\n",
    "        N samples drawn from a (m-1)-dimensional uniform distribution \n",
    "\n",
    "    Returns\n",
    "    -------\n",
    "    tt_d : array_like[N,m]\n",
    "        N transformed samples drawn from a m-dimensional dirichlet\n",
    "        distribution \n",
    "\n",
    "    Reference\n",
    "    ---------\n",
    "    * Betancourt(2013) - https://arxiv.org/pdf/1010.3436.pdf\n",
    "    '''\n",
    "    tt_d = np.empty(tt.shape[:-1]+(tt.shape[1]+1,)) \n",
    "\n",
    "    tt_d[...,0] = 1. - tt[...,0]\n",
    "    for i in range(1,tt.shape[1]): \n",
    "        tt_d[...,i] = np.prod(tt[...,:i], axis=-1) * (1. - tt[...,i]) \n",
    "    tt_d[...,-1] = np.prod(tt, axis=-1) \n",
    "    return tt_d "
   ]
  },
  {
   "cell_type": "markdown",
   "metadata": {},
   "source": [
    "# Comparison of ANPE vs MCMC posterior for single galaxy"
   ]
  },
  {
   "cell_type": "code",
   "execution_count": 5,
   "metadata": {},
   "outputs": [],
   "source": [
    "prior_low = [7, 0., 0., 0., 0., 1e-2, np.log10(4.5e-5), np.log10(4.5e-5), 0, 0., -2.]\n",
    "prior_high = [12.5, 1., 1., 1., 1., 13.27, np.log10(1.5e-2), np.log10(1.5e-2), 3., 3., 1.]\n",
    "lower_bounds = torch.tensor(prior_low)\n",
    "upper_bounds = torch.tensor(prior_high)\n",
    "\n",
    "prior = Ut.BoxUniform(low=lower_bounds, high=upper_bounds, device='cpu')"
   ]
  },
  {
   "cell_type": "markdown",
   "metadata": {},
   "source": [
    "fanpe = '/scratch/network/chhahn/sedflow/anpe_thetaunt_magsigz.toy.%s.pt' % arch\n",
    "\n",
    "anpe = Inference.SNPE(prior=prior, density_estimator=Ut.posterior_nn('maf', hidden_features=500, num_transforms=15), device='cpu')\n",
    "anpe.append_simulations(\n",
    "    torch.as_tensor(_x_test.astype(np.float32)), \n",
    "    torch.as_tensor(y_test.astype(np.float32)))\n",
    "\n",
    "p_x_y_estimator = anpe._build_neural_net(torch.as_tensor(_x_test.astype(np.float32)), torch.as_tensor(y_test.astype(np.float32)))\n",
    "p_x_y_estimator.load_state_dict(torch.load(fanpe))\n",
    "\n",
    "anpe._x_shape = Ut.x_shape_from_simulation(torch.as_tensor(y_test.astype(np.float32)))"
   ]
  },
  {
   "cell_type": "markdown",
   "metadata": {},
   "source": [
    "hatp_x_y = anpe.build_posterior(p_x_y_estimator)"
   ]
  },
  {
   "cell_type": "markdown",
   "metadata": {},
   "source": [
    "# Load NSA data and MCMC posteriors"
   ]
  },
  {
   "cell_type": "code",
   "execution_count": 6,
   "metadata": {},
   "outputs": [
    {
     "name": "stderr",
     "output_type": "stream",
     "text": [
      "/home/chhahn/projects/SEDflow/src/sedflow/train.py:106: RuntimeWarning: invalid value encountered in log10\n",
      "  return 22.5 - 2.5 * np.log10(flux)\n"
     ]
    }
   ],
   "source": [
    "nsa, _ = Obs.NSA()\n",
    "\n",
    "flux_nsa = nsa['NMGY'][:,2:]\n",
    "ivar_nsa = nsa['NMGY_IVAR'][:,2:]\n",
    "\n",
    "zred_nsa = nsa['Z']\n",
    "\n",
    "mags_nsa = Train.flux2mag(flux_nsa)\n",
    "sigs_nsa = Train.sigma_flux2mag(ivar_nsa**-0.5, flux_nsa)\n",
    "\n",
    "y_nsa = np.concatenate([mags_nsa, sigs_nsa, zred_nsa[:,None]], axis=1)"
   ]
  },
  {
   "cell_type": "code",
   "execution_count": 7,
   "metadata": {},
   "outputs": [],
   "source": [
    "arch = '500x15.2'\n",
    "anpe_samples = np.load('/scratch/network/chhahn/sedflow/anpe_thetaunt_magsigz.toy.%s.nsa0of34.samples.npy' % arch)"
   ]
  },
  {
   "cell_type": "code",
   "execution_count": 8,
   "metadata": {},
   "outputs": [
    {
     "name": "stderr",
     "output_type": "stream",
     "text": [
      "/home/chhahn/projects/provabgs/src/provabgs/models.py:23: UserWarning: import error with fsps; only use emulators\n",
      "  warnings.warn('import error with fsps; only use emulators')\n"
     ]
    },
    {
     "name": "stdout",
     "output_type": "stream",
     "text": [
      "input parameters : logmstar, beta1_sfh, beta2_sfh, beta3_sfh, beta4_sfh, fburst, tburst, gamma1_zh, gamma2_zh, dust1, dust2, dust_index\n"
     ]
    }
   ],
   "source": [
    "from provabgs import models as Models\n",
    "\n",
    "nsa_filters = Train.photometry_bands()\n",
    "\n",
    "m_sps = Models.NMF(burst=True, emulator=True)"
   ]
  },
  {
   "cell_type": "code",
   "execution_count": 9,
   "metadata": {},
   "outputs": [
    {
     "name": "stdout",
     "output_type": "stream",
     "text": [
      "26\n"
     ]
    }
   ],
   "source": [
    "#i_nsa = 25\n",
    "i_nsa = 10\n",
    "print(nsa['NSAID'][i_nsa])"
   ]
  },
  {
   "cell_type": "code",
   "execution_count": 10,
   "metadata": {},
   "outputs": [],
   "source": [
    "c_light = 2.998e18\n",
    "jansky_cgs = 1e-23\n",
    "\n",
    "lambda_sdss = np.array([3543., 4770., 6231., 7625., 9134.])\n",
    "\n",
    "flux_nsa_conv = flux_nsa[i_nsa] * 1e-9 * 1e17 * c_light / lambda_sdss**2 * (3631. * jansky_cgs) # convert to 10^-17 ergs/s/cm^2/Ang\n",
    "ivar_nsa_conv = ivar_nsa[i_nsa] * (1e-9 * 1e17 * c_light / lambda_sdss**2 * (3631. * jansky_cgs))**-2.\n"
   ]
  },
  {
   "cell_type": "code",
   "execution_count": 11,
   "metadata": {},
   "outputs": [],
   "source": [
    "dir_mcmc = '/scratch/network/chhahn/arcoiris/sedflow/mcmc_nsa_redo/'\n",
    "\n",
    "_anpe = anpe_samples[i_nsa]#np.array(hatp_x_y.sample((10000,), x=torch.as_tensor(y_nsa[i_nsa,:]), show_progress_bars=True))\n",
    "anpe = np.zeros((_anpe.shape[0], _anpe.shape[1]+1))\n",
    "anpe[:,0] = _anpe[:,0]\n",
    "# transform back to dirichlet space\n",
    "anpe[:,1:5] = dirichlet_transform(_anpe[:,1:4])\n",
    "anpe[:,5:] = _anpe[:,4:]    \n",
    "\n",
    "_mcmc = np.load(os.path.join(dir_mcmc, 'mcmc.nsa.%i.npy' % i_nsa))\n",
    "_mcmc = Train.flatten_chain(_mcmc[4000:])\n",
    "mcmc = np.zeros((_mcmc.shape[0], _mcmc.shape[1]+1))\n",
    "mcmc[:,0] = _mcmc[:,0]\n",
    "# transform back to dirichlet space\n",
    "mcmc[:,1:5] = dirichlet_transform(_mcmc[:,1:4])\n",
    "mcmc[:,5:] = _mcmc[:,4:]    "
   ]
  },
  {
   "cell_type": "code",
   "execution_count": 12,
   "metadata": {},
   "outputs": [
    {
     "name": "stdout",
     "output_type": "stream",
     "text": [
      "[10.41071224  0.06619018  0.36098975  0.53917652  0.03364352  0.58307612\n",
      "  7.36263418 -3.73200631 -4.04672289  0.39671102  1.57147384  0.53952688]\n",
      "-963294.4800906982\n"
     ]
    }
   ],
   "source": [
    "fspecs_anpe, fluxes_anpe = [], []\n",
    "for _tt in anpe[::10]: \n",
    "    tt = _tt.copy()\n",
    "    tt[7:9] = 10**tt[7:9]\n",
    "    w_anpe, f_anpe = m_sps.sed(tt, zred_nsa[i_nsa])\n",
    "    _maggies = Train.SED_to_maggies(w_anpe, f_anpe, filters=nsa_filters)\n",
    "    fspecs_anpe.append(f_anpe)\n",
    "    fluxes_anpe.append(np.array(_maggies.as_array()[0].tolist()) * 1e9)\n",
    "\n",
    "dflux = flux_nsa[i_nsa] - np.array(fluxes_anpe)\n",
    "log_prob_anpe = -0.5 * np.sum(dflux**2 * ivar_nsa[i_nsa])  \n",
    "\n",
    "mags_anpe = Train.flux2mag(fluxes_anpe[np.argmax(log_prob_anpe)])\n",
    "f_anpe = fspecs_anpe[np.argmax(log_prob_anpe)]\n",
    "\n",
    "print(anpe[::10][np.argmax(log_prob_anpe)])\n",
    "print(np.max(log_prob_anpe))"
   ]
  },
  {
   "cell_type": "code",
   "execution_count": 13,
   "metadata": {},
   "outputs": [
    {
     "name": "stdout",
     "output_type": "stream",
     "text": [
      "[10.12742446  0.52636253  0.3357474   0.08540599  0.05248409  0.63927353\n",
      " 10.07684303 -2.91644395 -3.04253988  2.34544149  1.06465423  0.24564591]\n",
      "-5412.213072225691\n"
     ]
    }
   ],
   "source": [
    "fspecs_mcmc, fluxes_mcmc = [], []\n",
    "for _tt in mcmc[::100]: \n",
    "    tt = _tt.copy()\n",
    "    tt[7:9] = 10**tt[7:9]\n",
    "    w_mcmc, f_mcmc = m_sps.sed(tt, zred_nsa[i_nsa])\n",
    "    _maggies = Train.SED_to_maggies(w_mcmc, f_mcmc, filters=nsa_filters)\n",
    "    fspecs_mcmc.append(f_mcmc)\n",
    "    fluxes_mcmc.append(np.array(_maggies.as_array()[0].tolist()) * 1e9)\n",
    "\n",
    "dflux = flux_nsa[i_nsa] - np.array(fluxes_mcmc)\n",
    "log_prob_mcmc = -0.5 * np.sum(dflux**2 * ivar_nsa[i_nsa])  \n",
    "\n",
    "mags_mcmc = Train.flux2mag(fluxes_mcmc[np.argmax(log_prob_mcmc)])\n",
    "f_mcmc = fspecs_mcmc[np.argmax(log_prob_mcmc)]\n",
    "print(mcmc[::100][np.argmax(log_prob_mcmc)])\n",
    "print(np.max(log_prob_mcmc))"
   ]
  },
  {
   "cell_type": "code",
   "execution_count": 14,
   "metadata": {},
   "outputs": [
    {
     "name": "stdout",
     "output_type": "stream",
     "text": [
      "[19.214428 17.8736   17.14103  16.76466  16.484669]\n",
      "[19.25678641 17.85193371 17.14798585 16.74395196 16.44345872]\n",
      "[19.2883002  17.87364139 17.15784455 16.75957111 16.43966526]\n"
     ]
    }
   ],
   "source": [
    "print(mags_nsa[i_nsa])\n",
    "print(mags_anpe)\n",
    "print(mags_mcmc)"
   ]
  },
  {
   "cell_type": "code",
   "execution_count": 15,
   "metadata": {},
   "outputs": [],
   "source": [
    "_low = [7, 0., 0., 0., 0., 0., 1e-2, np.log10(4.5e-5), np.log10(4.5e-5), 0, 0., -2.]\n",
    "_high = [12.5, 1., 1., 1., 1., 1., 13.27, np.log10(1.5e-2), np.log10(1.5e-2), 3., 3., 1.]\n",
    "theta_range = [(l, h) for l, h in zip(_low, _high)]"
   ]
  },
  {
   "cell_type": "code",
   "execution_count": 16,
   "metadata": {},
   "outputs": [],
   "source": [
    "# read in photometric bandpass filters \n",
    "from speclite import filters as specFilter\n",
    "filter_response = specFilter.load_filters('sdss2010-*')\n",
    "wave_eff = [filter_response[i].effective_wavelength.value for i in range(len(filter_response))]"
   ]
  },
  {
   "cell_type": "code",
   "execution_count": 17,
   "metadata": {},
   "outputs": [
    {
     "data": {
      "text/html": [
       "\n",
       "        <iframe\n",
       "            width=\"600\"\n",
       "            height=\"600\"\n",
       "            src=\"../paper1/figs/_corner.pdf\"\n",
       "            frameborder=\"0\"\n",
       "            allowfullscreen\n",
       "            \n",
       "        ></iframe>\n",
       "        "
      ],
      "text/plain": [
       "<IPython.lib.display.IFrame at 0x7f092c642ed0>"
      ]
     },
     "execution_count": 17,
     "metadata": {},
     "output_type": "execute_result"
    }
   ],
   "source": [
    "theta_lbls = [r'$\\log M_*$', r\"$\\beta_1$\", r\"$\\beta_2$\", r\"$\\beta_3$\", r\"$\\beta_4$\", r'$f_{\\rm burst}$', r'$t_{\\rm burst}$', r'$\\log \\gamma_1$', r'$\\log \\gamma_2$', r'$\\tau_1$', r'$\\tau_2$', r'$n_{\\rm dust}$']\n",
    "mpl.use('PDF')\n",
    "mpl.rcParams['text.usetex'] = True\n",
    "\n",
    "ndim = len(theta_lbls)\n",
    "\n",
    "fig = plt.figure(figsize=(15, 18))\n",
    "\n",
    "gs0 = fig.add_gridspec(nrows=ndim, ncols=ndim, top=0.95, bottom=0.28)\n",
    "for yi in range(ndim):\n",
    "    for xi in range(ndim):\n",
    "        sub = fig.add_subplot(gs0[yi, xi])\n",
    "\n",
    "_fig = DFM.corner(mcmc, color='k', levels=[0.68, 0.95], range=theta_range,\n",
    "                  plot_density=False, plot_datapoints=False, hist_kwargs={'density': True}, fig=fig)\n",
    "_ = DFM.corner(anpe, color='C0', levels=[0.68, 0.95], range=theta_range,\n",
    "               plot_density=False, plot_datapoints=False, hist_kwargs={'density': True}, \n",
    "               labels=theta_lbls, label_kwargs={'fontsize': 25}, fig=fig)\n",
    "\n",
    "\n",
    "# ndim = int(np.sqrt(len(fig.axes)))\n",
    "axes = np.array(fig.axes).reshape((ndim, ndim))\n",
    "\n",
    "ax = axes[2, ndim-4]\n",
    "ax.fill_between([], [], [], color='k', label='MCMC posterior')\n",
    "ax.fill_between([], [], [], color='C0', label='ANPE posterior')\n",
    "ax.legend(handletextpad=0.2, markerscale=10, fontsize=25)\n",
    "\n",
    "axes = np.array(fig.axes).reshape((ndim, ndim))\n",
    "for yi in range(1, ndim):\n",
    "    ax = axes[yi, 0]\n",
    "    ax.set_ylabel(theta_lbls[yi], fontsize=20, labelpad=30)\n",
    "    ax.yaxis.set_label_coords(-0.6, 0.5)\n",
    "for xi in range(ndim): \n",
    "    ax = axes[-1, xi]\n",
    "    ax.set_xlabel(theta_lbls[xi], fontsize=20, labelpad=30)\n",
    "    ax.xaxis.set_label_coords(0.5, -0.55)\n",
    "for xi in range(ndim): \n",
    "    ax = axes[xi,xi]\n",
    "    ax.set_xlim(theta_range[xi])\n",
    "\n",
    "gs1 = fig.add_gridspec(nrows=1, ncols=5, top=0.2, bottom=0.05)\n",
    "for ii in range(5):\n",
    "    sub = fig.add_subplot(gs1[0,ii])\n",
    "\n",
    "    sub.plot(w_anpe, f_anpe, c='C0', lw=1, label='ANPE best-fit')\n",
    "    sub.plot(w_mcmc, f_mcmc, c='k', lw=1, ls=':', label='MCMC best-fit')\n",
    "    #for i in range(len(filter_response)): \n",
    "    #    #sub.plot(filter_response[i].wavelength, 15 + 30 * filter_response[i].response, ls='--') \n",
    "    #    sub.text(filter_response[i].effective_wavelength.value, 1.1 * 30 * np.max(filter_response[i].response), ['u', 'g', 'r', 'i', 'z'][i], fontsize=20, color='C%i' % i)\n",
    "\n",
    "    sub.errorbar(lambda_sdss, flux_nsa_conv, yerr=ivar_nsa_conv**-0.5, fmt='.C3', markersize=20, elinewidth=4, label='NSA Photometry')\n",
    "    if ii == 4: sub.legend(loc='upper right', fontsize=18, handletextpad=0)\n",
    "    if ii == 2: sub.set_xlabel('wavelength [$A$]', fontsize=20) \n",
    "    #sub.set_xlim(3e3, 1e4)\n",
    "    sub.set_xlim(lambda_sdss[ii]-500, lambda_sdss[ii]+500)\n",
    "    if ii == 0: sub.set_ylabel('flux [$10^{-17} erg/s/cm^2/A$]', fontsize=20, labelpad=15) \n",
    "    else: sub.set_yticklabels([])\n",
    "    if ii == 1: sub.set_xticks([4500, 4750, 5000])\n",
    "    #if ii == 1: sub.set_xticks([4500, 4750, 5000])\n",
    "    sub.set_ylim(10., 65.)\n",
    "    sub.set_title('$%s$' % ['u', 'g', 'r', 'i', 'z'][ii], fontsize=20)\n",
    "\n",
    "fig.savefig('../paper1/figs/_corner.pdf', bbox_inches='tight')\n",
    "IFrame(\"../paper1/figs/_corner.pdf\", width=600, height=600)"
   ]
  },
  {
   "cell_type": "code",
   "execution_count": null,
   "metadata": {},
   "outputs": [],
   "source": []
  }
 ],
 "metadata": {
  "kernelspec": {
   "display_name": "torch-env",
   "language": "python",
   "name": "torch-env"
  },
  "language_info": {
   "codemirror_mode": {
    "name": "ipython",
    "version": 3
   },
   "file_extension": ".py",
   "mimetype": "text/x-python",
   "name": "python",
   "nbconvert_exporter": "python",
   "pygments_lexer": "ipython3",
   "version": "3.7.10"
  }
 },
 "nbformat": 4,
 "nbformat_minor": 2
}
