{
 "cells": [
  {
   "cell_type": "code",
   "execution_count": 1,
   "metadata": {},
   "outputs": [],
   "source": [
    "import os\n",
    "import numpy as np \n",
    "from scipy import stats\n",
    "from sedflow import obs as Obs\n",
    "from sedflow import train as Train"
   ]
  },
  {
   "cell_type": "code",
   "execution_count": 2,
   "metadata": {},
   "outputs": [],
   "source": [
    "from IPython.display import IFrame\n",
    "# --- plotting --- \n",
    "import corner as DFM\n",
    "import matplotlib as mpl\n",
    "import matplotlib.pyplot as plt\n",
    "#mpl.use('PDF')\n",
    "#mpl.rcParams['text.usetex'] = True\n",
    "mpl.rcParams['font.family'] = 'serif'\n",
    "mpl.rcParams['axes.linewidth'] = 1.5\n",
    "mpl.rcParams['axes.xmargin'] = 1\n",
    "mpl.rcParams['xtick.labelsize'] = 'x-large'\n",
    "mpl.rcParams['xtick.major.size'] = 5\n",
    "mpl.rcParams['xtick.major.width'] = 1.5\n",
    "mpl.rcParams['ytick.labelsize'] = 'x-large'\n",
    "mpl.rcParams['ytick.major.size'] = 5\n",
    "mpl.rcParams['ytick.major.width'] = 1.5\n",
    "mpl.rcParams['legend.frameon'] = False"
   ]
  },
  {
   "cell_type": "code",
   "execution_count": 3,
   "metadata": {},
   "outputs": [],
   "source": [
    "import torch\n",
    "import torch.nn as nn \n",
    "import torch.nn.functional as F \n",
    "from sbi import utils as Ut\n",
    "from sbi import inference as Inference"
   ]
  },
  {
   "cell_type": "markdown",
   "metadata": {},
   "source": [
    "# 1. Validate ANPE using p-p plot and Simulation-Based Calibration\n",
    "\n",
    "## Load test data"
   ]
  },
  {
   "cell_type": "code",
   "execution_count": 4,
   "metadata": {},
   "outputs": [],
   "source": [
    "dat_dir = '/scratch/network/chhahn/sedflow/'\n",
    "dat_dir = '/scratch/network/chhahn/sedflow/'\n",
    "test_theta      = np.load(os.path.join(dat_dir, 'sedflow_p.test_inobs.v0.1.theta_unt.npy'))\n",
    "test_enc_spec   = np.load(os.path.join(dat_dir, 'sedflow_p.test_inobs.v0.1.encoded.npy'))\n",
    "test_enc_ivar   = np.load(os.path.join(dat_dir, 'sedflow_p.test_inobs.v0.1.ivar.encoded.npy'))\n",
    "test_zred       = np.load(os.path.join(dat_dir, 'sedflow_p.test_inobs.v0.1.zred.npy'))\n",
    "\n",
    "x_test = test_theta\n",
    "# convert gamma1, gamma2 (ZH NMF coefficients) to log space\n",
    "x_test[:,6] = np.log10(x_test[:,6])\n",
    "x_test[:,7] = np.log10(x_test[:,7])\n",
    "\n",
    "y_test = np.concatenate([test_enc_spec, test_enc_ivar, test_zred[:,None]], axis=1)"
   ]
  },
  {
   "cell_type": "markdown",
   "metadata": {},
   "source": [
    "## load samples from `SEDflow` ANPE"
   ]
  },
  {
   "cell_type": "code",
   "execution_count": 5,
   "metadata": {},
   "outputs": [],
   "source": [
    "arch = '500x5.2'\n",
    "anpe_samples = np.load('/scratch/network/chhahn/sedflow/anpe.sedflow_p.%s.samples.npy' % arch)"
   ]
  },
  {
   "cell_type": "markdown",
   "metadata": {},
   "source": [
    "calculate the percentile score and rank of the true values"
   ]
  },
  {
   "cell_type": "code",
   "execution_count": 6,
   "metadata": {},
   "outputs": [],
   "source": [
    "pp_thetas, rank_thetas = [], [] \n",
    "for igal in np.arange(1000): \n",
    "    _mcmc_anpe = anpe_samples[igal,:,:]\n",
    "    \n",
    "    pp_theta, rank_theta = [], []\n",
    "    for itheta in range(_mcmc_anpe.shape[1]): \n",
    "        pp_theta.append(stats.percentileofscore(_mcmc_anpe[:,itheta], x_test[igal,itheta])/100.)\n",
    "        rank_theta.append(np.sum(np.array(_mcmc_anpe[:,itheta]) < x_test[igal,itheta]))\n",
    "    pp_thetas.append(pp_theta)\n",
    "    rank_thetas.append(rank_theta)\n",
    "    \n",
    "pp_thetas = np.array(pp_thetas)\n",
    "rank_thetas = np.array(rank_thetas)"
   ]
  },
  {
   "cell_type": "markdown",
   "metadata": {},
   "source": [
    "### p-p plot"
   ]
  },
  {
   "cell_type": "code",
   "execution_count": 7,
   "metadata": {},
   "outputs": [
    {
     "data": {
      "text/html": [
       "\n",
       "        <iframe\n",
       "            width=\"600\"\n",
       "            height=\"600\"\n",
       "            src=\"../../paper2/figs/ppplot.pdf\"\n",
       "            frameborder=\"0\"\n",
       "            allowfullscreen\n",
       "        ></iframe>\n",
       "        "
      ],
      "text/plain": [
       "<IPython.lib.display.IFrame at 0x7fec04eb6b50>"
      ]
     },
     "execution_count": 7,
     "metadata": {},
     "output_type": "execute_result"
    }
   ],
   "source": [
    "theta_lbls = [r'$\\log M_*$', r\"$\\beta'_1$\", r\"$\\beta'_2$\", r\"$\\beta'_3$\", r'$f_{\\rm burst}$', r'$t_{\\rm burst}$', r'$\\log \\gamma_1$', r'$\\log \\gamma_2$', r'$\\tau_1$', r'$\\tau_2$', r'$n_{\\rm dust}$']\n",
    "mpl.use('PDF')\n",
    "mpl.rcParams['text.usetex'] = True\n",
    "\n",
    "fig = plt.figure(figsize=(8,8))\n",
    "sub = fig.add_subplot(111)\n",
    "for itheta in range(pp_thetas.shape[1]): \n",
    "    # evaluate the histogram\n",
    "    values, base = np.histogram(pp_thetas[:,itheta], bins=40)\n",
    "    #evaluate the cumulative\n",
    "    cumulative = np.cumsum(values) / np.sum(values)\n",
    "    sub.plot(base[:-1], cumulative, label=theta_lbls[itheta])\n",
    "    \n",
    "sub.plot([], [], c='gray', ls=':', label='MCMC')\n",
    "sub.plot([0., 1.], [0., 1.], c='k', ls='--')\n",
    "sub.set_xlim(0., 1.)\n",
    "sub.set_ylim(0., 1.)\n",
    "sub.legend(loc='upper left', fontsize=15)\n",
    "fig.savefig('../../paper2/figs/ppplot.pdf', bbox_inches='tight')\n",
    "\n",
    "IFrame(\"../../paper2/figs/ppplot.pdf\", width=600, height=600)"
   ]
  },
  {
   "cell_type": "markdown",
   "metadata": {},
   "source": [
    "### simulation-based calibration\n",
    "Metric from Talts+(2020) and uses rank statistic rather than percentile score."
   ]
  },
  {
   "cell_type": "code",
   "execution_count": 9,
   "metadata": {},
   "outputs": [
    {
     "data": {
      "text/html": [
       "\n",
       "        <iframe\n",
       "            width=\"600\"\n",
       "            height=\"600\"\n",
       "            src=\"../../paper2/figs/sbc.pdf\"\n",
       "            frameborder=\"0\"\n",
       "            allowfullscreen\n",
       "        ></iframe>\n",
       "        "
      ],
      "text/plain": [
       "<IPython.lib.display.IFrame at 0x7fec04e52310>"
      ]
     },
     "execution_count": 9,
     "metadata": {},
     "output_type": "execute_result"
    }
   ],
   "source": [
    "fig = plt.figure(figsize=(15,9))\n",
    "for i in range(pp_thetas.shape[1]): \n",
    "    sub = fig.add_subplot(3,4,i+1)\n",
    "    sub.hist(rank_thetas[:,i]/10000., density=True, histtype='step', linewidth=2)\n",
    "    sub.plot([0., 1.], [1., 1.], c='k', ls='--')\n",
    "    \n",
    "    sub.text(0.05, 0.95, theta_lbls[i], ha='left', va='top', fontsize=20, transform=sub.transAxes)\n",
    "    sub.set_xlim(0, 1.)\n",
    "    sub.set_ylim(0., 2.)\n",
    "    sub.set_yticklabels([])\n",
    "    sub.set_xticklabels([])\n",
    "sub.plot([], [], c='C0', label='ANPE')\n",
    "sub.plot([], [], c='gray', ls=':', label='MCMC')\n",
    "sub.legend(loc='lower right', fontsize=15, handletextpad=0)\n",
    "fig.savefig('../../paper2/figs/sbc.pdf', bbox_inches='tight')\n",
    "\n",
    "IFrame(\"../../paper2/figs/sbc.pdf\", width=600, height=600)    "
   ]
  }
 ],
 "metadata": {
  "kernelspec": {
   "display_name": "torch-env",
   "language": "python",
   "name": "torch-env"
  },
  "language_info": {
   "codemirror_mode": {
    "name": "ipython",
    "version": 3
   },
   "file_extension": ".py",
   "mimetype": "text/x-python",
   "name": "python",
   "nbconvert_exporter": "python",
   "pygments_lexer": "ipython3",
   "version": "3.7.10"
  }
 },
 "nbformat": 4,
 "nbformat_minor": 2
}
