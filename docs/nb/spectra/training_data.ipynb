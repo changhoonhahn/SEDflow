{
 "cells": [
  {
   "cell_type": "markdown",
   "metadata": {},
   "source": [
    "# Comparison of training data to observations"
   ]
  },
  {
   "cell_type": "code",
   "execution_count": 1,
   "metadata": {},
   "outputs": [],
   "source": [
    "import os\n",
    "import numpy as np "
   ]
  },
  {
   "cell_type": "code",
   "execution_count": 2,
   "metadata": {},
   "outputs": [],
   "source": [
    "from IPython.display import IFrame\n",
    "# --- plotting --- \n",
    "import corner as DFM\n",
    "import matplotlib as mpl\n",
    "import matplotlib.pyplot as plt\n",
    "mpl.use('PDF')\n",
    "mpl.rcParams['text.usetex'] = True\n",
    "mpl.rcParams['font.family'] = 'serif'\n",
    "mpl.rcParams['axes.linewidth'] = 1.5\n",
    "mpl.rcParams['axes.xmargin'] = 1\n",
    "mpl.rcParams['xtick.labelsize'] = 'x-large'\n",
    "mpl.rcParams['xtick.major.size'] = 5\n",
    "mpl.rcParams['xtick.major.width'] = 1.5\n",
    "mpl.rcParams['ytick.labelsize'] = 'x-large'\n",
    "mpl.rcParams['ytick.major.size'] = 5\n",
    "mpl.rcParams['ytick.major.width'] = 1.5\n",
    "mpl.rcParams['legend.frameon'] = False"
   ]
  },
  {
   "cell_type": "markdown",
   "metadata": {},
   "source": [
    "## load training data"
   ]
  },
  {
   "cell_type": "code",
   "execution_count": 3,
   "metadata": {},
   "outputs": [],
   "source": [
    "dat_dir = '/scratch/network/chhahn/sedflow/'"
   ]
  },
  {
   "cell_type": "code",
   "execution_count": 4,
   "metadata": {},
   "outputs": [],
   "source": [
    "train_theta = np.load(os.path.join(dat_dir, 'sedflow_p.train.v0.1.theta_sps.npy'))\n",
    "train_enc_spec = np.load(os.path.join(dat_dir, 'sedflow_p.train.v0.1.encoded.npy'))\n",
    "train_enc_ivar = np.load(os.path.join(dat_dir, 'sedflow_p.train.v0.1.ivar.encoded.npy'))\n",
    "train_zred = np.load(os.path.join(dat_dir, 'sedflow_p.train.v0.1.zred.npy'))"
   ]
  },
  {
   "cell_type": "code",
   "execution_count": 5,
   "metadata": {},
   "outputs": [],
   "source": [
    "# log M*, beta1, Aspec, h_1, Aivar, z\n",
    "train_data = np.concatenate([\n",
    "    train_theta[:,:2], \n",
    "    train_enc_spec[:,:2], \n",
    "    train_enc_ivar[:,:1], \n",
    "    train_zred[:,None]], axis=1)"
   ]
  },
  {
   "cell_type": "markdown",
   "metadata": {},
   "source": [
    "## load observations"
   ]
  },
  {
   "cell_type": "code",
   "execution_count": 6,
   "metadata": {},
   "outputs": [],
   "source": [
    "obs_enc_spec = np.load(os.path.join(dat_dir, 'sedflow_p.obs.v0.1.encoded.npy'))\n",
    "obs_enc_ivar = np.load(os.path.join(dat_dir, 'sedflow_p.obs.v0.1.ivar.encoded.npy'))\n",
    "obs_zred = np.load(os.path.join(dat_dir, 'sedflow_p.obs.v0.1.zred.npy'))"
   ]
  },
  {
   "cell_type": "code",
   "execution_count": 7,
   "metadata": {},
   "outputs": [],
   "source": [
    "obs_data = np.concatenate([\n",
    "    obs_enc_spec[:,:2], \n",
    "    obs_enc_ivar[:,:1], \n",
    "    obs_zred[:,None]], axis=1)"
   ]
  },
  {
   "cell_type": "code",
   "execution_count": 12,
   "metadata": {},
   "outputs": [],
   "source": [
    "ranges = [(8., 12.5), (0., 1.), (0., 5e2), (-3., 3.), (0., 10), (0.0, 0.025)]"
   ]
  },
  {
   "cell_type": "code",
   "execution_count": 13,
   "metadata": {
    "scrolled": false
   },
   "outputs": [],
   "source": [
    "fig = DFM.corner(train_data[::100], \n",
    "                 labels=[r'$\\log M_*$', r'$\\beta_1$', r'$A_{\\rm spec}$', r'$h_1$', r'$A_{\\rm ivar}$', r'($z$) redshift'], \n",
    "                 label_kwargs={'fontsize': 25}, \n",
    "                 hist_kwargs={'density': True},\n",
    "                 range=ranges, \n",
    "                 hist2d_kwargs={'levels': [0.68, 0.95]})\n",
    "\n",
    "#DFM.overplot_lines(fig, [None, None, obs_enc_spec[], mags_nsa[i_nsa,1], mags_nsa[i_nsa,2], sigs_nsa[i_nsa,2]], color='C3')\n",
    "\n",
    "ndim = int(np.sqrt(len(fig.axes)))\n",
    "axes = np.array(fig.axes).reshape((ndim, ndim))\n",
    "\n",
    "# Loop over the diagonal\n",
    "for i in range(ndim):\n",
    "    if i > 1: \n",
    "        ax = axes[i, i]\n",
    "        h = ax.hist(obs_data[:,i-2], color='C0', density=True, range=ranges[i], histtype='stepfilled', alpha=0.5, bins=20)\n",
    "        ax.set_ylim(0., 1.1*h[0].max())\n",
    "\n",
    "# Loop over the histograms\n",
    "for yi in range(ndim):\n",
    "    for xi in range(yi):\n",
    "        if xi > 1 and yi > 1: \n",
    "            ax = axes[yi, xi]\n",
    "            ax.scatter(obs_data[:,xi-2], obs_data[:,yi-2], color='C0', s=1, rasterized=True)\n",
    "\n",
    "ax = axes[2, ndim-2]\n",
    "ax.fill_between([], [], [], color='k', label='Training Data')\n",
    "ax.fill_between([], [], [], color='C0', label='SDSS')\n",
    "ax.legend(handletextpad=0.2, markerscale=10, fontsize=25)\n",
    "fig.savefig('../../paper2/figs/training.pdf', bbox_inches='tight')"
   ]
  },
  {
   "cell_type": "code",
   "execution_count": 14,
   "metadata": {},
   "outputs": [
    {
     "data": {
      "text/html": [
       "\n",
       "        <iframe\n",
       "            width=\"600\"\n",
       "            height=\"600\"\n",
       "            src=\"../../paper2/figs/training.pdf\"\n",
       "            frameborder=\"0\"\n",
       "            allowfullscreen\n",
       "        ></iframe>\n",
       "        "
      ],
      "text/plain": [
       "<IPython.lib.display.IFrame at 0x7f0cdd0115d0>"
      ]
     },
     "execution_count": 14,
     "metadata": {},
     "output_type": "execute_result"
    }
   ],
   "source": [
    "IFrame(\"../../paper2/figs/training.pdf\", width=600, height=600)"
   ]
  },
  {
   "cell_type": "code",
   "execution_count": null,
   "metadata": {},
   "outputs": [],
   "source": []
  }
 ],
 "metadata": {
  "kernelspec": {
   "display_name": "torch-env",
   "language": "python",
   "name": "torch-env"
  },
  "language_info": {
   "codemirror_mode": {
    "name": "ipython",
    "version": 3
   },
   "file_extension": ".py",
   "mimetype": "text/x-python",
   "name": "python",
   "nbconvert_exporter": "python",
   "pygments_lexer": "ipython3",
   "version": "3.7.10"
  }
 },
 "nbformat": 4,
 "nbformat_minor": 2
}
