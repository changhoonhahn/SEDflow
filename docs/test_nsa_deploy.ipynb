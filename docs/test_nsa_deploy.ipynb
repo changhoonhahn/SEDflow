{
 "cells": [
  {
   "cell_type": "markdown",
   "metadata": {},
   "source": [
    "# testing ANPE deployment on NSA observations"
   ]
  },
  {
   "cell_type": "code",
   "execution_count": 17,
   "metadata": {},
   "outputs": [],
   "source": [
    "import os, sys\n",
    "import numpy as np\n",
    "from scipy import stats\n",
    "from sedflow import obs as Obs\n",
    "from sedflow import train as Train\n",
    "\n",
    "# torch\n",
    "import torch\n",
    "from sbi import utils as Ut\n",
    "from sbi import inference as Inference"
   ]
  },
  {
   "cell_type": "code",
   "execution_count": 14,
   "metadata": {},
   "outputs": [
    {
     "name": "stderr",
     "output_type": "stream",
     "text": [
      "/home/chhahn/projects/SEDflow/src/sedflow/train.py:106: RuntimeWarning: invalid value encountered in log10\n",
      "  return 22.5 - 2.5 * np.log10(flux)\n"
     ]
    }
   ],
   "source": [
    "y_nsa = Obs.load_nsa_data(test_set=False)"
   ]
  },
  {
   "cell_type": "code",
   "execution_count": 15,
   "metadata": {},
   "outputs": [],
   "source": [
    "####################################################################\n",
    "# set prior (this is fixed)\n",
    "####################################################################\n",
    "prior_low = [7, 0., 0., 0., 0., 1e-2, np.log10(4.5e-5), np.log10(4.5e-5), 0, 0., -2.]\n",
    "prior_high = [12.5, 1., 1., 1., 1., 13.27, np.log10(1.5e-2), np.log10(1.5e-2), 3., 3., 1.]\n",
    "lower_bounds = torch.tensor(prior_low)\n",
    "upper_bounds = torch.tensor(prior_high)\n",
    "prior = Ut.BoxUniform(low=lower_bounds, high=upper_bounds, device='cpu')"
   ]
  },
  {
   "cell_type": "code",
   "execution_count": 19,
   "metadata": {},
   "outputs": [],
   "source": [
    "####################################################################\n",
    "# load trained ANPE\n",
    "####################################################################\n",
    "sample = 'toy'\n",
    "nhidden = 500\n",
    "nblocks = 15\n",
    "itrain = 2\n",
    "####################################################################\n",
    "\n",
    "x_test, y_test = Train.load_data('test', version=1, sample=sample, params='thetas_unt')\n",
    "x_test[:,6] = np.log10(x_test[:,6])\n",
    "x_test[:,7] = np.log10(x_test[:,7])\n",
    "\n",
    "fanpe = os.path.join(Train.data_dir(), 'anpe_thetaunt_magsigz.%s.%ix%i.%i.pt' % (sample, nhidden, nblocks, itrain))\n",
    "\n",
    "anpe = Inference.SNPE(prior=prior,\n",
    "                      density_estimator=Ut.posterior_nn('maf', hidden_features=nhidden, num_transforms=nblocks),\n",
    "                      device='cpu')\n",
    "anpe.append_simulations(\n",
    "    torch.as_tensor(x_test.astype(np.float32)),\n",
    "    torch.as_tensor(y_test.astype(np.float32)))\n",
    "\n",
    "p_x_y_estimator = anpe._build_neural_net(torch.as_tensor(x_test.astype(np.float32)), torch.as_tensor(y_test.astype(np.float32)))\n",
    "p_x_y_estimator.load_state_dict(torch.load(fanpe))\n",
    "\n",
    "anpe._x_shape = Ut.x_shape_from_simulation(torch.as_tensor(y_test.astype(np.float32)))\n",
    "\n",
    "hatp_x_y = anpe.build_posterior(p_x_y_estimator)"
   ]
  },
  {
   "cell_type": "code",
   "execution_count": 29,
   "metadata": {},
   "outputs": [
    {
     "name": "stdout",
     "output_type": "stream",
     "text": [
      "7890330 hyperparameters\n"
     ]
    },
    {
     "name": "stderr",
     "output_type": "stream",
     "text": [
      "/home/chhahn/.conda/envs/torch-env/lib/python3.7/site-packages/ipykernel_launcher.py:1: DeprecationWarning: Calling np.sum(generator) is deprecated, and in the future will give a different result. Use np.sum(np.fromiter(generator)) or the python sum builtin instead.\n",
      "  \"\"\"Entry point for launching an IPython kernel.\n"
     ]
    }
   ],
   "source": [
    "print('%i hyperparameters' % np.sum(p.numel() for p in p_x_y_estimator.parameters() if p.requires_grad))"
   ]
  },
  {
   "cell_type": "code",
   "execution_count": null,
   "metadata": {},
   "outputs": [],
   "source": [
    "def count_parameters(model):\n",
    "    return sum(p.numel() for p in model.parameters() if p.requires_grad)"
   ]
  },
  {
   "cell_type": "code",
   "execution_count": 22,
   "metadata": {},
   "outputs": [],
   "source": [
    "def get_posterior(y_nsa_i, nmcmc=10000):\n",
    "    ''' given [mag, uncertainty, redshift] of a galaxy, draw nmcmc samples of\n",
    "    the posterior.\n",
    "    '''\n",
    "    mcmc_anpe = hatp_x_y.sample((nmcmc,), x=torch.as_tensor(y_nsa_i), show_progress_bars=True)\n",
    "    return np.array(mcmc_anpe)"
   ]
  },
  {
   "cell_type": "code",
   "execution_count": 23,
   "metadata": {},
   "outputs": [
    {
     "name": "stdout",
     "output_type": "stream",
     "text": [
      "[16.887062   15.21636    14.365496   14.013487   13.719948    0.05103989\n",
      "  0.02009773  0.02006188  0.0200624   0.03011609  0.02122228]\n"
     ]
    },
    {
     "data": {
      "application/vnd.jupyter.widget-view+json": {
       "model_id": "723daad6bb6f4e33933c36ac454990c1",
       "version_major": 2,
       "version_minor": 0
      },
      "text/plain": [
       "Drawing 10000 posterior samples:   0%|          | 0/10000 [00:00<?, ?it/s]"
      ]
     },
     "metadata": {},
     "output_type": "display_data"
    },
    {
     "name": "stdout",
     "output_type": "stream",
     "text": [
      "[17.542395   16.210804   15.504496   15.134066   14.883438    0.05418632\n",
      "  0.02033832  0.02022357  0.0202281   0.03081442  0.04808582]\n"
     ]
    },
    {
     "data": {
      "application/vnd.jupyter.widget-view+json": {
       "model_id": "c5b2e41bfee04013b4cd0f72469494b9",
       "version_major": 2,
       "version_minor": 0
      },
      "text/plain": [
       "Drawing 10000 posterior samples:   0%|          | 0/10000 [00:00<?, ?it/s]"
      ]
     },
     "metadata": {},
     "output_type": "display_data"
    },
    {
     "name": "stdout",
     "output_type": "stream",
     "text": [
      "[18.724672   17.836632   17.48639    17.34852    17.25803     0.08334129\n",
      "  0.02342823  0.02330136  0.02555846  0.0504447   0.02196459]\n"
     ]
    },
    {
     "data": {
      "application/vnd.jupyter.widget-view+json": {
       "model_id": "ca8e9662bcdd4acaa4a457ad2a84aefe",
       "version_major": 2,
       "version_minor": 0
      },
      "text/plain": [
       "Drawing 10000 posterior samples:   0%|          | 0/10000 [00:00<?, ?it/s]"
      ]
     },
     "metadata": {},
     "output_type": "display_data"
    },
    {
     "name": "stdout",
     "output_type": "stream",
     "text": [
      "[17.03926    16.0428     15.576517   15.317082   15.157151    0.05287183\n",
      "  0.02037018  0.02023692  0.02025547  0.03092435  0.03580831]\n"
     ]
    },
    {
     "data": {
      "application/vnd.jupyter.widget-view+json": {
       "model_id": "9d1b54849d2443b5b7ef6294841f5ecb",
       "version_major": 2,
       "version_minor": 0
      },
      "text/plain": [
       "Drawing 10000 posterior samples:   0%|          | 0/10000 [00:00<?, ?it/s]"
      ]
     },
     "metadata": {},
     "output_type": "display_data"
    },
    {
     "name": "stdout",
     "output_type": "stream",
     "text": [
      "[18.777647   17.285528   16.502043   16.070406   15.781486    0.07161\n",
      "  0.02104094  0.02056519  0.02051609  0.03152744  0.05248393]\n"
     ]
    },
    {
     "data": {
      "application/vnd.jupyter.widget-view+json": {
       "model_id": "1bd8c08f16a6494b8843924f2c239be1",
       "version_major": 2,
       "version_minor": 0
      },
      "text/plain": [
       "Drawing 10000 posterior samples:   0%|          | 0/10000 [00:00<?, ?it/s]"
      ]
     },
     "metadata": {},
     "output_type": "display_data"
    },
    {
     "name": "stdout",
     "output_type": "stream",
     "text": [
      "[17.30959    16.590717   16.423431   16.44567    16.356396    0.06063322\n",
      "  0.02149479  0.02150889  0.02329385  0.04339407  0.02170876]\n"
     ]
    },
    {
     "data": {
      "application/vnd.jupyter.widget-view+json": {
       "model_id": "c58cfd21e4bb4cf1bc5f81f8909ca44c",
       "version_major": 2,
       "version_minor": 0
      },
      "text/plain": [
       "Drawing 10000 posterior samples:   0%|          | 0/10000 [00:00<?, ?it/s]"
      ]
     },
     "metadata": {},
     "output_type": "display_data"
    },
    {
     "name": "stdout",
     "output_type": "stream",
     "text": [
      "[18.011139   16.898869   16.385351   16.133677   16.082958    0.06666344\n",
      "  0.02111826  0.02089052  0.0210252   0.03584207  0.03645184]\n"
     ]
    },
    {
     "data": {
      "application/vnd.jupyter.widget-view+json": {
       "model_id": "79852b42dfc94a9c86dd91a7d6a7255a",
       "version_major": 2,
       "version_minor": 0
      },
      "text/plain": [
       "Drawing 10000 posterior samples:   0%|          | 0/10000 [00:00<?, ?it/s]"
      ]
     },
     "metadata": {},
     "output_type": "display_data"
    },
    {
     "name": "stdout",
     "output_type": "stream",
     "text": [
      "[17.999893   16.201597   15.335937   14.95873    14.678669    0.05635887\n",
      "  0.02043227  0.02025319  0.02026885  0.03052281  0.03673035]\n"
     ]
    },
    {
     "data": {
      "application/vnd.jupyter.widget-view+json": {
       "model_id": "5e096c0a1670408ba6a7e95a6d668712",
       "version_major": 2,
       "version_minor": 0
      },
      "text/plain": [
       "Drawing 10000 posterior samples:   0%|          | 0/10000 [00:00<?, ?it/s]"
      ]
     },
     "metadata": {},
     "output_type": "display_data"
    },
    {
     "name": "stdout",
     "output_type": "stream",
     "text": [
      "[16.337324   14.524672   13.599525   13.20084    12.906909    0.05323015\n",
      "  0.02013912  0.02007489  0.02006928  0.03015652  0.02160817]\n"
     ]
    },
    {
     "data": {
      "application/vnd.jupyter.widget-view+json": {
       "model_id": "3c16edefeb144ac1bbe38fa3f040d508",
       "version_major": 2,
       "version_minor": 0
      },
      "text/plain": [
       "Drawing 10000 posterior samples:   0%|          | 0/10000 [00:00<?, ?it/s]"
      ]
     },
     "metadata": {},
     "output_type": "display_data"
    },
    {
     "name": "stdout",
     "output_type": "stream",
     "text": [
      "[17.072449   16.039417   15.612441   15.384242   15.329765    0.05636014\n",
      "  0.02039787  0.02040346  0.02051542  0.03212593  0.02165231]\n"
     ]
    },
    {
     "data": {
      "application/vnd.jupyter.widget-view+json": {
       "model_id": "eca805dd35964c9d848cbfe30a5a4bf3",
       "version_major": 2,
       "version_minor": 0
      },
      "text/plain": [
       "Drawing 10000 posterior samples:   0%|          | 0/10000 [00:00<?, ?it/s]"
      ]
     },
     "metadata": {},
     "output_type": "display_data"
    }
   ],
   "source": [
    "mcmcs = []\n",
    "for igal in range(10): \n",
    "    print(y_nsa[igal])\n",
    "    _mcmc_i = get_posterior(y_nsa[igal])\n",
    "    mcmcs.append(_mcmc_i)"
   ]
  },
  {
   "cell_type": "code",
   "execution_count": 26,
   "metadata": {},
   "outputs": [
    {
     "data": {
      "text/plain": [
       "array([[11.117858  ,  0.6711677 ,  0.40776756, ...,  0.8489683 ,\n",
       "         0.5990936 , -1.0390607 ],\n",
       "       [10.769588  ,  0.23237726,  0.27514288, ...,  0.05772961,\n",
       "         1.0135201 , -0.9459942 ],\n",
       "       [11.037788  ,  0.15098369,  0.5215622 , ...,  1.0278299 ,\n",
       "         0.3157818 , -1.7855717 ],\n",
       "       ...,\n",
       "       [11.054487  ,  0.88227826,  0.43112966, ...,  1.6429694 ,\n",
       "         0.6993135 , -0.6503178 ],\n",
       "       [10.905409  ,  0.94002116,  0.3469195 , ...,  1.8281566 ,\n",
       "         0.66839224, -0.7238141 ],\n",
       "       [10.663375  ,  0.3489581 ,  0.1223333 , ...,  0.63686687,\n",
       "         0.756173  , -1.1358496 ]], dtype=float32)"
      ]
     },
     "execution_count": 26,
     "metadata": {},
     "output_type": "execute_result"
    }
   ],
   "source": [
    "np.array(mcmcs)[-2]"
   ]
  },
  {
   "cell_type": "code",
   "execution_count": null,
   "metadata": {},
   "outputs": [],
   "source": []
  }
 ],
 "metadata": {
  "kernelspec": {
   "display_name": "torch-env",
   "language": "python",
   "name": "torch-env"
  },
  "language_info": {
   "codemirror_mode": {
    "name": "ipython",
    "version": 3
   },
   "file_extension": ".py",
   "mimetype": "text/x-python",
   "name": "python",
   "nbconvert_exporter": "python",
   "pygments_lexer": "ipython3",
   "version": "3.7.10"
  }
 },
 "nbformat": 4,
 "nbformat_minor": 2
}
