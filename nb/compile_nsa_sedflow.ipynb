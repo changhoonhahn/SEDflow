{
 "cells": [
  {
   "cell_type": "markdown",
   "metadata": {},
   "source": [
    "# Compile SEDflow posteriors and MCMC posteriors for NSA galaxies"
   ]
  },
  {
   "cell_type": "code",
   "execution_count": 1,
   "metadata": {},
   "outputs": [
    {
     "name": "stderr",
     "output_type": "stream",
     "text": [
      "/home/chhahn/projects/provabgs/src/provabgs/models.py:23: UserWarning: import error with fsps; only use emulators\n",
      "  warnings.warn('import error with fsps; only use emulators')\n"
     ]
    }
   ],
   "source": [
    "import os\n",
    "import h5py\n",
    "import numpy as np\n",
    "from tqdm.notebook import tqdm, trange\n",
    "\n",
    "from sedflow import obs as Obs\n",
    "from sedflow import train as Train\n",
    "\n",
    "from provabgs import infer as Infer\n",
    "from provabgs import models as Models"
   ]
  },
  {
   "cell_type": "code",
   "execution_count": 2,
   "metadata": {},
   "outputs": [],
   "source": [
    "sample = 'toy'\n",
    "itrain = 2\n",
    "nhidden = 500\n",
    "nblocks = 15"
   ]
  },
  {
   "cell_type": "code",
   "execution_count": 3,
   "metadata": {},
   "outputs": [],
   "source": [
    "# u, g, r, i, z, sigma_u, sigma_g, sigma_r, sigma_i, sigma_z, redshift\n",
    "nsa, igals = Obs.NSA()\n",
    "y_nsa = Obs.load_nsa_data(test_set=False)\n",
    "finite = np.all(np.isfinite(y_nsa[:,:5]), axis=1)"
   ]
  },
  {
   "cell_type": "code",
   "execution_count": 4,
   "metadata": {},
   "outputs": [
    {
     "name": "stdout",
     "output_type": "stream",
     "text": [
      "33884 galaxies\n"
     ]
    }
   ],
   "source": [
    "print('%i galaxies' % np.sum(finite))"
   ]
  },
  {
   "cell_type": "code",
   "execution_count": 5,
   "metadata": {},
   "outputs": [],
   "source": [
    "prior = Train.prior_default()"
   ]
  },
  {
   "cell_type": "code",
   "execution_count": 6,
   "metadata": {},
   "outputs": [
    {
     "name": "stdout",
     "output_type": "stream",
     "text": [
      "input parameters : logmstar, beta1_sfh, beta2_sfh, beta3_sfh, beta4_sfh, fburst, tburst, gamma1_zh, gamma2_zh, dust1, dust2, dust_index\n"
     ]
    }
   ],
   "source": [
    "# sps model\n",
    "m_sps= Train.SPSmodel_default(emulator=True)"
   ]
  },
  {
   "cell_type": "code",
   "execution_count": 7,
   "metadata": {
    "scrolled": true
   },
   "outputs": [
    {
     "name": "stdout",
     "output_type": "stream",
     "text": [
      "/scratch/network/chhahn/sedflow/anpe_thetaunt_magsigz.toy.500x15.2.nsa0of34.samples.npy\n"
     ]
    },
    {
     "data": {
      "application/vnd.jupyter.widget-view+json": {
       "model_id": "2dc360f31044480fa41f78f63002a6da",
       "version_major": 2,
       "version_minor": 0
      },
      "text/plain": [
       "  0%|          | 0/1000 [00:00<?, ?it/s]"
      ]
     },
     "metadata": {},
     "output_type": "display_data"
    },
    {
     "name": "stdout",
     "output_type": "stream",
     "text": [
      "/scratch/network/chhahn/sedflow/anpe_thetaunt_magsigz.toy.500x15.2.nsa1of34.samples.npy\n"
     ]
    },
    {
     "data": {
      "application/vnd.jupyter.widget-view+json": {
       "model_id": "4e872566405449df8797f073e52a5f1e",
       "version_major": 2,
       "version_minor": 0
      },
      "text/plain": [
       "  0%|          | 0/1000 [00:00<?, ?it/s]"
      ]
     },
     "metadata": {},
     "output_type": "display_data"
    },
    {
     "name": "stdout",
     "output_type": "stream",
     "text": [
      "/scratch/network/chhahn/sedflow/anpe_thetaunt_magsigz.toy.500x15.2.nsa2of34.samples.npy\n"
     ]
    },
    {
     "data": {
      "application/vnd.jupyter.widget-view+json": {
       "model_id": "8a22b9fd51ec4e8d9e6b859212953ee1",
       "version_major": 2,
       "version_minor": 0
      },
      "text/plain": [
       "  0%|          | 0/1000 [00:00<?, ?it/s]"
      ]
     },
     "metadata": {},
     "output_type": "display_data"
    },
    {
     "name": "stdout",
     "output_type": "stream",
     "text": [
      "/scratch/network/chhahn/sedflow/anpe_thetaunt_magsigz.toy.500x15.2.nsa3of34.samples.npy\n"
     ]
    },
    {
     "data": {
      "application/vnd.jupyter.widget-view+json": {
       "model_id": "24f6eefbb75246d18cb0c6c51e902fc2",
       "version_major": 2,
       "version_minor": 0
      },
      "text/plain": [
       "  0%|          | 0/1000 [00:00<?, ?it/s]"
      ]
     },
     "metadata": {},
     "output_type": "display_data"
    },
    {
     "name": "stdout",
     "output_type": "stream",
     "text": [
      "/scratch/network/chhahn/sedflow/anpe_thetaunt_magsigz.toy.500x15.2.nsa4of34.samples.npy\n"
     ]
    },
    {
     "data": {
      "application/vnd.jupyter.widget-view+json": {
       "model_id": "996334e9b43e49a4a004df0c91b08d0d",
       "version_major": 2,
       "version_minor": 0
      },
      "text/plain": [
       "  0%|          | 0/1000 [00:00<?, ?it/s]"
      ]
     },
     "metadata": {},
     "output_type": "display_data"
    },
    {
     "name": "stdout",
     "output_type": "stream",
     "text": [
      "/scratch/network/chhahn/sedflow/anpe_thetaunt_magsigz.toy.500x15.2.nsa5of34.samples.npy\n"
     ]
    },
    {
     "data": {
      "application/vnd.jupyter.widget-view+json": {
       "model_id": "24f39d066d4340678a6753f8ca5ebf95",
       "version_major": 2,
       "version_minor": 0
      },
      "text/plain": [
       "  0%|          | 0/1000 [00:00<?, ?it/s]"
      ]
     },
     "metadata": {},
     "output_type": "display_data"
    },
    {
     "name": "stdout",
     "output_type": "stream",
     "text": [
      "/scratch/network/chhahn/sedflow/anpe_thetaunt_magsigz.toy.500x15.2.nsa6of34.samples.npy\n"
     ]
    },
    {
     "data": {
      "application/vnd.jupyter.widget-view+json": {
       "model_id": "16e28de8743949efab92b98fe84d3470",
       "version_major": 2,
       "version_minor": 0
      },
      "text/plain": [
       "  0%|          | 0/1000 [00:00<?, ?it/s]"
      ]
     },
     "metadata": {},
     "output_type": "display_data"
    },
    {
     "name": "stdout",
     "output_type": "stream",
     "text": [
      "/scratch/network/chhahn/sedflow/anpe_thetaunt_magsigz.toy.500x15.2.nsa7of34.samples.npy\n"
     ]
    },
    {
     "data": {
      "application/vnd.jupyter.widget-view+json": {
       "model_id": "00f5037d646a4696b9646ef75a739d7c",
       "version_major": 2,
       "version_minor": 0
      },
      "text/plain": [
       "  0%|          | 0/998 [00:00<?, ?it/s]"
      ]
     },
     "metadata": {},
     "output_type": "display_data"
    },
    {
     "name": "stdout",
     "output_type": "stream",
     "text": [
      "/scratch/network/chhahn/sedflow/anpe_thetaunt_magsigz.toy.500x15.2.nsa8of34.samples.npy\n"
     ]
    },
    {
     "data": {
      "application/vnd.jupyter.widget-view+json": {
       "model_id": "b1c6c1cddbff48d8bfd26c2c01aeacdc",
       "version_major": 2,
       "version_minor": 0
      },
      "text/plain": [
       "  0%|          | 0/1000 [00:00<?, ?it/s]"
      ]
     },
     "metadata": {},
     "output_type": "display_data"
    },
    {
     "name": "stdout",
     "output_type": "stream",
     "text": [
      "/scratch/network/chhahn/sedflow/anpe_thetaunt_magsigz.toy.500x15.2.nsa9of34.samples.npy\n"
     ]
    },
    {
     "data": {
      "application/vnd.jupyter.widget-view+json": {
       "model_id": "d5f40f17701045468a52ff9c1a2da539",
       "version_major": 2,
       "version_minor": 0
      },
      "text/plain": [
       "  0%|          | 0/1000 [00:00<?, ?it/s]"
      ]
     },
     "metadata": {},
     "output_type": "display_data"
    },
    {
     "name": "stdout",
     "output_type": "stream",
     "text": [
      "/scratch/network/chhahn/sedflow/anpe_thetaunt_magsigz.toy.500x15.2.nsa10of34.samples.npy\n"
     ]
    },
    {
     "data": {
      "application/vnd.jupyter.widget-view+json": {
       "model_id": "93b6581f0275431cbff025470eb8d4b2",
       "version_major": 2,
       "version_minor": 0
      },
      "text/plain": [
       "  0%|          | 0/1000 [00:00<?, ?it/s]"
      ]
     },
     "metadata": {},
     "output_type": "display_data"
    },
    {
     "name": "stdout",
     "output_type": "stream",
     "text": [
      "/scratch/network/chhahn/sedflow/anpe_thetaunt_magsigz.toy.500x15.2.nsa11of34.samples.npy\n"
     ]
    },
    {
     "data": {
      "application/vnd.jupyter.widget-view+json": {
       "model_id": "1b1dca40703640d39877b3093f8cd15e",
       "version_major": 2,
       "version_minor": 0
      },
      "text/plain": [
       "  0%|          | 0/1000 [00:00<?, ?it/s]"
      ]
     },
     "metadata": {},
     "output_type": "display_data"
    },
    {
     "name": "stdout",
     "output_type": "stream",
     "text": [
      "/scratch/network/chhahn/sedflow/anpe_thetaunt_magsigz.toy.500x15.2.nsa12of34.samples.npy\n"
     ]
    },
    {
     "data": {
      "application/vnd.jupyter.widget-view+json": {
       "model_id": "8df11a36763345d4a66622e8eb76ba86",
       "version_major": 2,
       "version_minor": 0
      },
      "text/plain": [
       "  0%|          | 0/1000 [00:00<?, ?it/s]"
      ]
     },
     "metadata": {},
     "output_type": "display_data"
    },
    {
     "name": "stdout",
     "output_type": "stream",
     "text": [
      "/scratch/network/chhahn/sedflow/anpe_thetaunt_magsigz.toy.500x15.2.nsa13of34.samples.npy\n"
     ]
    },
    {
     "data": {
      "application/vnd.jupyter.widget-view+json": {
       "model_id": "5381d182132140a8972453bbe6e8f8fc",
       "version_major": 2,
       "version_minor": 0
      },
      "text/plain": [
       "  0%|          | 0/1000 [00:00<?, ?it/s]"
      ]
     },
     "metadata": {},
     "output_type": "display_data"
    },
    {
     "name": "stdout",
     "output_type": "stream",
     "text": [
      "/scratch/network/chhahn/sedflow/anpe_thetaunt_magsigz.toy.500x15.2.nsa14of34.samples.npy\n"
     ]
    },
    {
     "data": {
      "application/vnd.jupyter.widget-view+json": {
       "model_id": "2c8453f013b7476d9cac04f2acf372bb",
       "version_major": 2,
       "version_minor": 0
      },
      "text/plain": [
       "  0%|          | 0/1000 [00:00<?, ?it/s]"
      ]
     },
     "metadata": {},
     "output_type": "display_data"
    },
    {
     "name": "stdout",
     "output_type": "stream",
     "text": [
      "/scratch/network/chhahn/sedflow/anpe_thetaunt_magsigz.toy.500x15.2.nsa15of34.samples.npy\n"
     ]
    },
    {
     "data": {
      "application/vnd.jupyter.widget-view+json": {
       "model_id": "18145592fab5491385347023364f0032",
       "version_major": 2,
       "version_minor": 0
      },
      "text/plain": [
       "  0%|          | 0/999 [00:00<?, ?it/s]"
      ]
     },
     "metadata": {},
     "output_type": "display_data"
    },
    {
     "name": "stdout",
     "output_type": "stream",
     "text": [
      "/scratch/network/chhahn/sedflow/anpe_thetaunt_magsigz.toy.500x15.2.nsa16of34.samples.npy\n"
     ]
    },
    {
     "data": {
      "application/vnd.jupyter.widget-view+json": {
       "model_id": "2d4264a0cd954aba9d8db52c1e671457",
       "version_major": 2,
       "version_minor": 0
      },
      "text/plain": [
       "  0%|          | 0/1000 [00:00<?, ?it/s]"
      ]
     },
     "metadata": {},
     "output_type": "display_data"
    },
    {
     "name": "stdout",
     "output_type": "stream",
     "text": [
      "/scratch/network/chhahn/sedflow/anpe_thetaunt_magsigz.toy.500x15.2.nsa17of34.samples.npy\n"
     ]
    },
    {
     "data": {
      "application/vnd.jupyter.widget-view+json": {
       "model_id": "2a144d9860784517b2597b4ebde784fa",
       "version_major": 2,
       "version_minor": 0
      },
      "text/plain": [
       "  0%|          | 0/1000 [00:00<?, ?it/s]"
      ]
     },
     "metadata": {},
     "output_type": "display_data"
    },
    {
     "name": "stdout",
     "output_type": "stream",
     "text": [
      "/scratch/network/chhahn/sedflow/anpe_thetaunt_magsigz.toy.500x15.2.nsa18of34.samples.npy\n"
     ]
    },
    {
     "data": {
      "application/vnd.jupyter.widget-view+json": {
       "model_id": "a4dfbbd4c45c48588c1385e63eb9afe4",
       "version_major": 2,
       "version_minor": 0
      },
      "text/plain": [
       "  0%|          | 0/1000 [00:00<?, ?it/s]"
      ]
     },
     "metadata": {},
     "output_type": "display_data"
    },
    {
     "name": "stdout",
     "output_type": "stream",
     "text": [
      "/scratch/network/chhahn/sedflow/anpe_thetaunt_magsigz.toy.500x15.2.nsa19of34.samples.npy\n"
     ]
    },
    {
     "data": {
      "application/vnd.jupyter.widget-view+json": {
       "model_id": "56c743ccfccc45ac83b7e3e6cd7d977f",
       "version_major": 2,
       "version_minor": 0
      },
      "text/plain": [
       "  0%|          | 0/1000 [00:00<?, ?it/s]"
      ]
     },
     "metadata": {},
     "output_type": "display_data"
    },
    {
     "name": "stdout",
     "output_type": "stream",
     "text": [
      "/scratch/network/chhahn/sedflow/anpe_thetaunt_magsigz.toy.500x15.2.nsa20of34.samples.npy\n"
     ]
    },
    {
     "data": {
      "application/vnd.jupyter.widget-view+json": {
       "model_id": "863d06fd8cda4f5baab23cd279eccef8",
       "version_major": 2,
       "version_minor": 0
      },
      "text/plain": [
       "  0%|          | 0/1000 [00:00<?, ?it/s]"
      ]
     },
     "metadata": {},
     "output_type": "display_data"
    },
    {
     "name": "stdout",
     "output_type": "stream",
     "text": [
      "/scratch/network/chhahn/sedflow/anpe_thetaunt_magsigz.toy.500x15.2.nsa21of34.samples.npy\n"
     ]
    },
    {
     "data": {
      "application/vnd.jupyter.widget-view+json": {
       "model_id": "b6785284ba1e444894fbcc1bfb574166",
       "version_major": 2,
       "version_minor": 0
      },
      "text/plain": [
       "  0%|          | 0/1000 [00:00<?, ?it/s]"
      ]
     },
     "metadata": {},
     "output_type": "display_data"
    },
    {
     "name": "stdout",
     "output_type": "stream",
     "text": [
      "/scratch/network/chhahn/sedflow/anpe_thetaunt_magsigz.toy.500x15.2.nsa22of34.samples.npy\n"
     ]
    },
    {
     "data": {
      "application/vnd.jupyter.widget-view+json": {
       "model_id": "07831c2f6bf94ab0b3fe8c005bc7c125",
       "version_major": 2,
       "version_minor": 0
      },
      "text/plain": [
       "  0%|          | 0/1000 [00:00<?, ?it/s]"
      ]
     },
     "metadata": {},
     "output_type": "display_data"
    },
    {
     "name": "stdout",
     "output_type": "stream",
     "text": [
      "/scratch/network/chhahn/sedflow/anpe_thetaunt_magsigz.toy.500x15.2.nsa23of34.samples.npy\n"
     ]
    },
    {
     "data": {
      "application/vnd.jupyter.widget-view+json": {
       "model_id": "a40afc7a0a0b4f0e8b7ef24576fd9ee9",
       "version_major": 2,
       "version_minor": 0
      },
      "text/plain": [
       "  0%|          | 0/1000 [00:00<?, ?it/s]"
      ]
     },
     "metadata": {},
     "output_type": "display_data"
    },
    {
     "name": "stdout",
     "output_type": "stream",
     "text": [
      "/scratch/network/chhahn/sedflow/anpe_thetaunt_magsigz.toy.500x15.2.nsa24of34.samples.npy\n"
     ]
    },
    {
     "data": {
      "application/vnd.jupyter.widget-view+json": {
       "model_id": "4afaf804e6114f6198676086ec870357",
       "version_major": 2,
       "version_minor": 0
      },
      "text/plain": [
       "  0%|          | 0/1000 [00:00<?, ?it/s]"
      ]
     },
     "metadata": {},
     "output_type": "display_data"
    },
    {
     "name": "stdout",
     "output_type": "stream",
     "text": [
      "/scratch/network/chhahn/sedflow/anpe_thetaunt_magsigz.toy.500x15.2.nsa25of34.samples.npy\n"
     ]
    },
    {
     "data": {
      "application/vnd.jupyter.widget-view+json": {
       "model_id": "2cfbbb9268d445eea935a47ec9127f29",
       "version_major": 2,
       "version_minor": 0
      },
      "text/plain": [
       "  0%|          | 0/1000 [00:00<?, ?it/s]"
      ]
     },
     "metadata": {},
     "output_type": "display_data"
    },
    {
     "name": "stdout",
     "output_type": "stream",
     "text": [
      "/scratch/network/chhahn/sedflow/anpe_thetaunt_magsigz.toy.500x15.2.nsa26of34.samples.npy\n"
     ]
    },
    {
     "data": {
      "application/vnd.jupyter.widget-view+json": {
       "model_id": "fb64e542c70c4264b894cf1425eafcc0",
       "version_major": 2,
       "version_minor": 0
      },
      "text/plain": [
       "  0%|          | 0/1000 [00:00<?, ?it/s]"
      ]
     },
     "metadata": {},
     "output_type": "display_data"
    },
    {
     "name": "stdout",
     "output_type": "stream",
     "text": [
      "/scratch/network/chhahn/sedflow/anpe_thetaunt_magsigz.toy.500x15.2.nsa27of34.samples.npy\n"
     ]
    },
    {
     "data": {
      "application/vnd.jupyter.widget-view+json": {
       "model_id": "3c1f0a1d796141a79b2bdfe245d2020d",
       "version_major": 2,
       "version_minor": 0
      },
      "text/plain": [
       "  0%|          | 0/1000 [00:00<?, ?it/s]"
      ]
     },
     "metadata": {},
     "output_type": "display_data"
    },
    {
     "name": "stdout",
     "output_type": "stream",
     "text": [
      "/scratch/network/chhahn/sedflow/anpe_thetaunt_magsigz.toy.500x15.2.nsa28of34.samples.npy\n"
     ]
    },
    {
     "data": {
      "application/vnd.jupyter.widget-view+json": {
       "model_id": "864d6cdf03204b8cb5d5d7b827b7cef6",
       "version_major": 2,
       "version_minor": 0
      },
      "text/plain": [
       "  0%|          | 0/1000 [00:00<?, ?it/s]"
      ]
     },
     "metadata": {},
     "output_type": "display_data"
    },
    {
     "name": "stdout",
     "output_type": "stream",
     "text": [
      "/scratch/network/chhahn/sedflow/anpe_thetaunt_magsigz.toy.500x15.2.nsa29of34.samples.npy\n"
     ]
    },
    {
     "data": {
      "application/vnd.jupyter.widget-view+json": {
       "model_id": "2982e1d07cc74e948dd7284ce2e3a139",
       "version_major": 2,
       "version_minor": 0
      },
      "text/plain": [
       "  0%|          | 0/1000 [00:00<?, ?it/s]"
      ]
     },
     "metadata": {},
     "output_type": "display_data"
    },
    {
     "name": "stdout",
     "output_type": "stream",
     "text": [
      "/scratch/network/chhahn/sedflow/anpe_thetaunt_magsigz.toy.500x15.2.nsa30of34.samples.npy\n"
     ]
    },
    {
     "data": {
      "application/vnd.jupyter.widget-view+json": {
       "model_id": "b19d02863c454905ad10c3d8810edc46",
       "version_major": 2,
       "version_minor": 0
      },
      "text/plain": [
       "  0%|          | 0/1000 [00:00<?, ?it/s]"
      ]
     },
     "metadata": {},
     "output_type": "display_data"
    },
    {
     "name": "stdout",
     "output_type": "stream",
     "text": [
      "/scratch/network/chhahn/sedflow/anpe_thetaunt_magsigz.toy.500x15.2.nsa31of34.samples.npy\n"
     ]
    },
    {
     "data": {
      "application/vnd.jupyter.widget-view+json": {
       "model_id": "9589747fb11a476ba774ecf431e10185",
       "version_major": 2,
       "version_minor": 0
      },
      "text/plain": [
       "  0%|          | 0/1000 [00:00<?, ?it/s]"
      ]
     },
     "metadata": {},
     "output_type": "display_data"
    },
    {
     "name": "stdout",
     "output_type": "stream",
     "text": [
      "/scratch/network/chhahn/sedflow/anpe_thetaunt_magsigz.toy.500x15.2.nsa32of34.samples.npy\n"
     ]
    },
    {
     "data": {
      "application/vnd.jupyter.widget-view+json": {
       "model_id": "e345d045f9d94a088a01c2e54f587364",
       "version_major": 2,
       "version_minor": 0
      },
      "text/plain": [
       "  0%|          | 0/1000 [00:00<?, ?it/s]"
      ]
     },
     "metadata": {},
     "output_type": "display_data"
    },
    {
     "name": "stdout",
     "output_type": "stream",
     "text": [
      "/scratch/network/chhahn/sedflow/anpe_thetaunt_magsigz.toy.500x15.2.nsa33of34.samples.npy\n"
     ]
    },
    {
     "data": {
      "application/vnd.jupyter.widget-view+json": {
       "model_id": "ddac644aa419452fb7bf8dc2bd809bea",
       "version_major": 2,
       "version_minor": 0
      },
      "text/plain": [
       "  0%|          | 0/887 [00:00<?, ?it/s]"
      ]
     },
     "metadata": {},
     "output_type": "display_data"
    }
   ],
   "source": [
    "# compile\n",
    "posts, fails = [], []\n",
    "logsfrs, logzmws = [], []\n",
    "for ichunk in range(34):\n",
    "    finite_chunk =  finite[ichunk*1000:(ichunk+1)*1000]\n",
    "\n",
    "    fpost = os.path.join(Train.data_dir(), 'anpe_thetaunt_magsigz.%s.%ix%i.%i.nsa%iof34.samples.npy' % (sample, nhidden, nblocks, itrain, ichunk))\n",
    "    print(fpost)\n",
    "    _post = np.load(fpost)[finite_chunk,:,:]\n",
    "\n",
    "    fail = (np.sum(np.sum(_post, axis=2), axis=1) == 0)\n",
    "\n",
    "    igals = np.arange(y_nsa.shape[0])[ichunk*1000:(ichunk+1)*1000][finite_chunk][fail]\n",
    "    iigals = np.arange(_post.shape[0])[fail]\n",
    "\n",
    "    post = np.zeros((_post.shape[0], _post.shape[1], 12))\n",
    "    post[~fail,:] = prior.transform(_post[~fail])\n",
    "\n",
    "    if np.sum(fail) > 0:\n",
    "        for iigal, igal in zip(iigals, igals):\n",
    "            fgal = os.path.join(Train.data_dir(), 'nsa_fail', 'mcmc.nsa.%i.hdf5' % igal)\n",
    "            if os.path.isfile(fgal):\n",
    "                gal = h5py.File(fgal, 'r')\n",
    "                chain_i = Train.flatten_chain(gal['mcmc_chain'][...][2000:,:,:])[-10000:,:]\n",
    "                post[iigal,:,:] = chain_i\n",
    "    posts.append(post)\n",
    "    fails.append(fail)\n",
    "    \n",
    "    # derived galaxy properties\n",
    "    z_chunk = y_nsa[:,-1][ichunk*1000:(ichunk+1)*1000][finite_chunk]\n",
    "\n",
    "    logsfr = np.zeros((post.shape[0], post.shape[1]))\n",
    "    logzmw = np.zeros((post.shape[0], post.shape[1]))\n",
    "    for ii in trange(post.shape[0]):\n",
    "        thetas_sps = post[ii,:]\n",
    "        logsfr[ii,:] = np.log10(np.array(m_sps.avgSFR(thetas_sps, zred=float(z_chunk[ii]), dt=1.)))\n",
    "        logzmw[ii,:] = np.log10(np.array(m_sps.Z_MW(thetas_sps, zred=float(z_chunk[ii])))).flatten()\n",
    "    logsfrs.append(logsfr)\n",
    "    logzmws.append(logzmw)\n",
    "\n",
    "    #prop[ii,:,:] = Train.thetas2props(post[ii,:], np.repeat(z_chunk[ii], post[ii,:].shape[0]).astype(float))\n",
    "\n",
    "posts = np.concatenate(posts)\n",
    "fails = np.concatenate(fails)\n",
    "logsfrs = np.concatenate(logsfrs)\n",
    "logzmws = np.concatenate(logzmws)\n"
   ]
  },
  {
   "cell_type": "code",
   "execution_count": 8,
   "metadata": {},
   "outputs": [],
   "source": [
    "# write out\n",
    "fsedflow = h5py.File(os.path.join(Train.data_dir(), 'nsa.sedflow.hdf5'), 'w')\n",
    "\n",
    "fsedflow.create_dataset('NSAID', data=nsa['NSAID'][finite])\n",
    "obs = ['mag_u', 'mag_g', 'mag_r', 'mag_i', 'mag_z', 'sigma_u', 'sigma_g', 'sigma_r', 'sigma_i', 'sigma_z', 'redshift']\n",
    "for i, o in enumerate(obs):\n",
    "    fsedflow.create_dataset(o, data=y_nsa[finite,i])\n",
    "\n",
    "params = ['log_mstar', 'beta1', 'beta2', 'beta3', 'beta4', 'fburst', 'tburst', 'log_gamma1', 'log_gamma2', 'tau_bc', 'tau_ism', 'n_dust']\n",
    "for i, param in enumerate(params):\n",
    "    fsedflow.create_dataset(param, data=posts[:,:,i].astype(np.float32))\n",
    "\n",
    "fsedflow.create_dataset('sedflow', data=~fails)    \n",
    "\n",
    "# write out properties\n",
    "fsedflow.create_dataset('log_sfr_1gyr', data=logsfrs.astype(np.float32))\n",
    "fsedflow.create_dataset('log_z_mw', data=logzmws.astype(np.float32))\n",
    "\n",
    "fsedflow.close()"
   ]
  },
  {
   "cell_type": "code",
   "execution_count": 11,
   "metadata": {},
   "outputs": [],
   "source": [
    "fsedflow = h5py.File(os.path.join(Train.data_dir(), 'nsa.sedflow.hdf5'), 'r')\n",
    "\n",
    "nsa_id = fsedflow['NSAID'][...]\n",
    "\n",
    "log_sfr_1gyr = fsedflow['log_sfr_1gyr'][...]"
   ]
  },
  {
   "cell_type": "code",
   "execution_count": 14,
   "metadata": {},
   "outputs": [
    {
     "data": {
      "text/plain": [
       "(33884, 10000)"
      ]
     },
     "execution_count": 14,
     "metadata": {},
     "output_type": "execute_result"
    }
   ],
   "source": [
    "fsedflow['tburst'][...].shape"
   ]
  },
  {
   "cell_type": "code",
   "execution_count": null,
   "metadata": {},
   "outputs": [],
   "source": []
  },
  {
   "cell_type": "code",
   "execution_count": null,
   "metadata": {},
   "outputs": [],
   "source": []
  }
 ],
 "metadata": {
  "kernelspec": {
   "display_name": "torch-env",
   "language": "python",
   "name": "torch-env"
  },
  "language_info": {
   "codemirror_mode": {
    "name": "ipython",
    "version": 3
   },
   "file_extension": ".py",
   "mimetype": "text/x-python",
   "name": "python",
   "nbconvert_exporter": "python",
   "pygments_lexer": "ipython3",
   "version": "3.7.10"
  }
 },
 "nbformat": 4,
 "nbformat_minor": 2
}
