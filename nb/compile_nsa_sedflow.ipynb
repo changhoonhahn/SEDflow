{
 "cells": [
  {
   "cell_type": "markdown",
   "metadata": {},
   "source": [
    "# Compile SEDflow posteriors and MCMC posteriors for NSA galaxies"
   ]
  },
  {
   "cell_type": "code",
   "execution_count": 1,
   "metadata": {},
   "outputs": [
    {
     "name": "stderr",
     "output_type": "stream",
     "text": [
      "/home/chhahn/projects/provabgs/src/provabgs/models.py:23: UserWarning: import error with fsps; only use emulators\n",
      "  warnings.warn('import error with fsps; only use emulators')\n"
     ]
    }
   ],
   "source": [
    "import os\n",
    "import h5py\n",
    "import numpy as np\n",
    "from tqdm.notebook import tqdm, trange\n",
    "\n",
    "from sedflow import obs as Obs\n",
    "from sedflow import train as Train\n",
    "\n",
    "from provabgs import infer as Infer\n",
    "from provabgs import models as Models"
   ]
  },
  {
   "cell_type": "code",
   "execution_count": 2,
   "metadata": {},
   "outputs": [],
   "source": [
    "sample = 'toy'\n",
    "itrain = 2\n",
    "nhidden = 500\n",
    "nblocks = 15"
   ]
  },
  {
   "cell_type": "code",
   "execution_count": 3,
   "metadata": {},
   "outputs": [],
   "source": [
    "# u, g, r, i, z, sigma_u, sigma_g, sigma_r, sigma_i, sigma_z, redshift\n",
    "nsa, igals = Obs.NSA()\n",
    "y_nsa = Obs.load_nsa_data(test_set=False)\n",
    "finite = np.all(np.isfinite(y_nsa[:,:5]), axis=1)"
   ]
  },
  {
   "cell_type": "code",
   "execution_count": 4,
   "metadata": {},
   "outputs": [
    {
     "name": "stdout",
     "output_type": "stream",
     "text": [
      "33884 galaxies\n"
     ]
    }
   ],
   "source": [
    "print('%i galaxies' % np.sum(finite))"
   ]
  },
  {
   "cell_type": "code",
   "execution_count": 5,
   "metadata": {},
   "outputs": [],
   "source": [
    "prior = Train.prior_default()"
   ]
  },
  {
   "cell_type": "code",
   "execution_count": 6,
   "metadata": {},
   "outputs": [
    {
     "name": "stdout",
     "output_type": "stream",
     "text": [
      "input parameters : logmstar, beta1_sfh, beta2_sfh, beta3_sfh, beta4_sfh, fburst, tburst, gamma1_zh, gamma2_zh, dust1, dust2, dust_index\n"
     ]
    }
   ],
   "source": [
    "# sps model\n",
    "m_sps= Train.SPSmodel_default(emulator=True)"
   ]
  },
  {
   "cell_type": "code",
   "execution_count": 7,
   "metadata": {
    "scrolled": true
   },
   "outputs": [
    {
     "name": "stdout",
     "output_type": "stream",
     "text": [
      "/scratch/network/chhahn/sedflow/anpe_thetaunt_magsigz.toy.500x15.2.nsa0of34.samples.npy\n"
     ]
    },
    {
     "data": {
      "application/vnd.jupyter.widget-view+json": {
       "model_id": "0461ddcd3ae744f48c206acff7df8a5a",
       "version_major": 2,
       "version_minor": 0
      },
      "text/plain": [
       "  0%|          | 0/1000 [00:00<?, ?it/s]"
      ]
     },
     "metadata": {},
     "output_type": "display_data"
    },
    {
     "name": "stdout",
     "output_type": "stream",
     "text": [
      "/scratch/network/chhahn/sedflow/anpe_thetaunt_magsigz.toy.500x15.2.nsa1of34.samples.npy\n"
     ]
    },
    {
     "data": {
      "application/vnd.jupyter.widget-view+json": {
       "model_id": "2175653ccc764287b91804cf7fd2e03f",
       "version_major": 2,
       "version_minor": 0
      },
      "text/plain": [
       "  0%|          | 0/1000 [00:00<?, ?it/s]"
      ]
     },
     "metadata": {},
     "output_type": "display_data"
    },
    {
     "name": "stdout",
     "output_type": "stream",
     "text": [
      "/scratch/network/chhahn/sedflow/anpe_thetaunt_magsigz.toy.500x15.2.nsa2of34.samples.npy\n"
     ]
    },
    {
     "data": {
      "application/vnd.jupyter.widget-view+json": {
       "model_id": "1d60acf93c5d4bcfa701de2c54f19cff",
       "version_major": 2,
       "version_minor": 0
      },
      "text/plain": [
       "  0%|          | 0/1000 [00:00<?, ?it/s]"
      ]
     },
     "metadata": {},
     "output_type": "display_data"
    },
    {
     "name": "stdout",
     "output_type": "stream",
     "text": [
      "/scratch/network/chhahn/sedflow/anpe_thetaunt_magsigz.toy.500x15.2.nsa3of34.samples.npy\n"
     ]
    },
    {
     "data": {
      "application/vnd.jupyter.widget-view+json": {
       "model_id": "07e12797190d4e448d3cf4e61fd0ffa0",
       "version_major": 2,
       "version_minor": 0
      },
      "text/plain": [
       "  0%|          | 0/1000 [00:00<?, ?it/s]"
      ]
     },
     "metadata": {},
     "output_type": "display_data"
    },
    {
     "name": "stdout",
     "output_type": "stream",
     "text": [
      "/scratch/network/chhahn/sedflow/anpe_thetaunt_magsigz.toy.500x15.2.nsa4of34.samples.npy\n"
     ]
    },
    {
     "data": {
      "application/vnd.jupyter.widget-view+json": {
       "model_id": "82eafb4f02b74183a67f51411f29c02f",
       "version_major": 2,
       "version_minor": 0
      },
      "text/plain": [
       "  0%|          | 0/1000 [00:00<?, ?it/s]"
      ]
     },
     "metadata": {},
     "output_type": "display_data"
    },
    {
     "name": "stdout",
     "output_type": "stream",
     "text": [
      "/scratch/network/chhahn/sedflow/anpe_thetaunt_magsigz.toy.500x15.2.nsa5of34.samples.npy\n"
     ]
    },
    {
     "data": {
      "application/vnd.jupyter.widget-view+json": {
       "model_id": "6cc1edb17311485587203c7e9d11d09f",
       "version_major": 2,
       "version_minor": 0
      },
      "text/plain": [
       "  0%|          | 0/1000 [00:00<?, ?it/s]"
      ]
     },
     "metadata": {},
     "output_type": "display_data"
    },
    {
     "name": "stdout",
     "output_type": "stream",
     "text": [
      "/scratch/network/chhahn/sedflow/anpe_thetaunt_magsigz.toy.500x15.2.nsa6of34.samples.npy\n"
     ]
    },
    {
     "data": {
      "application/vnd.jupyter.widget-view+json": {
       "model_id": "91eeb31849d2410b89775f1121d9b2bb",
       "version_major": 2,
       "version_minor": 0
      },
      "text/plain": [
       "  0%|          | 0/1000 [00:00<?, ?it/s]"
      ]
     },
     "metadata": {},
     "output_type": "display_data"
    },
    {
     "name": "stdout",
     "output_type": "stream",
     "text": [
      "/scratch/network/chhahn/sedflow/anpe_thetaunt_magsigz.toy.500x15.2.nsa7of34.samples.npy\n"
     ]
    },
    {
     "data": {
      "application/vnd.jupyter.widget-view+json": {
       "model_id": "c7d9c16620bb4f7785c3328a21356020",
       "version_major": 2,
       "version_minor": 0
      },
      "text/plain": [
       "  0%|          | 0/998 [00:00<?, ?it/s]"
      ]
     },
     "metadata": {},
     "output_type": "display_data"
    },
    {
     "name": "stdout",
     "output_type": "stream",
     "text": [
      "/scratch/network/chhahn/sedflow/anpe_thetaunt_magsigz.toy.500x15.2.nsa8of34.samples.npy\n"
     ]
    },
    {
     "data": {
      "application/vnd.jupyter.widget-view+json": {
       "model_id": "85863c840f2f43928a6f76ed876b4d80",
       "version_major": 2,
       "version_minor": 0
      },
      "text/plain": [
       "  0%|          | 0/1000 [00:00<?, ?it/s]"
      ]
     },
     "metadata": {},
     "output_type": "display_data"
    },
    {
     "name": "stdout",
     "output_type": "stream",
     "text": [
      "/scratch/network/chhahn/sedflow/anpe_thetaunt_magsigz.toy.500x15.2.nsa9of34.samples.npy\n"
     ]
    },
    {
     "data": {
      "application/vnd.jupyter.widget-view+json": {
       "model_id": "1e68ed0b68f2430789eb975f0948ffcd",
       "version_major": 2,
       "version_minor": 0
      },
      "text/plain": [
       "  0%|          | 0/1000 [00:00<?, ?it/s]"
      ]
     },
     "metadata": {},
     "output_type": "display_data"
    },
    {
     "name": "stdout",
     "output_type": "stream",
     "text": [
      "/scratch/network/chhahn/sedflow/anpe_thetaunt_magsigz.toy.500x15.2.nsa10of34.samples.npy\n"
     ]
    },
    {
     "data": {
      "application/vnd.jupyter.widget-view+json": {
       "model_id": "af1441a255fc47f99fbdb9a15596f4cc",
       "version_major": 2,
       "version_minor": 0
      },
      "text/plain": [
       "  0%|          | 0/1000 [00:00<?, ?it/s]"
      ]
     },
     "metadata": {},
     "output_type": "display_data"
    },
    {
     "name": "stdout",
     "output_type": "stream",
     "text": [
      "/scratch/network/chhahn/sedflow/anpe_thetaunt_magsigz.toy.500x15.2.nsa11of34.samples.npy\n"
     ]
    },
    {
     "data": {
      "application/vnd.jupyter.widget-view+json": {
       "model_id": "b20fc2ffc4aa456d931f48003b614cc9",
       "version_major": 2,
       "version_minor": 0
      },
      "text/plain": [
       "  0%|          | 0/1000 [00:00<?, ?it/s]"
      ]
     },
     "metadata": {},
     "output_type": "display_data"
    },
    {
     "name": "stdout",
     "output_type": "stream",
     "text": [
      "/scratch/network/chhahn/sedflow/anpe_thetaunt_magsigz.toy.500x15.2.nsa12of34.samples.npy\n"
     ]
    },
    {
     "data": {
      "application/vnd.jupyter.widget-view+json": {
       "model_id": "f223d34969d046a3892ce1dea3518c68",
       "version_major": 2,
       "version_minor": 0
      },
      "text/plain": [
       "  0%|          | 0/1000 [00:00<?, ?it/s]"
      ]
     },
     "metadata": {},
     "output_type": "display_data"
    },
    {
     "name": "stdout",
     "output_type": "stream",
     "text": [
      "/scratch/network/chhahn/sedflow/anpe_thetaunt_magsigz.toy.500x15.2.nsa13of34.samples.npy\n"
     ]
    },
    {
     "data": {
      "application/vnd.jupyter.widget-view+json": {
       "model_id": "390a37a517bc402891e3009ff5079e79",
       "version_major": 2,
       "version_minor": 0
      },
      "text/plain": [
       "  0%|          | 0/1000 [00:00<?, ?it/s]"
      ]
     },
     "metadata": {},
     "output_type": "display_data"
    },
    {
     "name": "stdout",
     "output_type": "stream",
     "text": [
      "/scratch/network/chhahn/sedflow/anpe_thetaunt_magsigz.toy.500x15.2.nsa14of34.samples.npy\n"
     ]
    },
    {
     "data": {
      "application/vnd.jupyter.widget-view+json": {
       "model_id": "d243155c90c14a919cf656b38920a60c",
       "version_major": 2,
       "version_minor": 0
      },
      "text/plain": [
       "  0%|          | 0/1000 [00:00<?, ?it/s]"
      ]
     },
     "metadata": {},
     "output_type": "display_data"
    },
    {
     "name": "stdout",
     "output_type": "stream",
     "text": [
      "/scratch/network/chhahn/sedflow/anpe_thetaunt_magsigz.toy.500x15.2.nsa15of34.samples.npy\n"
     ]
    },
    {
     "data": {
      "application/vnd.jupyter.widget-view+json": {
       "model_id": "8d7ff286fdeb4f2c813537787d67e630",
       "version_major": 2,
       "version_minor": 0
      },
      "text/plain": [
       "  0%|          | 0/999 [00:00<?, ?it/s]"
      ]
     },
     "metadata": {},
     "output_type": "display_data"
    },
    {
     "name": "stdout",
     "output_type": "stream",
     "text": [
      "/scratch/network/chhahn/sedflow/anpe_thetaunt_magsigz.toy.500x15.2.nsa16of34.samples.npy\n"
     ]
    },
    {
     "data": {
      "application/vnd.jupyter.widget-view+json": {
       "model_id": "b76975dcef954d2ca296f03b10667bb0",
       "version_major": 2,
       "version_minor": 0
      },
      "text/plain": [
       "  0%|          | 0/1000 [00:00<?, ?it/s]"
      ]
     },
     "metadata": {},
     "output_type": "display_data"
    },
    {
     "name": "stdout",
     "output_type": "stream",
     "text": [
      "/scratch/network/chhahn/sedflow/anpe_thetaunt_magsigz.toy.500x15.2.nsa17of34.samples.npy\n"
     ]
    },
    {
     "data": {
      "application/vnd.jupyter.widget-view+json": {
       "model_id": "a53c277c81444632a6b7b831f47ee2ec",
       "version_major": 2,
       "version_minor": 0
      },
      "text/plain": [
       "  0%|          | 0/1000 [00:00<?, ?it/s]"
      ]
     },
     "metadata": {},
     "output_type": "display_data"
    },
    {
     "name": "stdout",
     "output_type": "stream",
     "text": [
      "/scratch/network/chhahn/sedflow/anpe_thetaunt_magsigz.toy.500x15.2.nsa18of34.samples.npy\n"
     ]
    },
    {
     "data": {
      "application/vnd.jupyter.widget-view+json": {
       "model_id": "233be7135b334d2fa6557106eb4d63ae",
       "version_major": 2,
       "version_minor": 0
      },
      "text/plain": [
       "  0%|          | 0/1000 [00:00<?, ?it/s]"
      ]
     },
     "metadata": {},
     "output_type": "display_data"
    },
    {
     "name": "stdout",
     "output_type": "stream",
     "text": [
      "/scratch/network/chhahn/sedflow/anpe_thetaunt_magsigz.toy.500x15.2.nsa19of34.samples.npy\n"
     ]
    },
    {
     "data": {
      "application/vnd.jupyter.widget-view+json": {
       "model_id": "cc4f2e8427134b00a440371ee00c1283",
       "version_major": 2,
       "version_minor": 0
      },
      "text/plain": [
       "  0%|          | 0/1000 [00:00<?, ?it/s]"
      ]
     },
     "metadata": {},
     "output_type": "display_data"
    },
    {
     "name": "stdout",
     "output_type": "stream",
     "text": [
      "/scratch/network/chhahn/sedflow/anpe_thetaunt_magsigz.toy.500x15.2.nsa20of34.samples.npy\n"
     ]
    },
    {
     "data": {
      "application/vnd.jupyter.widget-view+json": {
       "model_id": "14cd6aac76064647aaaea81ec485ad4e",
       "version_major": 2,
       "version_minor": 0
      },
      "text/plain": [
       "  0%|          | 0/1000 [00:00<?, ?it/s]"
      ]
     },
     "metadata": {},
     "output_type": "display_data"
    },
    {
     "name": "stdout",
     "output_type": "stream",
     "text": [
      "/scratch/network/chhahn/sedflow/anpe_thetaunt_magsigz.toy.500x15.2.nsa21of34.samples.npy\n"
     ]
    },
    {
     "data": {
      "application/vnd.jupyter.widget-view+json": {
       "model_id": "71bb40b381724844ae843ef6020fb98d",
       "version_major": 2,
       "version_minor": 0
      },
      "text/plain": [
       "  0%|          | 0/1000 [00:00<?, ?it/s]"
      ]
     },
     "metadata": {},
     "output_type": "display_data"
    },
    {
     "name": "stdout",
     "output_type": "stream",
     "text": [
      "/scratch/network/chhahn/sedflow/anpe_thetaunt_magsigz.toy.500x15.2.nsa22of34.samples.npy\n"
     ]
    },
    {
     "data": {
      "application/vnd.jupyter.widget-view+json": {
       "model_id": "158ebcd7bb5944c7b462a98660aff4f5",
       "version_major": 2,
       "version_minor": 0
      },
      "text/plain": [
       "  0%|          | 0/1000 [00:00<?, ?it/s]"
      ]
     },
     "metadata": {},
     "output_type": "display_data"
    },
    {
     "name": "stdout",
     "output_type": "stream",
     "text": [
      "/scratch/network/chhahn/sedflow/anpe_thetaunt_magsigz.toy.500x15.2.nsa23of34.samples.npy\n"
     ]
    },
    {
     "data": {
      "application/vnd.jupyter.widget-view+json": {
       "model_id": "279ebf90b674461e97a7c0d234b45032",
       "version_major": 2,
       "version_minor": 0
      },
      "text/plain": [
       "  0%|          | 0/1000 [00:00<?, ?it/s]"
      ]
     },
     "metadata": {},
     "output_type": "display_data"
    },
    {
     "name": "stdout",
     "output_type": "stream",
     "text": [
      "/scratch/network/chhahn/sedflow/anpe_thetaunt_magsigz.toy.500x15.2.nsa24of34.samples.npy\n"
     ]
    },
    {
     "data": {
      "application/vnd.jupyter.widget-view+json": {
       "model_id": "b356752215554017a82f0f9405a3ec4d",
       "version_major": 2,
       "version_minor": 0
      },
      "text/plain": [
       "  0%|          | 0/1000 [00:00<?, ?it/s]"
      ]
     },
     "metadata": {},
     "output_type": "display_data"
    },
    {
     "name": "stdout",
     "output_type": "stream",
     "text": [
      "/scratch/network/chhahn/sedflow/anpe_thetaunt_magsigz.toy.500x15.2.nsa25of34.samples.npy\n"
     ]
    },
    {
     "data": {
      "application/vnd.jupyter.widget-view+json": {
       "model_id": "a9c5f28991d9457e8a9c14bccf6cf1ae",
       "version_major": 2,
       "version_minor": 0
      },
      "text/plain": [
       "  0%|          | 0/1000 [00:00<?, ?it/s]"
      ]
     },
     "metadata": {},
     "output_type": "display_data"
    },
    {
     "name": "stdout",
     "output_type": "stream",
     "text": [
      "/scratch/network/chhahn/sedflow/anpe_thetaunt_magsigz.toy.500x15.2.nsa26of34.samples.npy\n"
     ]
    },
    {
     "data": {
      "application/vnd.jupyter.widget-view+json": {
       "model_id": "73e00b00438e42b299dca6b7915ee40e",
       "version_major": 2,
       "version_minor": 0
      },
      "text/plain": [
       "  0%|          | 0/1000 [00:00<?, ?it/s]"
      ]
     },
     "metadata": {},
     "output_type": "display_data"
    },
    {
     "name": "stdout",
     "output_type": "stream",
     "text": [
      "/scratch/network/chhahn/sedflow/anpe_thetaunt_magsigz.toy.500x15.2.nsa27of34.samples.npy\n"
     ]
    },
    {
     "data": {
      "application/vnd.jupyter.widget-view+json": {
       "model_id": "4f5904ddd225471e8b0342aafcc84319",
       "version_major": 2,
       "version_minor": 0
      },
      "text/plain": [
       "  0%|          | 0/1000 [00:00<?, ?it/s]"
      ]
     },
     "metadata": {},
     "output_type": "display_data"
    },
    {
     "name": "stdout",
     "output_type": "stream",
     "text": [
      "/scratch/network/chhahn/sedflow/anpe_thetaunt_magsigz.toy.500x15.2.nsa28of34.samples.npy\n"
     ]
    },
    {
     "data": {
      "application/vnd.jupyter.widget-view+json": {
       "model_id": "fdbbeaae9d9e40bd94a082cf6f66c08b",
       "version_major": 2,
       "version_minor": 0
      },
      "text/plain": [
       "  0%|          | 0/1000 [00:00<?, ?it/s]"
      ]
     },
     "metadata": {},
     "output_type": "display_data"
    },
    {
     "name": "stdout",
     "output_type": "stream",
     "text": [
      "/scratch/network/chhahn/sedflow/anpe_thetaunt_magsigz.toy.500x15.2.nsa29of34.samples.npy\n"
     ]
    },
    {
     "data": {
      "application/vnd.jupyter.widget-view+json": {
       "model_id": "b21f1fae1f3b419da25b9c12376f34a5",
       "version_major": 2,
       "version_minor": 0
      },
      "text/plain": [
       "  0%|          | 0/1000 [00:00<?, ?it/s]"
      ]
     },
     "metadata": {},
     "output_type": "display_data"
    },
    {
     "name": "stdout",
     "output_type": "stream",
     "text": [
      "/scratch/network/chhahn/sedflow/anpe_thetaunt_magsigz.toy.500x15.2.nsa30of34.samples.npy\n"
     ]
    },
    {
     "data": {
      "application/vnd.jupyter.widget-view+json": {
       "model_id": "2136399acbd64997bd07def7343d4e19",
       "version_major": 2,
       "version_minor": 0
      },
      "text/plain": [
       "  0%|          | 0/1000 [00:00<?, ?it/s]"
      ]
     },
     "metadata": {},
     "output_type": "display_data"
    },
    {
     "name": "stdout",
     "output_type": "stream",
     "text": [
      "/scratch/network/chhahn/sedflow/anpe_thetaunt_magsigz.toy.500x15.2.nsa31of34.samples.npy\n"
     ]
    },
    {
     "data": {
      "application/vnd.jupyter.widget-view+json": {
       "model_id": "930e7844f0054bdbb8a545675d34041e",
       "version_major": 2,
       "version_minor": 0
      },
      "text/plain": [
       "  0%|          | 0/1000 [00:00<?, ?it/s]"
      ]
     },
     "metadata": {},
     "output_type": "display_data"
    },
    {
     "name": "stdout",
     "output_type": "stream",
     "text": [
      "/scratch/network/chhahn/sedflow/anpe_thetaunt_magsigz.toy.500x15.2.nsa32of34.samples.npy\n"
     ]
    },
    {
     "data": {
      "application/vnd.jupyter.widget-view+json": {
       "model_id": "d144f4fdfc3e41738861b7d75e1666fb",
       "version_major": 2,
       "version_minor": 0
      },
      "text/plain": [
       "  0%|          | 0/1000 [00:00<?, ?it/s]"
      ]
     },
     "metadata": {},
     "output_type": "display_data"
    },
    {
     "name": "stdout",
     "output_type": "stream",
     "text": [
      "/scratch/network/chhahn/sedflow/anpe_thetaunt_magsigz.toy.500x15.2.nsa33of34.samples.npy\n"
     ]
    },
    {
     "data": {
      "application/vnd.jupyter.widget-view+json": {
       "model_id": "5c25135d251c41dba9663f53ffe0cbbd",
       "version_major": 2,
       "version_minor": 0
      },
      "text/plain": [
       "  0%|          | 0/887 [00:00<?, ?it/s]"
      ]
     },
     "metadata": {},
     "output_type": "display_data"
    }
   ],
   "source": [
    "# compile\n",
    "posts, fails = [], []\n",
    "logsfrs, logzmws = [], []\n",
    "for ichunk in range(34):\n",
    "    finite_chunk =  finite[ichunk*1000:(ichunk+1)*1000]\n",
    "\n",
    "    fpost = os.path.join(Train.data_dir(), 'anpe_thetaunt_magsigz.%s.%ix%i.%i.nsa%iof34.samples.npy' % (sample, nhidden, nblocks, itrain, ichunk))\n",
    "    print(fpost)\n",
    "    _post = np.load(fpost)[finite_chunk,:,:]\n",
    "\n",
    "    fail = (np.sum(np.sum(_post, axis=2), axis=1) == 0)\n",
    "\n",
    "    igals = np.arange(y_nsa.shape[0])[ichunk*1000:(ichunk+1)*1000][finite_chunk][fail]\n",
    "    iigals = np.arange(_post.shape[0])[fail]\n",
    "\n",
    "    post = np.zeros((_post.shape[0], _post.shape[1], 12))\n",
    "    post[~fail,:] = prior.transform(_post[~fail])\n",
    "\n",
    "    if np.sum(fail) > 0:\n",
    "        for iigal, igal in zip(iigals, igals):\n",
    "            fgal = os.path.join(Train.data_dir(), 'nsa_fail', 'mcmc.nsa.%i.hdf5' % igal)\n",
    "            if os.path.isfile(fgal):\n",
    "                gal = h5py.File(fgal, 'r')\n",
    "                chain_i = Train.flatten_chain(gal['mcmc_chain'][...][2000:,:,:])[-10000:,:]\n",
    "                post[iigal,:,:] = chain_i\n",
    "                post[iigal,:,7:9] = np.log10(chain_i[:,7:9])\n",
    "    posts.append(post)\n",
    "    fails.append(fail)\n",
    "    \n",
    "    # derived galaxy properties\n",
    "    z_chunk = y_nsa[:,-1][ichunk*1000:(ichunk+1)*1000][finite_chunk]\n",
    "\n",
    "    logsfr = np.zeros((post.shape[0], post.shape[1]))\n",
    "    logzmw = np.zeros((post.shape[0], post.shape[1]))\n",
    "    for ii in trange(post.shape[0]):\n",
    "        _thetas_sps = post[ii,:].copy()\n",
    "        thetas_sps = _thetas_sps\n",
    "        thetas_sps[:,7] = 10**_thetas_sps[:,7]\n",
    "        thetas_sps[:,8] = 10**_thetas_sps[:,8]        \n",
    "\n",
    "        logsfr[ii,:] = np.log10(np.array(m_sps.avgSFR(thetas_sps, zred=float(z_chunk[ii]), dt=1.)))\n",
    "        logzmw[ii,:] = np.log10(np.array(m_sps.Z_MW(thetas_sps, zred=float(z_chunk[ii])))).flatten()\n",
    "\n",
    "    logsfrs.append(logsfr)\n",
    "    logzmws.append(logzmw)\n",
    "\n",
    "posts = np.concatenate(posts)\n",
    "fails = np.concatenate(fails)\n",
    "logsfrs = np.concatenate(logsfrs)\n",
    "logzmws = np.concatenate(logzmws)"
   ]
  },
  {
   "cell_type": "code",
   "execution_count": 9,
   "metadata": {},
   "outputs": [],
   "source": [
    "# write out\n",
    "fsedflow = h5py.File(os.path.join(Train.data_dir(), 'nsa.sedflow.v0.2.hdf5'), 'w')\n",
    "\n",
    "fsedflow.create_dataset('NSAID', data=nsa['NSAID'][finite])\n",
    "obs = ['mag_u', 'mag_g', 'mag_r', 'mag_i', 'mag_z', 'sigma_u', 'sigma_g', 'sigma_r', 'sigma_i', 'sigma_z', 'redshift']\n",
    "for i, o in enumerate(obs):\n",
    "    fsedflow.create_dataset(o, data=y_nsa[finite,i])\n",
    "\n",
    "params = ['log_mstar', 'beta1', 'beta2', 'beta3', 'beta4', 'fburst', 'tburst', 'log_gamma1', 'log_gamma2', 'tau_bc', 'tau_ism', 'n_dust']\n",
    "for i, param in enumerate(params):\n",
    "    fsedflow.create_dataset(param, data=posts[:,:,i].astype(np.float32))\n",
    "\n",
    "fsedflow.create_dataset('sedflow', data=~fails)    \n",
    "\n",
    "# write out properties\n",
    "fsedflow.create_dataset('log_sfr_1gyr', data=logsfrs.astype(np.float32))\n",
    "fsedflow.create_dataset('log_z_mw', data=logzmws.astype(np.float32))\n",
    "\n",
    "fsedflow.close()"
   ]
  },
  {
   "cell_type": "code",
   "execution_count": null,
   "metadata": {},
   "outputs": [],
   "source": []
  }
 ],
 "metadata": {
  "kernelspec": {
   "display_name": "torch-env",
   "language": "python",
   "name": "torch-env"
  },
  "language_info": {
   "codemirror_mode": {
    "name": "ipython",
    "version": 3
   },
   "file_extension": ".py",
   "mimetype": "text/x-python",
   "name": "python",
   "nbconvert_exporter": "python",
   "pygments_lexer": "ipython3",
   "version": "3.7.10"
  }
 },
 "nbformat": 4,
 "nbformat_minor": 2
}
