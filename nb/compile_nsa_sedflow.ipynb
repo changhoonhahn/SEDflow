{
 "cells": [
  {
   "cell_type": "markdown",
   "metadata": {},
   "source": [
    "# Compile SEDflow posteriors and MCMC posteriors for NSA galaxies"
   ]
  },
  {
   "cell_type": "code",
   "execution_count": 1,
   "metadata": {},
   "outputs": [
    {
     "name": "stderr",
     "output_type": "stream",
     "text": [
      "/home/chhahn/projects/provabgs/src/provabgs/models.py:23: UserWarning: import error with fsps; only use emulators\n",
      "  warnings.warn('import error with fsps; only use emulators')\n"
     ]
    }
   ],
   "source": [
    "import os\n",
    "import h5py\n",
    "import numpy as np\n",
    "from tqdm.notebook import tqdm, trange\n",
    "\n",
    "from sedflow import obs as Obs\n",
    "from sedflow import train as Train\n",
    "\n",
    "from provabgs import infer as Infer\n",
    "from provabgs import models as Models"
   ]
  },
  {
   "cell_type": "code",
   "execution_count": 2,
   "metadata": {},
   "outputs": [],
   "source": [
    "sample = 'toy'\n",
    "itrain = 2\n",
    "nhidden = 500\n",
    "nblocks = 15"
   ]
  },
  {
   "cell_type": "code",
   "execution_count": 3,
   "metadata": {},
   "outputs": [],
   "source": [
    "# u, g, r, i, z, sigma_u, sigma_g, sigma_r, sigma_i, sigma_z, redshift\n",
    "nsa, igals = Obs.NSA()\n",
    "y_nsa = Obs.load_nsa_data(test_set=False)\n",
    "finite = np.all(np.isfinite(y_nsa[:,:5]), axis=1)"
   ]
  },
  {
   "cell_type": "code",
   "execution_count": 4,
   "metadata": {},
   "outputs": [
    {
     "name": "stdout",
     "output_type": "stream",
     "text": [
      "33884 galaxies\n"
     ]
    }
   ],
   "source": [
    "print('%i galaxies' % np.sum(finite))"
   ]
  },
  {
   "cell_type": "code",
   "execution_count": 5,
   "metadata": {},
   "outputs": [],
   "source": [
    "prior = Train.prior_default()"
   ]
  },
  {
   "cell_type": "code",
   "execution_count": 6,
   "metadata": {},
   "outputs": [
    {
     "name": "stdout",
     "output_type": "stream",
     "text": [
      "input parameters : logmstar, beta1_sfh, beta2_sfh, beta3_sfh, beta4_sfh, fburst, tburst, gamma1_zh, gamma2_zh, dust1, dust2, dust_index\n"
     ]
    }
   ],
   "source": [
    "# sps model\n",
    "m_sps= Train.SPSmodel_default(emulator=True)"
   ]
  },
  {
   "cell_type": "code",
   "execution_count": 7,
   "metadata": {
    "scrolled": true
   },
   "outputs": [
    {
     "name": "stdout",
     "output_type": "stream",
     "text": [
      "/scratch/network/chhahn/sedflow/anpe_thetaunt_magsigz.toy.500x15.2.nsa0of34.samples.npy\n"
     ]
    },
    {
     "data": {
      "application/vnd.jupyter.widget-view+json": {
       "model_id": "2dc360f31044480fa41f78f63002a6da",
       "version_major": 2,
       "version_minor": 0
      },
      "text/plain": [
       "  0%|          | 0/1000 [00:00<?, ?it/s]"
      ]
     },
     "metadata": {},
     "output_type": "display_data"
    },
    {
     "name": "stdout",
     "output_type": "stream",
     "text": [
      "/scratch/network/chhahn/sedflow/anpe_thetaunt_magsigz.toy.500x15.2.nsa1of34.samples.npy\n"
     ]
    },
    {
     "data": {
      "application/vnd.jupyter.widget-view+json": {
       "model_id": "4e872566405449df8797f073e52a5f1e",
       "version_major": 2,
       "version_minor": 0
      },
      "text/plain": [
       "  0%|          | 0/1000 [00:00<?, ?it/s]"
      ]
     },
     "metadata": {},
     "output_type": "display_data"
    },
    {
     "name": "stdout",
     "output_type": "stream",
     "text": [
      "/scratch/network/chhahn/sedflow/anpe_thetaunt_magsigz.toy.500x15.2.nsa2of34.samples.npy\n"
     ]
    },
    {
     "data": {
      "application/vnd.jupyter.widget-view+json": {
       "model_id": "8a22b9fd51ec4e8d9e6b859212953ee1",
       "version_major": 2,
       "version_minor": 0
      },
      "text/plain": [
       "  0%|          | 0/1000 [00:00<?, ?it/s]"
      ]
     },
     "metadata": {},
     "output_type": "display_data"
    },
    {
     "name": "stdout",
     "output_type": "stream",
     "text": [
      "/scratch/network/chhahn/sedflow/anpe_thetaunt_magsigz.toy.500x15.2.nsa3of34.samples.npy\n"
     ]
    },
    {
     "data": {
      "application/vnd.jupyter.widget-view+json": {
       "model_id": "24f6eefbb75246d18cb0c6c51e902fc2",
       "version_major": 2,
       "version_minor": 0
      },
      "text/plain": [
       "  0%|          | 0/1000 [00:00<?, ?it/s]"
      ]
     },
     "metadata": {},
     "output_type": "display_data"
    },
    {
     "name": "stdout",
     "output_type": "stream",
     "text": [
      "/scratch/network/chhahn/sedflow/anpe_thetaunt_magsigz.toy.500x15.2.nsa4of34.samples.npy\n"
     ]
    },
    {
     "data": {
      "application/vnd.jupyter.widget-view+json": {
       "model_id": "996334e9b43e49a4a004df0c91b08d0d",
       "version_major": 2,
       "version_minor": 0
      },
      "text/plain": [
       "  0%|          | 0/1000 [00:00<?, ?it/s]"
      ]
     },
     "metadata": {},
     "output_type": "display_data"
    },
    {
     "name": "stdout",
     "output_type": "stream",
     "text": [
      "/scratch/network/chhahn/sedflow/anpe_thetaunt_magsigz.toy.500x15.2.nsa5of34.samples.npy\n"
     ]
    },
    {
     "data": {
      "application/vnd.jupyter.widget-view+json": {
       "model_id": "24f39d066d4340678a6753f8ca5ebf95",
       "version_major": 2,
       "version_minor": 0
      },
      "text/plain": [
       "  0%|          | 0/1000 [00:00<?, ?it/s]"
      ]
     },
     "metadata": {},
     "output_type": "display_data"
    },
    {
     "name": "stdout",
     "output_type": "stream",
     "text": [
      "/scratch/network/chhahn/sedflow/anpe_thetaunt_magsigz.toy.500x15.2.nsa6of34.samples.npy\n"
     ]
    },
    {
     "data": {
      "application/vnd.jupyter.widget-view+json": {
       "model_id": "16e28de8743949efab92b98fe84d3470",
       "version_major": 2,
       "version_minor": 0
      },
      "text/plain": [
       "  0%|          | 0/1000 [00:00<?, ?it/s]"
      ]
     },
     "metadata": {},
     "output_type": "display_data"
    },
    {
     "name": "stdout",
     "output_type": "stream",
     "text": [
      "/scratch/network/chhahn/sedflow/anpe_thetaunt_magsigz.toy.500x15.2.nsa7of34.samples.npy\n"
     ]
    },
    {
     "data": {
      "application/vnd.jupyter.widget-view+json": {
       "model_id": "00f5037d646a4696b9646ef75a739d7c",
       "version_major": 2,
       "version_minor": 0
      },
      "text/plain": [
       "  0%|          | 0/998 [00:00<?, ?it/s]"
      ]
     },
     "metadata": {},
     "output_type": "display_data"
    },
    {
     "name": "stdout",
     "output_type": "stream",
     "text": [
      "/scratch/network/chhahn/sedflow/anpe_thetaunt_magsigz.toy.500x15.2.nsa8of34.samples.npy\n"
     ]
    },
    {
     "data": {
      "application/vnd.jupyter.widget-view+json": {
       "model_id": "b1c6c1cddbff48d8bfd26c2c01aeacdc",
       "version_major": 2,
       "version_minor": 0
      },
      "text/plain": [
       "  0%|          | 0/1000 [00:00<?, ?it/s]"
      ]
     },
     "metadata": {},
     "output_type": "display_data"
    },
    {
     "name": "stdout",
     "output_type": "stream",
     "text": [
      "/scratch/network/chhahn/sedflow/anpe_thetaunt_magsigz.toy.500x15.2.nsa9of34.samples.npy\n"
     ]
    },
    {
     "data": {
      "application/vnd.jupyter.widget-view+json": {
       "model_id": "d5f40f17701045468a52ff9c1a2da539",
       "version_major": 2,
       "version_minor": 0
      },
      "text/plain": [
       "  0%|          | 0/1000 [00:00<?, ?it/s]"
      ]
     },
     "metadata": {},
     "output_type": "display_data"
    },
    {
     "name": "stdout",
     "output_type": "stream",
     "text": [
      "/scratch/network/chhahn/sedflow/anpe_thetaunt_magsigz.toy.500x15.2.nsa10of34.samples.npy\n"
     ]
    },
    {
     "data": {
      "application/vnd.jupyter.widget-view+json": {
       "model_id": "93b6581f0275431cbff025470eb8d4b2",
       "version_major": 2,
       "version_minor": 0
      },
      "text/plain": [
       "  0%|          | 0/1000 [00:00<?, ?it/s]"
      ]
     },
     "metadata": {},
     "output_type": "display_data"
    },
    {
     "name": "stdout",
     "output_type": "stream",
     "text": [
      "/scratch/network/chhahn/sedflow/anpe_thetaunt_magsigz.toy.500x15.2.nsa11of34.samples.npy\n"
     ]
    },
    {
     "data": {
      "application/vnd.jupyter.widget-view+json": {
       "model_id": "1b1dca40703640d39877b3093f8cd15e",
       "version_major": 2,
       "version_minor": 0
      },
      "text/plain": [
       "  0%|          | 0/1000 [00:00<?, ?it/s]"
      ]
     },
     "metadata": {},
     "output_type": "display_data"
    },
    {
     "name": "stdout",
     "output_type": "stream",
     "text": [
      "/scratch/network/chhahn/sedflow/anpe_thetaunt_magsigz.toy.500x15.2.nsa12of34.samples.npy\n"
     ]
    },
    {
     "data": {
      "application/vnd.jupyter.widget-view+json": {
       "model_id": "8df11a36763345d4a66622e8eb76ba86",
       "version_major": 2,
       "version_minor": 0
      },
      "text/plain": [
       "  0%|          | 0/1000 [00:00<?, ?it/s]"
      ]
     },
     "metadata": {},
     "output_type": "display_data"
    },
    {
     "name": "stdout",
     "output_type": "stream",
     "text": [
      "/scratch/network/chhahn/sedflow/anpe_thetaunt_magsigz.toy.500x15.2.nsa13of34.samples.npy\n"
     ]
    },
    {
     "data": {
      "application/vnd.jupyter.widget-view+json": {
       "model_id": "5381d182132140a8972453bbe6e8f8fc",
       "version_major": 2,
       "version_minor": 0
      },
      "text/plain": [
       "  0%|          | 0/1000 [00:00<?, ?it/s]"
      ]
     },
     "metadata": {},
     "output_type": "display_data"
    },
    {
     "name": "stdout",
     "output_type": "stream",
     "text": [
      "/scratch/network/chhahn/sedflow/anpe_thetaunt_magsigz.toy.500x15.2.nsa14of34.samples.npy\n"
     ]
    },
    {
     "data": {
      "application/vnd.jupyter.widget-view+json": {
       "model_id": "2c8453f013b7476d9cac04f2acf372bb",
       "version_major": 2,
       "version_minor": 0
      },
      "text/plain": [
       "  0%|          | 0/1000 [00:00<?, ?it/s]"
      ]
     },
     "metadata": {},
     "output_type": "display_data"
    },
    {
     "name": "stdout",
     "output_type": "stream",
     "text": [
      "/scratch/network/chhahn/sedflow/anpe_thetaunt_magsigz.toy.500x15.2.nsa15of34.samples.npy\n"
     ]
    },
    {
     "data": {
      "application/vnd.jupyter.widget-view+json": {
       "model_id": "18145592fab5491385347023364f0032",
       "version_major": 2,
       "version_minor": 0
      },
      "text/plain": [
       "  0%|          | 0/999 [00:00<?, ?it/s]"
      ]
     },
     "metadata": {},
     "output_type": "display_data"
    },
    {
     "name": "stdout",
     "output_type": "stream",
     "text": [
      "/scratch/network/chhahn/sedflow/anpe_thetaunt_magsigz.toy.500x15.2.nsa16of34.samples.npy\n"
     ]
    },
    {
     "data": {
      "application/vnd.jupyter.widget-view+json": {
       "model_id": "2d4264a0cd954aba9d8db52c1e671457",
       "version_major": 2,
       "version_minor": 0
      },
      "text/plain": [
       "  0%|          | 0/1000 [00:00<?, ?it/s]"
      ]
     },
     "metadata": {},
     "output_type": "display_data"
    },
    {
     "name": "stdout",
     "output_type": "stream",
     "text": [
      "/scratch/network/chhahn/sedflow/anpe_thetaunt_magsigz.toy.500x15.2.nsa17of34.samples.npy\n"
     ]
    },
    {
     "data": {
      "application/vnd.jupyter.widget-view+json": {
       "model_id": "2a144d9860784517b2597b4ebde784fa",
       "version_major": 2,
       "version_minor": 0
      },
      "text/plain": [
       "  0%|          | 0/1000 [00:00<?, ?it/s]"
      ]
     },
     "metadata": {},
     "output_type": "display_data"
    },
    {
     "name": "stdout",
     "output_type": "stream",
     "text": [
      "/scratch/network/chhahn/sedflow/anpe_thetaunt_magsigz.toy.500x15.2.nsa18of34.samples.npy\n"
     ]
    },
    {
     "data": {
      "application/vnd.jupyter.widget-view+json": {
       "model_id": "a4dfbbd4c45c48588c1385e63eb9afe4",
       "version_major": 2,
       "version_minor": 0
      },
      "text/plain": [
       "  0%|          | 0/1000 [00:00<?, ?it/s]"
      ]
     },
     "metadata": {},
     "output_type": "display_data"
    },
    {
     "name": "stdout",
     "output_type": "stream",
     "text": [
      "/scratch/network/chhahn/sedflow/anpe_thetaunt_magsigz.toy.500x15.2.nsa19of34.samples.npy\n"
     ]
    },
    {
     "data": {
      "application/vnd.jupyter.widget-view+json": {
       "model_id": "56c743ccfccc45ac83b7e3e6cd7d977f",
       "version_major": 2,
       "version_minor": 0
      },
      "text/plain": [
       "  0%|          | 0/1000 [00:00<?, ?it/s]"
      ]
     },
     "metadata": {},
     "output_type": "display_data"
    },
    {
     "name": "stdout",
     "output_type": "stream",
     "text": [
      "/scratch/network/chhahn/sedflow/anpe_thetaunt_magsigz.toy.500x15.2.nsa20of34.samples.npy\n"
     ]
    },
    {
     "data": {
      "application/vnd.jupyter.widget-view+json": {
       "model_id": "863d06fd8cda4f5baab23cd279eccef8",
       "version_major": 2,
       "version_minor": 0
      },
      "text/plain": [
       "  0%|          | 0/1000 [00:00<?, ?it/s]"
      ]
     },
     "metadata": {},
     "output_type": "display_data"
    },
    {
     "name": "stdout",
     "output_type": "stream",
     "text": [
      "/scratch/network/chhahn/sedflow/anpe_thetaunt_magsigz.toy.500x15.2.nsa21of34.samples.npy\n"
     ]
    },
    {
     "data": {
      "application/vnd.jupyter.widget-view+json": {
       "model_id": "b6785284ba1e444894fbcc1bfb574166",
       "version_major": 2,
       "version_minor": 0
      },
      "text/plain": [
       "  0%|          | 0/1000 [00:00<?, ?it/s]"
      ]
     },
     "metadata": {},
     "output_type": "display_data"
    },
    {
     "name": "stdout",
     "output_type": "stream",
     "text": [
      "/scratch/network/chhahn/sedflow/anpe_thetaunt_magsigz.toy.500x15.2.nsa22of34.samples.npy\n"
     ]
    },
    {
     "data": {
      "application/vnd.jupyter.widget-view+json": {
       "model_id": "07831c2f6bf94ab0b3fe8c005bc7c125",
       "version_major": 2,
       "version_minor": 0
      },
      "text/plain": [
       "  0%|          | 0/1000 [00:00<?, ?it/s]"
      ]
     },
     "metadata": {},
     "output_type": "display_data"
    },
    {
     "name": "stdout",
     "output_type": "stream",
     "text": [
      "/scratch/network/chhahn/sedflow/anpe_thetaunt_magsigz.toy.500x15.2.nsa23of34.samples.npy\n"
     ]
    },
    {
     "data": {
      "application/vnd.jupyter.widget-view+json": {
       "model_id": "a40afc7a0a0b4f0e8b7ef24576fd9ee9",
       "version_major": 2,
       "version_minor": 0
      },
      "text/plain": [
       "  0%|          | 0/1000 [00:00<?, ?it/s]"
      ]
     },
     "metadata": {},
     "output_type": "display_data"
    },
    {
     "name": "stdout",
     "output_type": "stream",
     "text": [
      "/scratch/network/chhahn/sedflow/anpe_thetaunt_magsigz.toy.500x15.2.nsa24of34.samples.npy\n"
     ]
    },
    {
     "data": {
      "application/vnd.jupyter.widget-view+json": {
       "model_id": "4afaf804e6114f6198676086ec870357",
       "version_major": 2,
       "version_minor": 0
      },
      "text/plain": [
       "  0%|          | 0/1000 [00:00<?, ?it/s]"
      ]
     },
     "metadata": {},
     "output_type": "display_data"
    },
    {
     "name": "stdout",
     "output_type": "stream",
     "text": [
      "/scratch/network/chhahn/sedflow/anpe_thetaunt_magsigz.toy.500x15.2.nsa25of34.samples.npy\n"
     ]
    },
    {
     "data": {
      "application/vnd.jupyter.widget-view+json": {
       "model_id": "2cfbbb9268d445eea935a47ec9127f29",
       "version_major": 2,
       "version_minor": 0
      },
      "text/plain": [
       "  0%|          | 0/1000 [00:00<?, ?it/s]"
      ]
     },
     "metadata": {},
     "output_type": "display_data"
    },
    {
     "name": "stdout",
     "output_type": "stream",
     "text": [
      "/scratch/network/chhahn/sedflow/anpe_thetaunt_magsigz.toy.500x15.2.nsa26of34.samples.npy\n"
     ]
    },
    {
     "data": {
      "application/vnd.jupyter.widget-view+json": {
       "model_id": "fb64e542c70c4264b894cf1425eafcc0",
       "version_major": 2,
       "version_minor": 0
      },
      "text/plain": [
       "  0%|          | 0/1000 [00:00<?, ?it/s]"
      ]
     },
     "metadata": {},
     "output_type": "display_data"
    },
    {
     "name": "stdout",
     "output_type": "stream",
     "text": [
      "/scratch/network/chhahn/sedflow/anpe_thetaunt_magsigz.toy.500x15.2.nsa27of34.samples.npy\n"
     ]
    },
    {
     "data": {
      "application/vnd.jupyter.widget-view+json": {
       "model_id": "3c1f0a1d796141a79b2bdfe245d2020d",
       "version_major": 2,
       "version_minor": 0
      },
      "text/plain": [
       "  0%|          | 0/1000 [00:00<?, ?it/s]"
      ]
     },
     "metadata": {},
     "output_type": "display_data"
    },
    {
     "name": "stdout",
     "output_type": "stream",
     "text": [
      "/scratch/network/chhahn/sedflow/anpe_thetaunt_magsigz.toy.500x15.2.nsa28of34.samples.npy\n"
     ]
    },
    {
     "data": {
      "application/vnd.jupyter.widget-view+json": {
       "model_id": "864d6cdf03204b8cb5d5d7b827b7cef6",
       "version_major": 2,
       "version_minor": 0
      },
      "text/plain": [
       "  0%|          | 0/1000 [00:00<?, ?it/s]"
      ]
     },
     "metadata": {},
     "output_type": "display_data"
    },
    {
     "name": "stdout",
     "output_type": "stream",
     "text": [
      "/scratch/network/chhahn/sedflow/anpe_thetaunt_magsigz.toy.500x15.2.nsa29of34.samples.npy\n"
     ]
    },
    {
     "data": {
      "application/vnd.jupyter.widget-view+json": {
       "model_id": "2982e1d07cc74e948dd7284ce2e3a139",
       "version_major": 2,
       "version_minor": 0
      },
      "text/plain": [
       "  0%|          | 0/1000 [00:00<?, ?it/s]"
      ]
     },
     "metadata": {},
     "output_type": "display_data"
    },
    {
     "name": "stdout",
     "output_type": "stream",
     "text": [
      "/scratch/network/chhahn/sedflow/anpe_thetaunt_magsigz.toy.500x15.2.nsa30of34.samples.npy\n"
     ]
    },
    {
     "data": {
      "application/vnd.jupyter.widget-view+json": {
       "model_id": "b19d02863c454905ad10c3d8810edc46",
       "version_major": 2,
       "version_minor": 0
      },
      "text/plain": [
       "  0%|          | 0/1000 [00:00<?, ?it/s]"
      ]
     },
     "metadata": {},
     "output_type": "display_data"
    },
    {
     "name": "stdout",
     "output_type": "stream",
     "text": [
      "/scratch/network/chhahn/sedflow/anpe_thetaunt_magsigz.toy.500x15.2.nsa31of34.samples.npy\n"
     ]
    },
    {
     "data": {
      "application/vnd.jupyter.widget-view+json": {
       "model_id": "9589747fb11a476ba774ecf431e10185",
       "version_major": 2,
       "version_minor": 0
      },
      "text/plain": [
       "  0%|          | 0/1000 [00:00<?, ?it/s]"
      ]
     },
     "metadata": {},
     "output_type": "display_data"
    },
    {
     "name": "stdout",
     "output_type": "stream",
     "text": [
      "/scratch/network/chhahn/sedflow/anpe_thetaunt_magsigz.toy.500x15.2.nsa32of34.samples.npy\n"
     ]
    },
    {
     "data": {
      "application/vnd.jupyter.widget-view+json": {
       "model_id": "e345d045f9d94a088a01c2e54f587364",
       "version_major": 2,
       "version_minor": 0
      },
      "text/plain": [
       "  0%|          | 0/1000 [00:00<?, ?it/s]"
      ]
     },
     "metadata": {},
     "output_type": "display_data"
    },
    {
     "name": "stdout",
     "output_type": "stream",
     "text": [
      "/scratch/network/chhahn/sedflow/anpe_thetaunt_magsigz.toy.500x15.2.nsa33of34.samples.npy\n"
     ]
    },
    {
     "data": {
      "application/vnd.jupyter.widget-view+json": {
       "model_id": "ddac644aa419452fb7bf8dc2bd809bea",
       "version_major": 2,
       "version_minor": 0
      },
      "text/plain": [
       "  0%|          | 0/887 [00:00<?, ?it/s]"
      ]
     },
     "metadata": {},
     "output_type": "display_data"
    }
   ],
   "source": [
    "# compile\n",
    "posts, fails = [], []\n",
    "logsfrs, logzmws = [], []\n",
    "for ichunk in range(34):\n",
    "    finite_chunk =  finite[ichunk*1000:(ichunk+1)*1000]\n",
    "\n",
    "    fpost = os.path.join(Train.data_dir(), 'anpe_thetaunt_magsigz.%s.%ix%i.%i.nsa%iof34.samples.npy' % (sample, nhidden, nblocks, itrain, ichunk))\n",
    "    print(fpost)\n",
    "    _post = np.load(fpost)[finite_chunk,:,:]\n",
    "\n",
    "    fail = (np.sum(np.sum(_post, axis=2), axis=1) == 0)\n",
    "\n",
    "    igals = np.arange(y_nsa.shape[0])[ichunk*1000:(ichunk+1)*1000][finite_chunk][fail]\n",
    "    iigals = np.arange(_post.shape[0])[fail]\n",
    "\n",
    "    post = np.zeros((_post.shape[0], _post.shape[1], 12))\n",
    "    post[~fail,:] = prior.transform(_post[~fail])\n",
    "\n",
    "    if np.sum(fail) > 0:\n",
    "        for iigal, igal in zip(iigals, igals):\n",
    "            fgal = os.path.join(Train.data_dir(), 'nsa_fail', 'mcmc.nsa.%i.hdf5' % igal)\n",
    "            if os.path.isfile(fgal):\n",
    "                gal = h5py.File(fgal, 'r')\n",
    "                chain_i = Train.flatten_chain(gal['mcmc_chain'][...][2000:,:,:])[-10000:,:]\n",
    "                post[iigal,:,:] = chain_i\n",
    "    posts.append(post)\n",
    "    fails.append(fail)\n",
    "    \n",
    "    # derived galaxy properties\n",
    "    z_chunk = y_nsa[:,-1][ichunk*1000:(ichunk+1)*1000][finite_chunk]\n",
    "\n",
    "    logsfr = np.zeros((post.shape[0], post.shape[1]))\n",
    "    logzmw = np.zeros((post.shape[0], post.shape[1]))\n",
    "    for ii in trange(post.shape[0]):\n",
    "        thetas_sps = post[ii,:]\n",
    "        logsfr[ii,:] = np.log10(np.array(m_sps.avgSFR(thetas_sps, zred=float(z_chunk[ii]), dt=1.)))\n",
    "        logzmw[ii,:] = np.log10(np.array(m_sps.Z_MW(thetas_sps, zred=float(z_chunk[ii])))).flatten()\n",
    "    logsfrs.append(logsfr)\n",
    "    logzmws.append(logzmw)\n",
    "\n",
    "    #prop[ii,:,:] = Train.thetas2props(post[ii,:], np.repeat(z_chunk[ii], post[ii,:].shape[0]).astype(float))\n",
    "\n",
    "posts = np.concatenate(posts)\n",
    "fails = np.concatenate(fails)\n",
    "logsfrs = np.concatenate(logsfrs)\n",
    "logzmws = np.concatenate(logzmws)\n"
   ]
  },
  {
   "cell_type": "code",
   "execution_count": 8,
   "metadata": {},
   "outputs": [],
   "source": [
    "# write out\n",
    "fsedflow = h5py.File(os.path.join(Train.data_dir(), 'nsa.sedflow.hdf5'), 'w')\n",
    "\n",
    "fsedflow.create_dataset('NSAID', data=nsa['NSAID'][finite])\n",
    "obs = ['mag_u', 'mag_g', 'mag_r', 'mag_i', 'mag_z', 'sigma_u', 'sigma_g', 'sigma_r', 'sigma_i', 'sigma_z', 'redshift']\n",
    "for i, o in enumerate(obs):\n",
    "    fsedflow.create_dataset(o, data=y_nsa[finite,i])\n",
    "\n",
    "params = ['log_mstar', 'beta1', 'beta2', 'beta3', 'beta4', 'fburst', 'tburst', 'log_gamma1', 'log_gamma2', 'tau_bc', 'tau_ism', 'n_dust']\n",
    "for i, param in enumerate(params):\n",
    "    fsedflow.create_dataset(param, data=posts[:,:,i].astype(np.float32))\n",
    "\n",
    "fsedflow.create_dataset('sedflow', data=~fails)    \n",
    "\n",
    "# write out properties\n",
    "fsedflow.create_dataset('log_sfr_1gyr', data=logsfrs.astype(np.float32))\n",
    "fsedflow.create_dataset('log_z_mw', data=logzmws.astype(np.float32))\n",
    "\n",
    "fsedflow.close()"
   ]
  },
  {
   "cell_type": "code",
   "execution_count": 11,
   "metadata": {},
   "outputs": [],
   "source": [
    "fsedflow = h5py.File(os.path.join(Train.data_dir(), 'nsa.sedflow.hdf5'), 'r')\n",
    "\n",
    "nsa_id = fsedflow['NSAID'][...]\n",
    "\n",
    "log_sfr_1gyr = fsedflow['log_sfr_1gyr'][...]"
   ]
  },
  {
   "cell_type": "code",
   "execution_count": 14,
   "metadata": {},
   "outputs": [
    {
     "data": {
      "text/plain": [
       "(33884, 10000)"
      ]
     },
     "execution_count": 14,
     "metadata": {},
     "output_type": "execute_result"
    }
   ],
   "source": [
    "fsedflow['tburst'][...].shape"
   ]
  },
  {
   "cell_type": "code",
   "execution_count": null,
   "metadata": {},
   "outputs": [],
   "source": []
  },
  {
   "cell_type": "code",
   "execution_count": 12,
   "metadata": {},
   "outputs": [
    {
     "name": "stdout",
     "output_type": "stream",
     "text": [
      "/scratch/network/chhahn/sedflow/anpe_thetaunt_magsigz.toy.500x15.2.nsa0of34.samples.npy\n",
      "[0.02122228 0.02122228 0.02122228 ... 0.02122228 0.02122228 0.02122228]\n",
      "input parameters : logmstar, beta1_sfh, beta2_sfh, beta3_sfh, beta4_sfh, fburst, tburst, gamma1_zh, gamma2_zh, dust1, dust2, dust_index\n",
      "[0.04808582 0.04808582 0.04808582 ... 0.04808582 0.04808582 0.04808582]\n",
      "input parameters : logmstar, beta1_sfh, beta2_sfh, beta3_sfh, beta4_sfh, fburst, tburst, gamma1_zh, gamma2_zh, dust1, dust2, dust_index\n",
      "[0.02196459 0.02196459 0.02196459 ... 0.02196459 0.02196459 0.02196459]\n",
      "input parameters : logmstar, beta1_sfh, beta2_sfh, beta3_sfh, beta4_sfh, fburst, tburst, gamma1_zh, gamma2_zh, dust1, dust2, dust_index\n",
      "[0.03580831 0.03580831 0.03580831 ... 0.03580831 0.03580831 0.03580831]\n",
      "input parameters : logmstar, beta1_sfh, beta2_sfh, beta3_sfh, beta4_sfh, fburst, tburst, gamma1_zh, gamma2_zh, dust1, dust2, dust_index\n",
      "[0.05248393 0.05248393 0.05248393 ... 0.05248393 0.05248393 0.05248393]\n",
      "input parameters : logmstar, beta1_sfh, beta2_sfh, beta3_sfh, beta4_sfh, fburst, tburst, gamma1_zh, gamma2_zh, dust1, dust2, dust_index\n",
      "[0.02170876 0.02170876 0.02170876 ... 0.02170876 0.02170876 0.02170876]\n",
      "input parameters : logmstar, beta1_sfh, beta2_sfh, beta3_sfh, beta4_sfh, fburst, tburst, gamma1_zh, gamma2_zh, dust1, dust2, dust_index\n",
      "[0.03645184 0.03645184 0.03645184 ... 0.03645184 0.03645184 0.03645184]\n",
      "input parameters : logmstar, beta1_sfh, beta2_sfh, beta3_sfh, beta4_sfh, fburst, tburst, gamma1_zh, gamma2_zh, dust1, dust2, dust_index\n",
      "[0.03673035 0.03673035 0.03673035 ... 0.03673035 0.03673035 0.03673035]\n",
      "input parameters : logmstar, beta1_sfh, beta2_sfh, beta3_sfh, beta4_sfh, fburst, tburst, gamma1_zh, gamma2_zh, dust1, dust2, dust_index\n",
      "[0.02160817 0.02160817 0.02160817 ... 0.02160817 0.02160817 0.02160817]\n",
      "input parameters : logmstar, beta1_sfh, beta2_sfh, beta3_sfh, beta4_sfh, fburst, tburst, gamma1_zh, gamma2_zh, dust1, dust2, dust_index\n",
      "[0.02165231 0.02165231 0.02165231 ... 0.02165231 0.02165231 0.02165231]\n",
      "input parameters : logmstar, beta1_sfh, beta2_sfh, beta3_sfh, beta4_sfh, fburst, tburst, gamma1_zh, gamma2_zh, dust1, dust2, dust_index\n",
      "[0.03587863 0.03587863 0.03587863 ... 0.03587863 0.03587863 0.03587863]\n",
      "input parameters : logmstar, beta1_sfh, beta2_sfh, beta3_sfh, beta4_sfh, fburst, tburst, gamma1_zh, gamma2_zh, dust1, dust2, dust_index\n",
      "[0.04707855 0.04707855 0.04707855 ... 0.04707855 0.04707855 0.04707855]\n",
      "input parameters : logmstar, beta1_sfh, beta2_sfh, beta3_sfh, beta4_sfh, fburst, tburst, gamma1_zh, gamma2_zh, dust1, dust2, dust_index\n",
      "[0.0374546 0.0374546 0.0374546 ... 0.0374546 0.0374546 0.0374546]\n",
      "input parameters : logmstar, beta1_sfh, beta2_sfh, beta3_sfh, beta4_sfh, fburst, tburst, gamma1_zh, gamma2_zh, dust1, dust2, dust_index\n",
      "[0.02156401 0.02156401 0.02156401 ... 0.02156401 0.02156401 0.02156401]\n",
      "input parameters : logmstar, beta1_sfh, beta2_sfh, beta3_sfh, beta4_sfh, fburst, tburst, gamma1_zh, gamma2_zh, dust1, dust2, dust_index\n",
      "[0.03669919 0.03669919 0.03669919 ... 0.03669919 0.03669919 0.03669919]\n",
      "input parameters : logmstar, beta1_sfh, beta2_sfh, beta3_sfh, beta4_sfh, fburst, tburst, gamma1_zh, gamma2_zh, dust1, dust2, dust_index\n",
      "[0.03047678 0.03047678 0.03047678 ... 0.03047678 0.03047678 0.03047678]\n",
      "input parameters : logmstar, beta1_sfh, beta2_sfh, beta3_sfh, beta4_sfh, fburst, tburst, gamma1_zh, gamma2_zh, dust1, dust2, dust_index\n",
      "[0.03516901 0.03516901 0.03516901 ... 0.03516901 0.03516901 0.03516901]\n",
      "input parameters : logmstar, beta1_sfh, beta2_sfh, beta3_sfh, beta4_sfh, fburst, tburst, gamma1_zh, gamma2_zh, dust1, dust2, dust_index\n",
      "[0.03610206 0.03610206 0.03610206 ... 0.03610206 0.03610206 0.03610206]\n",
      "input parameters : logmstar, beta1_sfh, beta2_sfh, beta3_sfh, beta4_sfh, fburst, tburst, gamma1_zh, gamma2_zh, dust1, dust2, dust_index\n",
      "[0.04892132 0.04892132 0.04892132 ... 0.04892132 0.04892132 0.04892132]\n",
      "input parameters : logmstar, beta1_sfh, beta2_sfh, beta3_sfh, beta4_sfh, fburst, tburst, gamma1_zh, gamma2_zh, dust1, dust2, dust_index\n",
      "[0.02680829 0.02680829 0.02680829 ... 0.02680829 0.02680829 0.02680829]\n",
      "input parameters : logmstar, beta1_sfh, beta2_sfh, beta3_sfh, beta4_sfh, fburst, tburst, gamma1_zh, gamma2_zh, dust1, dust2, dust_index\n",
      "[0.02518325 0.02518325 0.02518325 ... 0.02518325 0.02518325 0.02518325]\n",
      "input parameters : logmstar, beta1_sfh, beta2_sfh, beta3_sfh, beta4_sfh, fburst, tburst, gamma1_zh, gamma2_zh, dust1, dust2, dust_index\n",
      "[0.0199993 0.0199993 0.0199993 ... 0.0199993 0.0199993 0.0199993]\n",
      "input parameters : logmstar, beta1_sfh, beta2_sfh, beta3_sfh, beta4_sfh, fburst, tburst, gamma1_zh, gamma2_zh, dust1, dust2, dust_index\n",
      "[0.04863385 0.04863385 0.04863385 ... 0.04863385 0.04863385 0.04863385]\n",
      "input parameters : logmstar, beta1_sfh, beta2_sfh, beta3_sfh, beta4_sfh, fburst, tburst, gamma1_zh, gamma2_zh, dust1, dust2, dust_index\n",
      "[0.02094694 0.02094694 0.02094694 ... 0.02094694 0.02094694 0.02094694]\n",
      "input parameters : logmstar, beta1_sfh, beta2_sfh, beta3_sfh, beta4_sfh, fburst, tburst, gamma1_zh, gamma2_zh, dust1, dust2, dust_index\n",
      "[0.03220713 0.03220713 0.03220713 ... 0.03220713 0.03220713 0.03220713]\n",
      "input parameters : logmstar, beta1_sfh, beta2_sfh, beta3_sfh, beta4_sfh, fburst, tburst, gamma1_zh, gamma2_zh, dust1, dust2, dust_index\n",
      "[0.04876426 0.04876426 0.04876426 ... 0.04876426 0.04876426 0.04876426]\n",
      "input parameters : logmstar, beta1_sfh, beta2_sfh, beta3_sfh, beta4_sfh, fburst, tburst, gamma1_zh, gamma2_zh, dust1, dust2, dust_index\n",
      "[0.03704123 0.03704123 0.03704123 ... 0.03704123 0.03704123 0.03704123]\n",
      "input parameters : logmstar, beta1_sfh, beta2_sfh, beta3_sfh, beta4_sfh, fburst, tburst, gamma1_zh, gamma2_zh, dust1, dust2, dust_index\n",
      "[0.03727411 0.03727411 0.03727411 ... 0.03727411 0.03727411 0.03727411]\n",
      "input parameters : logmstar, beta1_sfh, beta2_sfh, beta3_sfh, beta4_sfh, fburst, tburst, gamma1_zh, gamma2_zh, dust1, dust2, dust_index\n",
      "[0.02502265 0.02502265 0.02502265 ... 0.02502265 0.02502265 0.02502265]\n",
      "input parameters : logmstar, beta1_sfh, beta2_sfh, beta3_sfh, beta4_sfh, fburst, tburst, gamma1_zh, gamma2_zh, dust1, dust2, dust_index\n",
      "[0.02049324 0.02049324 0.02049324 ... 0.02049324 0.02049324 0.02049324]\n",
      "input parameters : logmstar, beta1_sfh, beta2_sfh, beta3_sfh, beta4_sfh, fburst, tburst, gamma1_zh, gamma2_zh, dust1, dust2, dust_index\n",
      "[0.04770873 0.04770873 0.04770873 ... 0.04770873 0.04770873 0.04770873]\n",
      "input parameters : logmstar, beta1_sfh, beta2_sfh, beta3_sfh, beta4_sfh, fburst, tburst, gamma1_zh, gamma2_zh, dust1, dust2, dust_index\n",
      "[0.02054176 0.02054176 0.02054176 ... 0.02054176 0.02054176 0.02054176]\n",
      "input parameters : logmstar, beta1_sfh, beta2_sfh, beta3_sfh, beta4_sfh, fburst, tburst, gamma1_zh, gamma2_zh, dust1, dust2, dust_index\n",
      "[0.03107532 0.03107532 0.03107532 ... 0.03107532 0.03107532 0.03107532]\n",
      "input parameters : logmstar, beta1_sfh, beta2_sfh, beta3_sfh, beta4_sfh, fburst, tburst, gamma1_zh, gamma2_zh, dust1, dust2, dust_index\n",
      "[0.01255482 0.01255482 0.01255482 ... 0.01255482 0.01255482 0.01255482]\n",
      "input parameters : logmstar, beta1_sfh, beta2_sfh, beta3_sfh, beta4_sfh, fburst, tburst, gamma1_zh, gamma2_zh, dust1, dust2, dust_index\n",
      "[0.0202142 0.0202142 0.0202142 ... 0.0202142 0.0202142 0.0202142]\n",
      "input parameters : logmstar, beta1_sfh, beta2_sfh, beta3_sfh, beta4_sfh, fburst, tburst, gamma1_zh, gamma2_zh, dust1, dust2, dust_index\n",
      "[0.04735615 0.04735615 0.04735615 ... 0.04735615 0.04735615 0.04735615]\n",
      "input parameters : logmstar, beta1_sfh, beta2_sfh, beta3_sfh, beta4_sfh, fburst, tburst, gamma1_zh, gamma2_zh, dust1, dust2, dust_index\n",
      "[0.04676383 0.04676383 0.04676383 ... 0.04676383 0.04676383 0.04676383]\n",
      "input parameters : logmstar, beta1_sfh, beta2_sfh, beta3_sfh, beta4_sfh, fburst, tburst, gamma1_zh, gamma2_zh, dust1, dust2, dust_index\n",
      "[0.03467124 0.03467124 0.03467124 ... 0.03467124 0.03467124 0.03467124]\n",
      "input parameters : logmstar, beta1_sfh, beta2_sfh, beta3_sfh, beta4_sfh, fburst, tburst, gamma1_zh, gamma2_zh, dust1, dust2, dust_index\n",
      "[0.02883614 0.02883614 0.02883614 ... 0.02883614 0.02883614 0.02883614]\n",
      "input parameters : logmstar, beta1_sfh, beta2_sfh, beta3_sfh, beta4_sfh, fburst, tburst, gamma1_zh, gamma2_zh, dust1, dust2, dust_index\n",
      "[0.02051127 0.02051127 0.02051127 ... 0.02051127 0.02051127 0.02051127]\n",
      "input parameters : logmstar, beta1_sfh, beta2_sfh, beta3_sfh, beta4_sfh, fburst, tburst, gamma1_zh, gamma2_zh, dust1, dust2, dust_index\n"
     ]
    },
    {
     "name": "stdout",
     "output_type": "stream",
     "text": [
      "[0.04713756 0.04713756 0.04713756 ... 0.04713756 0.04713756 0.04713756]\n",
      "input parameters : logmstar, beta1_sfh, beta2_sfh, beta3_sfh, beta4_sfh, fburst, tburst, gamma1_zh, gamma2_zh, dust1, dust2, dust_index\n",
      "[0.04526348 0.04526348 0.04526348 ... 0.04526348 0.04526348 0.04526348]\n",
      "input parameters : logmstar, beta1_sfh, beta2_sfh, beta3_sfh, beta4_sfh, fburst, tburst, gamma1_zh, gamma2_zh, dust1, dust2, dust_index\n",
      "[0.03270648 0.03270648 0.03270648 ... 0.03270648 0.03270648 0.03270648]\n",
      "input parameters : logmstar, beta1_sfh, beta2_sfh, beta3_sfh, beta4_sfh, fburst, tburst, gamma1_zh, gamma2_zh, dust1, dust2, dust_index\n",
      "[0.04281429 0.04281429 0.04281429 ... 0.04281429 0.04281429 0.04281429]\n",
      "input parameters : logmstar, beta1_sfh, beta2_sfh, beta3_sfh, beta4_sfh, fburst, tburst, gamma1_zh, gamma2_zh, dust1, dust2, dust_index\n",
      "[0.03274609 0.03274609 0.03274609 ... 0.03274609 0.03274609 0.03274609]\n",
      "input parameters : logmstar, beta1_sfh, beta2_sfh, beta3_sfh, beta4_sfh, fburst, tburst, gamma1_zh, gamma2_zh, dust1, dust2, dust_index\n",
      "[0.04747756 0.04747756 0.04747756 ... 0.04747756 0.04747756 0.04747756]\n",
      "input parameters : logmstar, beta1_sfh, beta2_sfh, beta3_sfh, beta4_sfh, fburst, tburst, gamma1_zh, gamma2_zh, dust1, dust2, dust_index\n",
      "[0.04624894 0.04624894 0.04624894 ... 0.04624894 0.04624894 0.04624894]\n",
      "input parameters : logmstar, beta1_sfh, beta2_sfh, beta3_sfh, beta4_sfh, fburst, tburst, gamma1_zh, gamma2_zh, dust1, dust2, dust_index\n"
     ]
    },
    {
     "ename": "KeyboardInterrupt",
     "evalue": "",
     "output_type": "error",
     "traceback": [
      "\u001b[0;31m---------------------------------------------------------------------------\u001b[0m",
      "\u001b[0;31mKeyboardInterrupt\u001b[0m                         Traceback (most recent call last)",
      "\u001b[0;32m/tmp/ipykernel_1928732/1779440883.py\u001b[0m in \u001b[0;36m<module>\u001b[0;34m\u001b[0m\n\u001b[1;32m     29\u001b[0m     \u001b[0;32mfor\u001b[0m \u001b[0mii\u001b[0m \u001b[0;32min\u001b[0m \u001b[0mrange\u001b[0m\u001b[0;34m(\u001b[0m\u001b[0mpost\u001b[0m\u001b[0;34m.\u001b[0m\u001b[0mshape\u001b[0m\u001b[0;34m[\u001b[0m\u001b[0;36m0\u001b[0m\u001b[0;34m]\u001b[0m\u001b[0;34m)\u001b[0m\u001b[0;34m:\u001b[0m\u001b[0;34m\u001b[0m\u001b[0;34m\u001b[0m\u001b[0m\n\u001b[1;32m     30\u001b[0m         \u001b[0mprint\u001b[0m\u001b[0;34m(\u001b[0m\u001b[0mnp\u001b[0m\u001b[0;34m.\u001b[0m\u001b[0mrepeat\u001b[0m\u001b[0;34m(\u001b[0m\u001b[0mz_chunk\u001b[0m\u001b[0;34m[\u001b[0m\u001b[0mii\u001b[0m\u001b[0;34m]\u001b[0m\u001b[0;34m,\u001b[0m \u001b[0mpost\u001b[0m\u001b[0;34m[\u001b[0m\u001b[0mii\u001b[0m\u001b[0;34m,\u001b[0m\u001b[0;34m:\u001b[0m\u001b[0;34m]\u001b[0m\u001b[0;34m.\u001b[0m\u001b[0mshape\u001b[0m\u001b[0;34m[\u001b[0m\u001b[0;36m0\u001b[0m\u001b[0;34m]\u001b[0m\u001b[0;34m)\u001b[0m\u001b[0;34m)\u001b[0m\u001b[0;34m\u001b[0m\u001b[0;34m\u001b[0m\u001b[0m\n\u001b[0;32m---> 31\u001b[0;31m         \u001b[0mprop\u001b[0m\u001b[0;34m[\u001b[0m\u001b[0mii\u001b[0m\u001b[0;34m,\u001b[0m\u001b[0;34m:\u001b[0m\u001b[0;34m,\u001b[0m\u001b[0;34m:\u001b[0m\u001b[0;34m]\u001b[0m \u001b[0;34m=\u001b[0m \u001b[0mTrain\u001b[0m\u001b[0;34m.\u001b[0m\u001b[0mthetas2props\u001b[0m\u001b[0;34m(\u001b[0m\u001b[0mpost\u001b[0m\u001b[0;34m[\u001b[0m\u001b[0mii\u001b[0m\u001b[0;34m,\u001b[0m\u001b[0;34m:\u001b[0m\u001b[0;34m]\u001b[0m\u001b[0;34m,\u001b[0m \u001b[0mnp\u001b[0m\u001b[0;34m.\u001b[0m\u001b[0mrepeat\u001b[0m\u001b[0;34m(\u001b[0m\u001b[0mz_chunk\u001b[0m\u001b[0;34m[\u001b[0m\u001b[0mii\u001b[0m\u001b[0;34m]\u001b[0m\u001b[0;34m,\u001b[0m \u001b[0mpost\u001b[0m\u001b[0;34m[\u001b[0m\u001b[0mii\u001b[0m\u001b[0;34m,\u001b[0m\u001b[0;34m:\u001b[0m\u001b[0;34m]\u001b[0m\u001b[0;34m.\u001b[0m\u001b[0mshape\u001b[0m\u001b[0;34m[\u001b[0m\u001b[0;36m0\u001b[0m\u001b[0;34m]\u001b[0m\u001b[0;34m)\u001b[0m\u001b[0;34m.\u001b[0m\u001b[0mastype\u001b[0m\u001b[0;34m(\u001b[0m\u001b[0mfloat\u001b[0m\u001b[0;34m)\u001b[0m\u001b[0;34m)\u001b[0m\u001b[0;34m\u001b[0m\u001b[0;34m\u001b[0m\u001b[0m\n\u001b[0m\u001b[1;32m     32\u001b[0m \u001b[0;34m\u001b[0m\u001b[0m\n\u001b[1;32m     33\u001b[0m \u001b[0mposts\u001b[0m \u001b[0;34m=\u001b[0m \u001b[0mnp\u001b[0m\u001b[0;34m.\u001b[0m\u001b[0mconcatenate\u001b[0m\u001b[0;34m(\u001b[0m\u001b[0mposts\u001b[0m\u001b[0;34m)\u001b[0m\u001b[0;34m\u001b[0m\u001b[0;34m\u001b[0m\u001b[0m\n",
      "\u001b[0;32m~/projects/SEDflow/src/sedflow/train.py\u001b[0m in \u001b[0;36mthetas2props\u001b[0;34m(thetas_sps, redshifts)\u001b[0m\n\u001b[1;32m    136\u001b[0m     \u001b[0mlogssfr\u001b[0m \u001b[0;34m=\u001b[0m \u001b[0mnp\u001b[0m\u001b[0;34m.\u001b[0m\u001b[0mlog10\u001b[0m\u001b[0;34m(\u001b[0m\u001b[0msfr\u001b[0m\u001b[0;34m)\u001b[0m\u001b[0;34m.\u001b[0m\u001b[0mflatten\u001b[0m\u001b[0;34m(\u001b[0m\u001b[0;34m)\u001b[0m \u001b[0;34m-\u001b[0m \u001b[0mlogm\u001b[0m\u001b[0;34m\u001b[0m\u001b[0;34m\u001b[0m\u001b[0m\n\u001b[1;32m    137\u001b[0m     logz_mw = np.log10(np.array([m_nmf.Z_MW(thetas_sps[i], zred=redshifts[i])\n\u001b[0;32m--> 138\u001b[0;31m         for i in range(thetas_sps.shape[0])])).flatten()\n\u001b[0m\u001b[1;32m    139\u001b[0m     \u001b[0mtau_ism\u001b[0m \u001b[0;34m=\u001b[0m \u001b[0mthetas_sps\u001b[0m\u001b[0;34m[\u001b[0m\u001b[0;34m:\u001b[0m\u001b[0;34m,\u001b[0m\u001b[0;34m-\u001b[0m\u001b[0;36m2\u001b[0m\u001b[0;34m]\u001b[0m\u001b[0;34m\u001b[0m\u001b[0;34m\u001b[0m\u001b[0m\n\u001b[1;32m    140\u001b[0m \u001b[0;34m\u001b[0m\u001b[0m\n",
      "\u001b[0;32m~/projects/SEDflow/src/sedflow/train.py\u001b[0m in \u001b[0;36m<listcomp>\u001b[0;34m(.0)\u001b[0m\n\u001b[1;32m    136\u001b[0m     \u001b[0mlogssfr\u001b[0m \u001b[0;34m=\u001b[0m \u001b[0mnp\u001b[0m\u001b[0;34m.\u001b[0m\u001b[0mlog10\u001b[0m\u001b[0;34m(\u001b[0m\u001b[0msfr\u001b[0m\u001b[0;34m)\u001b[0m\u001b[0;34m.\u001b[0m\u001b[0mflatten\u001b[0m\u001b[0;34m(\u001b[0m\u001b[0;34m)\u001b[0m \u001b[0;34m-\u001b[0m \u001b[0mlogm\u001b[0m\u001b[0;34m\u001b[0m\u001b[0;34m\u001b[0m\u001b[0m\n\u001b[1;32m    137\u001b[0m     logz_mw = np.log10(np.array([m_nmf.Z_MW(thetas_sps[i], zred=redshifts[i])\n\u001b[0;32m--> 138\u001b[0;31m         for i in range(thetas_sps.shape[0])])).flatten()\n\u001b[0m\u001b[1;32m    139\u001b[0m     \u001b[0mtau_ism\u001b[0m \u001b[0;34m=\u001b[0m \u001b[0mthetas_sps\u001b[0m\u001b[0;34m[\u001b[0m\u001b[0;34m:\u001b[0m\u001b[0;34m,\u001b[0m\u001b[0;34m-\u001b[0m\u001b[0;36m2\u001b[0m\u001b[0;34m]\u001b[0m\u001b[0;34m\u001b[0m\u001b[0;34m\u001b[0m\u001b[0m\n\u001b[1;32m    140\u001b[0m \u001b[0;34m\u001b[0m\u001b[0m\n",
      "\u001b[0;32m~/projects/provabgs/src/provabgs/models.py\u001b[0m in \u001b[0;36mZ_MW\u001b[0;34m(self, tt, tage, zred)\u001b[0m\n\u001b[1;32m    845\u001b[0m         \u001b[0mtheta\u001b[0m \u001b[0;34m=\u001b[0m \u001b[0mself\u001b[0m\u001b[0;34m.\u001b[0m\u001b[0m_parse_theta\u001b[0m\u001b[0;34m(\u001b[0m\u001b[0mtt\u001b[0m\u001b[0;34m)\u001b[0m\u001b[0;34m\u001b[0m\u001b[0;34m\u001b[0m\u001b[0m\n\u001b[1;32m    846\u001b[0m         \u001b[0mtlb_edge\u001b[0m\u001b[0;34m,\u001b[0m \u001b[0msfh\u001b[0m \u001b[0;34m=\u001b[0m \u001b[0mself\u001b[0m\u001b[0;34m.\u001b[0m\u001b[0mSFH\u001b[0m\u001b[0;34m(\u001b[0m\u001b[0mtt\u001b[0m\u001b[0;34m,\u001b[0m \u001b[0mtage\u001b[0m\u001b[0;34m=\u001b[0m\u001b[0mtage\u001b[0m\u001b[0;34m,\u001b[0m \u001b[0mzred\u001b[0m\u001b[0;34m=\u001b[0m\u001b[0mzred\u001b[0m\u001b[0;34m)\u001b[0m \u001b[0;31m# get SFH\u001b[0m\u001b[0;34m\u001b[0m\u001b[0;34m\u001b[0m\u001b[0m\n\u001b[0;32m--> 847\u001b[0;31m         \u001b[0m_\u001b[0m\u001b[0;34m,\u001b[0m \u001b[0mzh\u001b[0m \u001b[0;34m=\u001b[0m \u001b[0mself\u001b[0m\u001b[0;34m.\u001b[0m\u001b[0mZH\u001b[0m\u001b[0;34m(\u001b[0m\u001b[0mtt\u001b[0m\u001b[0;34m,\u001b[0m \u001b[0mtage\u001b[0m\u001b[0;34m=\u001b[0m\u001b[0mtage\u001b[0m\u001b[0;34m,\u001b[0m \u001b[0mzred\u001b[0m\u001b[0;34m=\u001b[0m\u001b[0mzred\u001b[0m\u001b[0;34m)\u001b[0m\u001b[0;34m\u001b[0m\u001b[0;34m\u001b[0m\u001b[0m\n\u001b[0m\u001b[1;32m    848\u001b[0m \u001b[0;34m\u001b[0m\u001b[0m\n\u001b[1;32m    849\u001b[0m         \u001b[0;31m# mass weighted average\u001b[0m\u001b[0;34m\u001b[0m\u001b[0;34m\u001b[0m\u001b[0;34m\u001b[0m\u001b[0m\n",
      "\u001b[0;32m~/projects/provabgs/src/provabgs/models.py\u001b[0m in \u001b[0;36mZH\u001b[0;34m(self, tt, zred, tage)\u001b[0m\n\u001b[1;32m    814\u001b[0m         \u001b[0;32mif\u001b[0m \u001b[0mtage\u001b[0m \u001b[0;32mis\u001b[0m \u001b[0;32mNone\u001b[0m\u001b[0;34m:\u001b[0m\u001b[0;34m\u001b[0m\u001b[0;34m\u001b[0m\u001b[0m\n\u001b[1;32m    815\u001b[0m             \u001b[0;32massert\u001b[0m \u001b[0misinstance\u001b[0m\u001b[0;34m(\u001b[0m\u001b[0mzred\u001b[0m\u001b[0;34m,\u001b[0m \u001b[0mfloat\u001b[0m\u001b[0;34m)\u001b[0m\u001b[0;34m\u001b[0m\u001b[0;34m\u001b[0m\u001b[0m\n\u001b[0;32m--> 816\u001b[0;31m             \u001b[0mtage\u001b[0m \u001b[0;34m=\u001b[0m \u001b[0mself\u001b[0m\u001b[0;34m.\u001b[0m\u001b[0mcosmo\u001b[0m\u001b[0;34m.\u001b[0m\u001b[0mage\u001b[0m\u001b[0;34m(\u001b[0m\u001b[0mzred\u001b[0m\u001b[0;34m)\u001b[0m\u001b[0;34m.\u001b[0m\u001b[0mvalue\u001b[0m \u001b[0;31m# age in Gyr\u001b[0m\u001b[0;34m\u001b[0m\u001b[0;34m\u001b[0m\u001b[0m\n\u001b[0m\u001b[1;32m    817\u001b[0m         \u001b[0mtheta\u001b[0m \u001b[0;34m=\u001b[0m \u001b[0mself\u001b[0m\u001b[0;34m.\u001b[0m\u001b[0m_parse_theta\u001b[0m\u001b[0;34m(\u001b[0m\u001b[0mtt\u001b[0m\u001b[0;34m)\u001b[0m\u001b[0;34m\u001b[0m\u001b[0;34m\u001b[0m\u001b[0m\n\u001b[1;32m    818\u001b[0m \u001b[0;34m\u001b[0m\u001b[0m\n",
      "\u001b[0;32m~/.conda/envs/torch-env/lib/python3.7/site-packages/astropy/cosmology/core.py\u001b[0m in \u001b[0;36mage\u001b[0;34m(self, z)\u001b[0m\n\u001b[1;32m   1170\u001b[0m         \u001b[0mz_at_value\u001b[0m \u001b[0;34m:\u001b[0m \u001b[0mFind\u001b[0m \u001b[0mthe\u001b[0m \u001b[0mredshift\u001b[0m \u001b[0mcorresponding\u001b[0m \u001b[0mto\u001b[0m \u001b[0man\u001b[0m \u001b[0mage\u001b[0m\u001b[0;34m.\u001b[0m\u001b[0;34m\u001b[0m\u001b[0;34m\u001b[0m\u001b[0m\n\u001b[1;32m   1171\u001b[0m         \"\"\"\n\u001b[0;32m-> 1172\u001b[0;31m         \u001b[0;32mreturn\u001b[0m \u001b[0mself\u001b[0m\u001b[0;34m.\u001b[0m\u001b[0m_age\u001b[0m\u001b[0;34m(\u001b[0m\u001b[0mz\u001b[0m\u001b[0;34m)\u001b[0m\u001b[0;34m\u001b[0m\u001b[0;34m\u001b[0m\u001b[0m\n\u001b[0m\u001b[1;32m   1173\u001b[0m \u001b[0;34m\u001b[0m\u001b[0m\n\u001b[1;32m   1174\u001b[0m     \u001b[0;32mdef\u001b[0m \u001b[0m_age\u001b[0m\u001b[0;34m(\u001b[0m\u001b[0mself\u001b[0m\u001b[0;34m,\u001b[0m \u001b[0mz\u001b[0m\u001b[0;34m)\u001b[0m\u001b[0;34m:\u001b[0m\u001b[0;34m\u001b[0m\u001b[0;34m\u001b[0m\u001b[0m\n",
      "\u001b[0;32m~/.conda/envs/torch-env/lib/python3.7/site-packages/astropy/cosmology/core.py\u001b[0m in \u001b[0;36m_age\u001b[0;34m(self, z)\u001b[0m\n\u001b[1;32m   1187\u001b[0m           \u001b[0mThe\u001b[0m \u001b[0mage\u001b[0m \u001b[0mof\u001b[0m \u001b[0mthe\u001b[0m \u001b[0muniverse\u001b[0m \u001b[0;32min\u001b[0m \u001b[0mGyr\u001b[0m \u001b[0mat\u001b[0m \u001b[0meach\u001b[0m \u001b[0minput\u001b[0m \u001b[0mredshift\u001b[0m\u001b[0;34m.\u001b[0m\u001b[0;34m\u001b[0m\u001b[0;34m\u001b[0m\u001b[0m\n\u001b[1;32m   1188\u001b[0m         \"\"\"\n\u001b[0;32m-> 1189\u001b[0;31m         \u001b[0;32mreturn\u001b[0m \u001b[0mself\u001b[0m\u001b[0;34m.\u001b[0m\u001b[0m_integral_age\u001b[0m\u001b[0;34m(\u001b[0m\u001b[0mz\u001b[0m\u001b[0;34m)\u001b[0m\u001b[0;34m\u001b[0m\u001b[0;34m\u001b[0m\u001b[0m\n\u001b[0m\u001b[1;32m   1190\u001b[0m \u001b[0;34m\u001b[0m\u001b[0m\n\u001b[1;32m   1191\u001b[0m     \u001b[0;32mdef\u001b[0m \u001b[0m_integral_age\u001b[0m\u001b[0;34m(\u001b[0m\u001b[0mself\u001b[0m\u001b[0;34m,\u001b[0m \u001b[0mz\u001b[0m\u001b[0;34m)\u001b[0m\u001b[0;34m:\u001b[0m\u001b[0;34m\u001b[0m\u001b[0;34m\u001b[0m\u001b[0m\n",
      "\u001b[0;32m~/.conda/envs/torch-env/lib/python3.7/site-packages/astropy/cosmology/core.py\u001b[0m in \u001b[0;36m_integral_age\u001b[0;34m(self, z)\u001b[0m\n\u001b[1;32m   1211\u001b[0m         f = lambda red: quad(self._lookback_time_integrand_scalar,\n\u001b[1;32m   1212\u001b[0m                              red, np.inf)[0]\n\u001b[0;32m-> 1213\u001b[0;31m         \u001b[0;32mreturn\u001b[0m \u001b[0mself\u001b[0m\u001b[0;34m.\u001b[0m\u001b[0m_hubble_time\u001b[0m \u001b[0;34m*\u001b[0m \u001b[0mvectorize_if_needed\u001b[0m\u001b[0;34m(\u001b[0m\u001b[0mf\u001b[0m\u001b[0;34m,\u001b[0m \u001b[0mz\u001b[0m\u001b[0;34m)\u001b[0m\u001b[0;34m\u001b[0m\u001b[0;34m\u001b[0m\u001b[0m\n\u001b[0m\u001b[1;32m   1214\u001b[0m \u001b[0;34m\u001b[0m\u001b[0m\n\u001b[1;32m   1215\u001b[0m     \u001b[0;32mdef\u001b[0m \u001b[0mcritical_density\u001b[0m\u001b[0;34m(\u001b[0m\u001b[0mself\u001b[0m\u001b[0;34m,\u001b[0m \u001b[0mz\u001b[0m\u001b[0;34m)\u001b[0m\u001b[0;34m:\u001b[0m\u001b[0;34m\u001b[0m\u001b[0;34m\u001b[0m\u001b[0m\n",
      "\u001b[0;32m~/.conda/envs/torch-env/lib/python3.7/site-packages/astropy/cosmology/core.py\u001b[0m in \u001b[0;36mvectorize_if_needed\u001b[0;34m(func, *x)\u001b[0m\n\u001b[1;32m   3317\u001b[0m         \u001b[0;32mreturn\u001b[0m \u001b[0mnp\u001b[0m\u001b[0;34m.\u001b[0m\u001b[0mvectorize\u001b[0m\u001b[0;34m(\u001b[0m\u001b[0mfunc\u001b[0m\u001b[0;34m)\u001b[0m\u001b[0;34m(\u001b[0m\u001b[0;34m*\u001b[0m\u001b[0mx\u001b[0m\u001b[0;34m)\u001b[0m\u001b[0;34m\u001b[0m\u001b[0;34m\u001b[0m\u001b[0m\n\u001b[1;32m   3318\u001b[0m     \u001b[0;32melse\u001b[0m\u001b[0;34m:\u001b[0m\u001b[0;34m\u001b[0m\u001b[0;34m\u001b[0m\u001b[0m\n\u001b[0;32m-> 3319\u001b[0;31m         \u001b[0;32mreturn\u001b[0m \u001b[0mfunc\u001b[0m\u001b[0;34m(\u001b[0m\u001b[0;34m*\u001b[0m\u001b[0mx\u001b[0m\u001b[0;34m)\u001b[0m\u001b[0;34m\u001b[0m\u001b[0;34m\u001b[0m\u001b[0m\n\u001b[0m\u001b[1;32m   3320\u001b[0m \u001b[0;34m\u001b[0m\u001b[0m\n\u001b[1;32m   3321\u001b[0m \u001b[0;34m\u001b[0m\u001b[0m\n",
      "\u001b[0;32m~/.conda/envs/torch-env/lib/python3.7/site-packages/astropy/cosmology/core.py\u001b[0m in \u001b[0;36m<lambda>\u001b[0;34m(red)\u001b[0m\n\u001b[1;32m   1210\u001b[0m         \u001b[0;32mfrom\u001b[0m \u001b[0mscipy\u001b[0m\u001b[0;34m.\u001b[0m\u001b[0mintegrate\u001b[0m \u001b[0;32mimport\u001b[0m \u001b[0mquad\u001b[0m\u001b[0;34m\u001b[0m\u001b[0;34m\u001b[0m\u001b[0m\n\u001b[1;32m   1211\u001b[0m         f = lambda red: quad(self._lookback_time_integrand_scalar,\n\u001b[0;32m-> 1212\u001b[0;31m                              red, np.inf)[0]\n\u001b[0m\u001b[1;32m   1213\u001b[0m         \u001b[0;32mreturn\u001b[0m \u001b[0mself\u001b[0m\u001b[0;34m.\u001b[0m\u001b[0m_hubble_time\u001b[0m \u001b[0;34m*\u001b[0m \u001b[0mvectorize_if_needed\u001b[0m\u001b[0;34m(\u001b[0m\u001b[0mf\u001b[0m\u001b[0;34m,\u001b[0m \u001b[0mz\u001b[0m\u001b[0;34m)\u001b[0m\u001b[0;34m\u001b[0m\u001b[0;34m\u001b[0m\u001b[0m\n\u001b[1;32m   1214\u001b[0m \u001b[0;34m\u001b[0m\u001b[0m\n",
      "\u001b[0;32m~/.conda/envs/torch-env/lib/python3.7/site-packages/scipy/integrate/quadpack.py\u001b[0m in \u001b[0;36mquad\u001b[0;34m(func, a, b, args, full_output, epsabs, epsrel, limit, points, weight, wvar, wopts, maxp1, limlst)\u001b[0m\n\u001b[1;32m    350\u001b[0m     \u001b[0;32mif\u001b[0m \u001b[0mweight\u001b[0m \u001b[0;32mis\u001b[0m \u001b[0;32mNone\u001b[0m\u001b[0;34m:\u001b[0m\u001b[0;34m\u001b[0m\u001b[0;34m\u001b[0m\u001b[0m\n\u001b[1;32m    351\u001b[0m         retval = _quad(func, a, b, args, full_output, epsabs, epsrel, limit,\n\u001b[0;32m--> 352\u001b[0;31m                        points)\n\u001b[0m\u001b[1;32m    353\u001b[0m     \u001b[0;32melse\u001b[0m\u001b[0;34m:\u001b[0m\u001b[0;34m\u001b[0m\u001b[0;34m\u001b[0m\u001b[0m\n\u001b[1;32m    354\u001b[0m         \u001b[0;32mif\u001b[0m \u001b[0mpoints\u001b[0m \u001b[0;32mis\u001b[0m \u001b[0;32mnot\u001b[0m \u001b[0;32mNone\u001b[0m\u001b[0;34m:\u001b[0m\u001b[0;34m\u001b[0m\u001b[0;34m\u001b[0m\u001b[0m\n",
      "\u001b[0;32m~/.conda/envs/torch-env/lib/python3.7/site-packages/scipy/integrate/quadpack.py\u001b[0m in \u001b[0;36m_quad\u001b[0;34m(func, a, b, args, full_output, epsabs, epsrel, limit, points)\u001b[0m\n\u001b[1;32m    463\u001b[0m             \u001b[0;32mreturn\u001b[0m \u001b[0m_quadpack\u001b[0m\u001b[0;34m.\u001b[0m\u001b[0m_qagse\u001b[0m\u001b[0;34m(\u001b[0m\u001b[0mfunc\u001b[0m\u001b[0;34m,\u001b[0m\u001b[0ma\u001b[0m\u001b[0;34m,\u001b[0m\u001b[0mb\u001b[0m\u001b[0;34m,\u001b[0m\u001b[0margs\u001b[0m\u001b[0;34m,\u001b[0m\u001b[0mfull_output\u001b[0m\u001b[0;34m,\u001b[0m\u001b[0mepsabs\u001b[0m\u001b[0;34m,\u001b[0m\u001b[0mepsrel\u001b[0m\u001b[0;34m,\u001b[0m\u001b[0mlimit\u001b[0m\u001b[0;34m)\u001b[0m\u001b[0;34m\u001b[0m\u001b[0;34m\u001b[0m\u001b[0m\n\u001b[1;32m    464\u001b[0m         \u001b[0;32melse\u001b[0m\u001b[0;34m:\u001b[0m\u001b[0;34m\u001b[0m\u001b[0;34m\u001b[0m\u001b[0m\n\u001b[0;32m--> 465\u001b[0;31m             \u001b[0;32mreturn\u001b[0m \u001b[0m_quadpack\u001b[0m\u001b[0;34m.\u001b[0m\u001b[0m_qagie\u001b[0m\u001b[0;34m(\u001b[0m\u001b[0mfunc\u001b[0m\u001b[0;34m,\u001b[0m\u001b[0mbound\u001b[0m\u001b[0;34m,\u001b[0m\u001b[0minfbounds\u001b[0m\u001b[0;34m,\u001b[0m\u001b[0margs\u001b[0m\u001b[0;34m,\u001b[0m\u001b[0mfull_output\u001b[0m\u001b[0;34m,\u001b[0m\u001b[0mepsabs\u001b[0m\u001b[0;34m,\u001b[0m\u001b[0mepsrel\u001b[0m\u001b[0;34m,\u001b[0m\u001b[0mlimit\u001b[0m\u001b[0;34m)\u001b[0m\u001b[0;34m\u001b[0m\u001b[0;34m\u001b[0m\u001b[0m\n\u001b[0m\u001b[1;32m    466\u001b[0m     \u001b[0;32melse\u001b[0m\u001b[0;34m:\u001b[0m\u001b[0;34m\u001b[0m\u001b[0;34m\u001b[0m\u001b[0m\n\u001b[1;32m    467\u001b[0m         \u001b[0;32mif\u001b[0m \u001b[0minfbounds\u001b[0m \u001b[0;34m!=\u001b[0m \u001b[0;36m0\u001b[0m\u001b[0;34m:\u001b[0m\u001b[0;34m\u001b[0m\u001b[0;34m\u001b[0m\u001b[0m\n",
      "\u001b[0;32m~/.conda/envs/torch-env/lib/python3.7/site-packages/astropy/cosmology/core.py\u001b[0m in \u001b[0;36m_lookback_time_integrand_scalar\u001b[0;34m(self, z)\u001b[0m\n\u001b[1;32m    964\u001b[0m \u001b[0;34m\u001b[0m\u001b[0m\n\u001b[1;32m    965\u001b[0m         \u001b[0margs\u001b[0m \u001b[0;34m=\u001b[0m \u001b[0mself\u001b[0m\u001b[0;34m.\u001b[0m\u001b[0m_inv_efunc_scalar_args\u001b[0m\u001b[0;34m\u001b[0m\u001b[0;34m\u001b[0m\u001b[0m\n\u001b[0;32m--> 966\u001b[0;31m         \u001b[0;32mreturn\u001b[0m \u001b[0mself\u001b[0m\u001b[0;34m.\u001b[0m\u001b[0m_inv_efunc_scalar\u001b[0m\u001b[0;34m(\u001b[0m\u001b[0mz\u001b[0m\u001b[0;34m,\u001b[0m \u001b[0;34m*\u001b[0m\u001b[0margs\u001b[0m\u001b[0;34m)\u001b[0m \u001b[0;34m/\u001b[0m \u001b[0;34m(\u001b[0m\u001b[0;36m1.0\u001b[0m \u001b[0;34m+\u001b[0m \u001b[0mz\u001b[0m\u001b[0;34m)\u001b[0m\u001b[0;34m\u001b[0m\u001b[0;34m\u001b[0m\u001b[0m\n\u001b[0m\u001b[1;32m    967\u001b[0m \u001b[0;34m\u001b[0m\u001b[0m\n\u001b[1;32m    968\u001b[0m     \u001b[0;32mdef\u001b[0m \u001b[0mlookback_time_integrand\u001b[0m\u001b[0;34m(\u001b[0m\u001b[0mself\u001b[0m\u001b[0;34m,\u001b[0m \u001b[0mz\u001b[0m\u001b[0;34m)\u001b[0m\u001b[0;34m:\u001b[0m\u001b[0;34m\u001b[0m\u001b[0;34m\u001b[0m\u001b[0m\n",
      "\u001b[0;31mKeyboardInterrupt\u001b[0m: "
     ]
    }
   ],
   "source": [
    "posts = []\n",
    "props = []\n",
    "fails = []\n",
    "for ichunk in range(2):\n",
    "    fpost = os.path.join(Train.data_dir(), 'anpe_thetaunt_magsigz.%s.%ix%i.%i.nsa%iof34.samples.npy' % (sample, nhidden, nblocks, itrain, ichunk))\n",
    "    print(fpost)\n",
    "    _post = np.load(fpost)\n",
    "    fail = (np.sum(np.sum(_post, axis=2), axis=1) == 0)\n",
    "    \n",
    "    igals = np.arange(y_nsa.shape[0])[ichunk*1000:(ichunk+1)*1000][fail]\n",
    "    iigals = np.arange(_post.shape[0])[fail]\n",
    "\n",
    "    post = np.zeros((_post.shape[0], _post.shape[1], 12))\n",
    "    post[~fail,:] = prior.transform(_post[~fail])\n",
    "    \n",
    "    if np.sum(fail) > 0: \n",
    "        for iigal, igal in zip(iigals, igals): \n",
    "            fgal = os.path.join(Train.data_dir(), 'nsa_fail', 'mcmc.nsa.%i.hdf5' % igal)\n",
    "            if os.path.isfile(fgal): \n",
    "                gal = h5py.File(fgal, 'r')\n",
    "                chain_i = Train.flatten_chain(gal['mcmc_chain'][...][2000:,:,:])[-10000:,:]\n",
    "                post[iigal,:,:] = chain_i\n",
    "    fails.append(fail)\n",
    "    posts.append(post)\n",
    "    \n",
    "    z_chunk = y_nsa[:,-1][np.arange(y_nsa.shape[0])[ichunk*1000:(ichunk+1)*1000]]\n",
    "    \n",
    "    prop = np.zeros((post.shape[0], post.shape[1], 4))\n",
    "    for ii in range(post.shape[0]): \n",
    "        prop[ii,:,:] = Train.thetas2props(post[ii,:], np.repeat(z_chunk[ii], post[ii,:].shape[0]).astype(float))\n",
    "    \n",
    "posts = np.concatenate(posts)\n",
    "fails = np.concatenate(fails)"
   ]
  },
  {
   "cell_type": "code",
   "execution_count": null,
   "metadata": {},
   "outputs": [],
   "source": [
    "fsedflow = h5py.File(os.path.join(Train.data_dir(), 'nsa.sedflow.hdf5'), 'w')\n",
    "\n",
    "params = ['logMstar', 'beta1', 'beta2', 'beta3', 'beta4', 'fburst', 'tburst', 'log_gamma1', 'log_gamma2', 'dust1', 'dust2', 'dust_index']\n",
    "\n",
    "for i, param in enumerate(params): \n",
    "    fsedflow.create_dataset(params, data=posts[:,:,i])\n",
    "fsedflow.close()"
   ]
  },
  {
   "cell_type": "code",
   "execution_count": null,
   "metadata": {},
   "outputs": [],
   "source": []
  }
 ],
 "metadata": {
  "kernelspec": {
   "display_name": "torch-env",
   "language": "python",
   "name": "torch-env"
  },
  "language_info": {
   "codemirror_mode": {
    "name": "ipython",
    "version": 3
   },
   "file_extension": ".py",
   "mimetype": "text/x-python",
   "name": "python",
   "nbconvert_exporter": "python",
   "pygments_lexer": "ipython3",
   "version": "3.7.10"
  }
 },
 "nbformat": 4,
 "nbformat_minor": 2
}
