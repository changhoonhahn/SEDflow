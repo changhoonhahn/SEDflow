{
 "cells": [
  {
   "cell_type": "markdown",
   "metadata": {},
   "source": [
    "# Figure that illustrates the training data in comparison to NSA"
   ]
  },
  {
   "cell_type": "code",
   "execution_count": 1,
   "metadata": {},
   "outputs": [],
   "source": [
    "import numpy as np \n",
    "from sedflow import obs as Obs\n",
    "from sedflow import train as Train"
   ]
  },
  {
   "cell_type": "code",
   "execution_count": 2,
   "metadata": {},
   "outputs": [],
   "source": [
    "from IPython.display import IFrame\n",
    "# --- plotting --- \n",
    "import corner as DFM\n",
    "import matplotlib as mpl\n",
    "import matplotlib.pyplot as plt\n",
    "mpl.use('PDF')\n",
    "mpl.rcParams['text.usetex'] = True\n",
    "mpl.rcParams['font.family'] = 'serif'\n",
    "mpl.rcParams['axes.linewidth'] = 1.5\n",
    "mpl.rcParams['axes.xmargin'] = 1\n",
    "mpl.rcParams['xtick.labelsize'] = 'x-large'\n",
    "mpl.rcParams['xtick.major.size'] = 5\n",
    "mpl.rcParams['xtick.major.width'] = 1.5\n",
    "mpl.rcParams['ytick.labelsize'] = 'x-large'\n",
    "mpl.rcParams['ytick.major.size'] = 5\n",
    "mpl.rcParams['ytick.major.width'] = 1.5\n",
    "mpl.rcParams['legend.frameon'] = False"
   ]
  },
  {
   "cell_type": "markdown",
   "metadata": {},
   "source": [
    "## read in training data"
   ]
  },
  {
   "cell_type": "code",
   "execution_count": 3,
   "metadata": {},
   "outputs": [],
   "source": [
    "# x = theta_sps\n",
    "# y = [u, g, r, i, z, sigma_u, sigma_g, sigma_r, sigma_i, sigma_z, z]\n",
    "x_train, y_train = Train.load_data('train', version=1, sample='flow', params='thetas_sps')"
   ]
  },
  {
   "cell_type": "code",
   "execution_count": 4,
   "metadata": {},
   "outputs": [],
   "source": [
    "train_data = np.vstack([x_train[:,0], x_train[:,1], y_train[:,-1], y_train[:,1], y_train[:,2], y_train[:,4]]).T"
   ]
  },
  {
   "cell_type": "markdown",
   "metadata": {},
   "source": [
    "## read in NSA data"
   ]
  },
  {
   "cell_type": "code",
   "execution_count": 5,
   "metadata": {},
   "outputs": [],
   "source": [
    "nsa, _ = Obs.NSA()"
   ]
  },
  {
   "cell_type": "code",
   "execution_count": 6,
   "metadata": {},
   "outputs": [
    {
     "name": "stderr",
     "output_type": "stream",
     "text": [
      "/home/chhahn/projects/SEDflow/src/sedflow/train.py:106: RuntimeWarning: invalid value encountered in log10\n",
      "  return 22.5 - 2.5 * np.log10(flux)\n"
     ]
    }
   ],
   "source": [
    "flux_nsa = nsa['NMGY'][:,2:]\n",
    "ivar_nsa = nsa['NMGY_IVAR'][:,2:]\n",
    "\n",
    "zred_nsa = nsa['Z']\n",
    "\n",
    "mags_nsa = Train.flux2mag(flux_nsa)\n",
    "sigs_nsa = Train.sigma_flux2mag(ivar_nsa**-0.5, flux_nsa)"
   ]
  },
  {
   "cell_type": "code",
   "execution_count": 7,
   "metadata": {},
   "outputs": [],
   "source": [
    "i_nsa = 25"
   ]
  },
  {
   "cell_type": "code",
   "execution_count": 8,
   "metadata": {},
   "outputs": [],
   "source": [
    "obs_data = np.vstack([np.ones(len(mags_nsa)), np.ones(len(mags_nsa)), zred_nsa, mags_nsa[:,1], mags_nsa[:,2], mags_nsa[:,4]]).T"
   ]
  },
  {
   "cell_type": "code",
   "execution_count": 9,
   "metadata": {},
   "outputs": [],
   "source": [
    "ranges = [(8., 12.5), (0., 1.), (0., 0.06), (10., 22), (10., 22), (10., 22.)]"
   ]
  },
  {
   "cell_type": "code",
   "execution_count": 14,
   "metadata": {},
   "outputs": [],
   "source": [
    "fig = DFM.corner(train_data[::100], \n",
    "                 labels=[r'$\\log M_*$', r'$\\beta_1$', r'redshift', r'$g$', r'$r$', r'$z$'], \n",
    "                 label_kwargs={'fontsize': 25}, \n",
    "                 hist_kwargs={'density': True},\n",
    "                 range=ranges, \n",
    "                 hist2d_kwargs={'levels': [0.68, 0.95]})\n",
    "DFM.overplot_lines(fig, [None, None, zred_nsa[i_nsa], mags_nsa[i_nsa,1], mags_nsa[i_nsa,2], mags_nsa[i_nsa,4]], color='C3')\n",
    "ndim = int(np.sqrt(len(fig.axes)))\n",
    "axes = np.array(fig.axes).reshape((ndim, ndim))\n",
    "\n",
    "# Loop over the diagonal\n",
    "for i in range(ndim):\n",
    "    if i > 1: \n",
    "        ax = axes[i, i]\n",
    "        h = ax.hist(obs_data[:,i], color='C0', density=True, range=ranges[i], histtype='stepfilled', alpha=0.5, bins=20)\n",
    "        ax.set_ylim(0., 1.1*h[0].max())\n",
    "\n",
    "# Loop over the histograms\n",
    "for yi in range(ndim):\n",
    "    for xi in range(yi):\n",
    "        if xi > 1 and yi > 1: \n",
    "            ax = axes[yi, xi]\n",
    "            ax.scatter(obs_data[:,xi], obs_data[:,yi], color='C0', s=1, rasterized=True)\n",
    "            #ax.scatter(obs_data[igals,xi], obs_data[igals,yi], color='C1', s=3, rasterized=True)\n",
    "            #DFM.hist2d(data_set[:,xi], data_set[:,yi], color='C0', \n",
    "            #           range=[ranges[xi], ranges[yi]], \n",
    "            #           levels=[0.68, 0.95, 0.99], \n",
    "            #           plot_datapoints=False, \n",
    "            #           plot_density=False, \n",
    "            #           ax=ax)\n",
    "\n",
    "\n",
    "ax = axes[2, ndim-2]\n",
    "ax.fill_between([], [], [], color='k', label='Training Set')\n",
    "ax.fill_between([], [], [], color='C0', label='NSA Catalog')\n",
    "ax.legend(handletextpad=0.2, markerscale=10, fontsize=25)\n",
    "fig.savefig('paper/figs/training.pdf', bbox_inches='tight')"
   ]
  },
  {
   "cell_type": "code",
   "execution_count": 15,
   "metadata": {},
   "outputs": [
    {
     "data": {
      "text/html": [
       "\n",
       "        <iframe\n",
       "            width=\"600\"\n",
       "            height=\"600\"\n",
       "            src=\"paper/figs/training.pdf\"\n",
       "            frameborder=\"0\"\n",
       "            allowfullscreen\n",
       "        ></iframe>\n",
       "        "
      ],
      "text/plain": [
       "<IPython.lib.display.IFrame at 0x7fc4fddcfa50>"
      ]
     },
     "execution_count": 15,
     "metadata": {},
     "output_type": "execute_result"
    }
   ],
   "source": [
    "IFrame(\"paper/figs/training.pdf\", width=600, height=600)"
   ]
  },
  {
   "cell_type": "code",
   "execution_count": null,
   "metadata": {},
   "outputs": [],
   "source": []
  }
 ],
 "metadata": {
  "kernelspec": {
   "display_name": "torch-env",
   "language": "python",
   "name": "torch-env"
  },
  "language_info": {
   "codemirror_mode": {
    "name": "ipython",
    "version": 3
   },
   "file_extension": ".py",
   "mimetype": "text/x-python",
   "name": "python",
   "nbconvert_exporter": "python",
   "pygments_lexer": "ipython3",
   "version": "3.7.10"
  }
 },
 "nbformat": 4,
 "nbformat_minor": 2
}
