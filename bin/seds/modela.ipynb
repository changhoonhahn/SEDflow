{
 "cells": [
  {
   "cell_type": "markdown",
   "id": "0298dce5-e61b-437a-8675-3b01f4e8d5c0",
   "metadata": {},
   "source": [
    "# Model A"
   ]
  },
  {
   "cell_type": "code",
   "execution_count": 1,
   "id": "f5ede160-5fa2-4001-9486-13f5cd3cbb03",
   "metadata": {
    "tags": []
   },
   "outputs": [
    {
     "name": "stderr",
     "output_type": "stream",
     "text": [
      "/global/homes/c/chahah/.conda/envs/gqp/lib/python3.7/site-packages/tqdm/auto.py:21: TqdmWarning: IProgress not found. Please update jupyter and ipywidgets. See https://ipywidgets.readthedocs.io/en/stable/user_install.html\n",
      "  from .autonotebook import tqdm as notebook_tqdm\n"
     ]
    }
   ],
   "source": [
    "import os,sys\n",
    "import numpy as np\n",
    "# --- provabgs --- \n",
    "from provabgs import infer as Infer\n",
    "from provabgs import models as Models"
   ]
  },
  {
   "cell_type": "code",
   "execution_count": 2,
   "id": "5f532f0f-c798-4640-9ae4-bc805191141f",
   "metadata": {
    "tags": []
   },
   "outputs": [
    {
     "name": "stderr",
     "output_type": "stream",
     "text": [
      "\n",
      "Bad key text.latex.preview in file /global/homes/c/chahah/.conda/envs/gqp/lib/python3.7/site-packages/matplotlib/mpl-data/stylelib/_classic_test.mplstyle, line 123 ('text.latex.preview : False')\n",
      "You probably need to get an updated matplotlibrc file from\n",
      "https://github.com/matplotlib/matplotlib/blob/v3.5.3/matplotlibrc.template\n",
      "or from the matplotlib source distribution\n",
      "\n",
      "Bad key mathtext.fallback_to_cm in file /global/homes/c/chahah/.conda/envs/gqp/lib/python3.7/site-packages/matplotlib/mpl-data/stylelib/_classic_test.mplstyle, line 155 ('mathtext.fallback_to_cm : True  # When True, use symbols from the Computer Modern')\n",
      "You probably need to get an updated matplotlibrc file from\n",
      "https://github.com/matplotlib/matplotlib/blob/v3.5.3/matplotlibrc.template\n",
      "or from the matplotlib source distribution\n",
      "\n",
      "Bad key savefig.jpeg_quality in file /global/homes/c/chahah/.conda/envs/gqp/lib/python3.7/site-packages/matplotlib/mpl-data/stylelib/_classic_test.mplstyle, line 418 ('savefig.jpeg_quality: 95       # when a jpeg is saved, the default quality parameter.')\n",
      "You probably need to get an updated matplotlibrc file from\n",
      "https://github.com/matplotlib/matplotlib/blob/v3.5.3/matplotlibrc.template\n",
      "or from the matplotlib source distribution\n",
      "\n",
      "Bad key keymap.all_axes in file /global/homes/c/chahah/.conda/envs/gqp/lib/python3.7/site-packages/matplotlib/mpl-data/stylelib/_classic_test.mplstyle, line 466 ('keymap.all_axes : a                 # enable all axes')\n",
      "You probably need to get an updated matplotlibrc file from\n",
      "https://github.com/matplotlib/matplotlib/blob/v3.5.3/matplotlibrc.template\n",
      "or from the matplotlib source distribution\n",
      "\n",
      "Bad key animation.avconv_path in file /global/homes/c/chahah/.conda/envs/gqp/lib/python3.7/site-packages/matplotlib/mpl-data/stylelib/_classic_test.mplstyle, line 477 ('animation.avconv_path: avconv     # Path to avconv binary. Without full path')\n",
      "You probably need to get an updated matplotlibrc file from\n",
      "https://github.com/matplotlib/matplotlib/blob/v3.5.3/matplotlibrc.template\n",
      "or from the matplotlib source distribution\n",
      "\n",
      "Bad key animation.avconv_args in file /global/homes/c/chahah/.conda/envs/gqp/lib/python3.7/site-packages/matplotlib/mpl-data/stylelib/_classic_test.mplstyle, line 479 ('animation.avconv_args:            # Additional arguments to pass to avconv')\n",
      "You probably need to get an updated matplotlibrc file from\n",
      "https://github.com/matplotlib/matplotlib/blob/v3.5.3/matplotlibrc.template\n",
      "or from the matplotlib source distribution\n"
     ]
    }
   ],
   "source": [
    "# --- plotting ---\n",
    "import matplotlib as mpl\n",
    "import matplotlib.pyplot as plt\n",
    "#mpl.rcParams['text.usetex'] = True\n",
    "#mpl.rcParams['font.family'] = 'serif'\n",
    "mpl.rcParams['axes.linewidth'] = 1.5\n",
    "mpl.rcParams['axes.xmargin'] = 1\n",
    "mpl.rcParams['xtick.labelsize'] = 'x-large'\n",
    "mpl.rcParams['xtick.major.size'] = 5\n",
    "mpl.rcParams['xtick.major.width'] = 1.5\n",
    "mpl.rcParams['ytick.labelsize'] = 'x-large'\n",
    "mpl.rcParams['ytick.major.size'] = 5\n",
    "mpl.rcParams['ytick.major.width'] = 1.5\n",
    "mpl.rcParams['legend.frameon'] = False"
   ]
  },
  {
   "cell_type": "code",
   "execution_count": 3,
   "id": "980c3b0a-900e-4545-9e85-abeef3bdfbf0",
   "metadata": {
    "tags": []
   },
   "outputs": [
    {
     "name": "stdout",
     "output_type": "stream",
     "text": [
      "input parameters : logmstar, beta1_sfh, beta2_sfh, beta3_sfh, beta4_sfh, fburst, tburst, gamma1_zh, gamma2_zh, dust1, dust2, dust_index\n"
     ]
    }
   ],
   "source": [
    "# SPS parameter priors \n",
    "prior_sps = Infer.load_priors([\n",
    "    Infer.UniformPrior(7., 12.5, label='sed'),\n",
    "    Infer.FlatDirichletPrior(4, label='sed'),           # flat dirichilet priors\n",
    "    Infer.UniformPrior(0., 1., label='sed'),            # burst fraction\n",
    "    Infer.UniformPrior(1e-2, 13.27, label='sed'),       # tburst\n",
    "    Infer.LogUniformPrior(4.5e-5, 1.5e-2, label='sed'), # log uniform priors on ZH coeff\n",
    "    Infer.LogUniformPrior(4.5e-5, 1.5e-2, label='sed'), # log uniform priors on ZH coeff\n",
    "    Infer.UniformPrior(0., 3., label='sed'),            # uniform priors on dust1\n",
    "    Infer.UniformPrior(0., 3., label='sed'),            # uniform priors on dust2\n",
    "    Infer.UniformPrior(-2., 1., label='sed')            # uniform priors on dust_index\n",
    "])\n",
    "\n",
    "# SPS model \n",
    "m_sps = Models.NMF(burst=True, emulator=False)"
   ]
  },
  {
   "cell_type": "code",
   "execution_count": 6,
   "id": "8eb81c77-ccef-4722-99e0-f46393b2ee0b",
   "metadata": {
    "tags": []
   },
   "outputs": [],
   "source": [
    "Nsample = 1000\n",
    "thetas_sps  = np.array([prior_sps.transform(prior_sps.sample()) for i in range(Nsample)])\n",
    "thetas_unt  = prior_sps.untransform(thetas_sps)\n",
    "redshifts   = np.random.uniform(0, 0.06, Nsample) \n",
    "thetas      = np.concatenate([thetas_sps, np.atleast_2d(redshifts).T], axis=1)"
   ]
  },
  {
   "cell_type": "code",
   "execution_count": 7,
   "id": "85843bfb-bad0-454e-9a8b-7097ae66852c",
   "metadata": {
    "tags": []
   },
   "outputs": [],
   "source": [
    "def SED(tt): \n",
    "    return m_sps.sed(tt[:-1], tt[-1]) "
   ]
  },
  {
   "cell_type": "code",
   "execution_count": 19,
   "id": "95192d01-bdaa-4d77-bbab-f16ca80d792e",
   "metadata": {
    "tags": []
   },
   "outputs": [],
   "source": [
    "ws, fs = [], [] \n",
    "for i in range(10): \n",
    "    w, f = SED(thetas[i])\n",
    "    ws.append(w)\n",
    "    fs.append(f)"
   ]
  },
  {
   "cell_type": "code",
   "execution_count": 59,
   "id": "d2135d12-c4a9-42d6-a29c-b9ebf5ade9b6",
   "metadata": {
    "tags": []
   },
   "outputs": [
    {
     "name": "stdout",
     "output_type": "stream",
     "text": [
      "214 ms ± 6.27 ms per loop (mean ± std. dev. of 7 runs, 1 loop each)\n"
     ]
    }
   ],
   "source": [
    "%timeit w, f = SED(thetas[0])"
   ]
  },
  {
   "cell_type": "code",
   "execution_count": 38,
   "id": "960a4ca4-7432-4b41-be3e-01f1e3296f62",
   "metadata": {
    "tags": []
   },
   "outputs": [
    {
     "data": {
      "text/plain": [
       "(0.0, 500.0)"
      ]
     },
     "execution_count": 38,
     "metadata": {},
     "output_type": "execute_result"
    },
    {
     "data": {
      "image/png": "[encoded data removed]",
      "text/plain": [
       "<Figure size 720x216 with 1 Axes>"
      ]
     },
     "metadata": {
      "needs_background": "light"
     },
     "output_type": "display_data"
    }
   ],
   "source": [
    "fig = plt.figure(figsize=(10,3))\n",
    "sub = fig.add_subplot(111)\n",
    "for i in range(10): \n",
    "    sub.plot(ws[i], fs[i])#/ws[i])\n",
    "sub.set_xlabel('wavelength', fontsize=20)\n",
    "sub.set_xlim(1e3, 300000)\n",
    "#sub.set_xscale('log')\n",
    "sub.set_ylabel('$f_\\lambda$', fontsize=20)\n",
    "sub.set_ylim(0., 500)\n",
    "#sub.set_yscale(\"log\")"
   ]
  }
 ],
 "metadata": {
  "kernelspec": {
   "display_name": "gqp",
   "language": "python",
   "name": "gqp"
  },
  "language_info": {
   "codemirror_mode": {
    "name": "ipython",
    "version": 3
   },
   "file_extension": ".py",
   "mimetype": "text/x-python",
   "name": "python",
   "nbconvert_exporter": "python",
   "pygments_lexer": "ipython3",
   "version": "3.7.12"
  }
 },
 "nbformat": 4,
 "nbformat_minor": 5
}
