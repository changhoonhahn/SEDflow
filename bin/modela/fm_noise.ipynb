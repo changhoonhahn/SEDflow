{
 "cells": [
  {
   "cell_type": "code",
   "execution_count": 1,
   "id": "e15e8f3b-cc6e-4029-8199-b3200555788e",
   "metadata": {
    "tags": []
   },
   "outputs": [],
   "source": [
    "import os,sys\n",
    "import numpy as np"
   ]
  },
  {
   "cell_type": "code",
   "execution_count": 4,
   "id": "394dfd41-6040-49b1-87f9-a9a9a9e1eeb9",
   "metadata": {
    "tags": []
   },
   "outputs": [],
   "source": [
    "# --- plotting ---\n",
    "import matplotlib as mpl\n",
    "import matplotlib.pyplot as plt\n",
    "#mpl.rcParams['text.usetex'] = True\n",
    "#mpl.rcParams['font.family'] = 'serif'\n",
    "mpl.rcParams['axes.linewidth'] = 1.5\n",
    "mpl.rcParams['axes.xmargin'] = 1\n",
    "mpl.rcParams['xtick.labelsize'] = 'x-large'\n",
    "mpl.rcParams['xtick.major.size'] = 5\n",
    "mpl.rcParams['xtick.major.width'] = 1.5\n",
    "mpl.rcParams['ytick.labelsize'] = 'x-large'\n",
    "mpl.rcParams['ytick.major.size'] = 5\n",
    "mpl.rcParams['ytick.major.width'] = 1.5\n",
    "mpl.rcParams['legend.frameon'] = False"
   ]
  },
  {
   "cell_type": "markdown",
   "id": "4cae372f-cd77-4c7b-9f11-9e04dbf52c96",
   "metadata": {},
   "source": [
    "# $ugrizJ$ photometry\n"
   ]
  },
  {
   "cell_type": "code",
   "execution_count": 29,
   "id": "0fa04824-0680-49ef-9156-3ccecc962796",
   "metadata": {
    "tags": []
   },
   "outputs": [],
   "source": [
    "band = 'ugrizJ'\n",
    "for seed in range(10): \n",
    "    nmgy = np.load(os.path.join(dat_dir, 'train_sed.%s.%i.nmgy_%s.npy' % (name, seed, band)))[:,0,:]\n",
    "\n",
    "    # uniformly sample sigma_nanomaggies \n",
    "    sig = np.random.uniform(size=nmgy.shape)\n",
    "    sig *= (0.2 - 0.005)\n",
    "    sig += 0.005\n",
    "    np.save(os.path.join(dat_dir, 'train_sed.%s.%i.sig_nmgy_%s.npy' % (name, seed, band)), sig)\n",
    "\n",
    "    nmgy = np.clip(nmgy + np.random.normal(size=nmgy.shape) * sig, 1e-2, None)\n",
    "    np.save(os.path.join(dat_dir, 'train_sed.%s.%i.nmgy_noisy_%s.npy' % (name, seed, band)), nmgy)"
   ]
  },
  {
   "cell_type": "code",
   "execution_count": 5,
   "id": "78b3ce87-b221-4d7d-8bc7-f14391771c04",
   "metadata": {
    "tags": []
   },
   "outputs": [],
   "source": [
    "band = 'ugrizJ'\n",
    "for seed in [999]: \n",
    "    nmgy = np.load(os.path.join(dat_dir, 'train_sed.%s.%i.nmgy_%s.npy' % (name, seed, band)))[:,0,:]\n",
    "\n",
    "    # uniformly sample sigma_nanomaggies \n",
    "    sig = np.random.uniform(size=nmgy.shape)\n",
    "    sig *= (0.2 - 0.005)\n",
    "    sig += 0.005\n",
    "    np.save(os.path.join(dat_dir, 'train_sed.%s.%i.sig_nmgy_%s.npy' % (name, seed, band)), sig)\n",
    "\n",
    "    nmgy = np.clip(nmgy + np.random.normal(size=nmgy.shape) * sig, 1e-2, None)\n",
    "    np.save(os.path.join(dat_dir, 'train_sed.%s.%i.nmgy_noisy_%s.npy' % (name, seed, band)), nmgy)"
   ]
  },
  {
   "cell_type": "markdown",
   "id": "1c79213c-e178-47e0-9aba-7f9f3b71e277",
   "metadata": {},
   "source": [
    "# $grzW1W2$ photometry"
   ]
  },
  {
   "cell_type": "code",
   "execution_count": 28,
   "id": "3ee2696d-6667-4e6a-b104-e1e632f8361d",
   "metadata": {
    "tags": []
   },
   "outputs": [],
   "source": [
    "band = 'grzW1W2'\n",
    "for seed in range(10): \n",
    "    nmgy = np.load(os.path.join(dat_dir, 'train_sed.%s.%i.nmgy_%s.npy' % (name, seed, band)))[:,0,:]\n",
    "\n",
    "    # uniformly sample sigma_nanomaggies \n",
    "    sig = np.random.uniform(size=nmgy.shape)\n",
    "    sig[:,0] *= (5. - 0.01)\n",
    "    sig[:,1] *= (20. - 0.019)\n",
    "    sig[:,2] *= (15. - 0.047)\n",
    "    sig[:,3] *= (10. - 0.11)\n",
    "    sig[:,4] *= (15. - 0.23)\n",
    "    sig += np.array([0.01, 0.019, 0.047, 0.11, 0.23])[None,:]\n",
    "    np.save(os.path.join(dat_dir, 'train_sed.%s.%i.sig_nmgy_%s.npy' % (name, seed, band)), sig)\n",
    "\n",
    "    nmgy = np.clip(nmgy + np.random.normal(size=nmgy.shape) * sig, 1e-2, None)\n",
    "    np.save(os.path.join(dat_dir, 'train_sed.%s.%i.nmgy_noisy_%s.npy' % (name, seed, band)), nmgy)"
   ]
  },
  {
   "cell_type": "code",
   "execution_count": 6,
   "id": "2cd73d99-a50b-44f6-b81c-e2b117d0a0a7",
   "metadata": {
    "tags": []
   },
   "outputs": [],
   "source": [
    "band = 'grzW1W2'\n",
    "for seed in [999]: \n",
    "    nmgy = np.load(os.path.join(dat_dir, 'train_sed.%s.%i.nmgy_%s.npy' % (name, seed, band)))[:,0,:]\n",
    "\n",
    "    # uniformly sample sigma_nanomaggies \n",
    "    sig = np.random.uniform(size=nmgy.shape)\n",
    "    sig[:,0] *= (5. - 0.01)\n",
    "    sig[:,1] *= (20. - 0.019)\n",
    "    sig[:,2] *= (15. - 0.047)\n",
    "    sig[:,3] *= (10. - 0.11)\n",
    "    sig[:,4] *= (15. - 0.23)\n",
    "    sig += np.array([0.01, 0.019, 0.047, 0.11, 0.23])[None,:]\n",
    "    np.save(os.path.join(dat_dir, 'train_sed.%s.%i.sig_nmgy_%s.npy' % (name, seed, band)), sig)\n",
    "\n",
    "    nmgy = np.clip(nmgy + np.random.normal(size=nmgy.shape) * sig, 1e-2, None)\n",
    "    np.save(os.path.join(dat_dir, 'train_sed.%s.%i.nmgy_noisy_%s.npy' % (name, seed, band)), nmgy)"
   ]
  },
  {
   "cell_type": "code",
   "execution_count": null,
   "id": "c8e36368-c657-4c77-bdb1-556ec79d5f42",
   "metadata": {},
   "outputs": [],
   "source": []
  }
 ],
 "metadata": {
  "kernelspec": {
   "display_name": "gqp",
   "language": "python",
   "name": "gqp"
  },
  "language_info": {
   "codemirror_mode": {
    "name": "ipython",
    "version": 3
   },
   "file_extension": ".py",
   "mimetype": "text/x-python",
   "name": "python",
   "nbconvert_exporter": "python",
   "pygments_lexer": "ipython3",
   "version": "3.7.12"
  }
 },
 "nbformat": 4,
 "nbformat_minor": 5
}
